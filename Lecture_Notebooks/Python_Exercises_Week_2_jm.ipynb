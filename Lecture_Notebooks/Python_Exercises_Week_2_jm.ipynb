{
 "cells": [
  {
   "cell_type": "code",
   "execution_count": 1,
   "metadata": {
    "collapsed": true
   },
   "outputs": [],
   "source": [
    "# Write a printer() function that prints the value of its input.\n",
    "\n",
    "def printer(stuff):\n",
    "    print(stuff)"
   ]
  },
  {
   "cell_type": "code",
   "execution_count": 2,
   "metadata": {},
   "outputs": [
    {
     "name": "stdout",
     "output_type": "stream",
     "text": [
      "[1, 2, 3, 4, 5]\n"
     ]
    }
   ],
   "source": [
    "stuff = [1,2,3,4,5]\n",
    "printer(stuff)"
   ]
  },
  {
   "cell_type": "code",
   "execution_count": 3,
   "metadata": {
    "collapsed": true
   },
   "outputs": [],
   "source": [
    "# Write a halver() function that returns \n",
    "# the value of its input (a number) divided by 2. For example, halver(5) should return 2.5.\n",
    "\n",
    "def halver(stuff):\n",
    "    return (stuff / 2) "
   ]
  },
  {
   "cell_type": "code",
   "execution_count": 4,
   "metadata": {},
   "outputs": [
    {
     "data": {
      "text/plain": [
       "12.0"
      ]
     },
     "execution_count": 4,
     "metadata": {},
     "output_type": "execute_result"
    }
   ],
   "source": [
    "halver(24)"
   ]
  },
  {
   "cell_type": "code",
   "execution_count": 5,
   "metadata": {
    "collapsed": true
   },
   "outputs": [],
   "source": [
    "# Write a list_doubler() function that takes a list of numbers as input and \n",
    "# returns the list with each element multiplied by 2. \n",
    "# For example, list_doubler([1, 2, 3, 4, 5]) should return [2, 4, 6, 8, 10].\n",
    "\n",
    "def list_doubler(lsnb): \n",
    "    new_list = []\n",
    "    for i in lsnb:\n",
    "        new_list.append(i*2)\n",
    "    return new_list"
   ]
  },
  {
   "cell_type": "code",
   "execution_count": 6,
   "metadata": {},
   "outputs": [
    {
     "data": {
      "text/plain": [
       "[2, 4, 6, 8, 10]"
      ]
     },
     "execution_count": 6,
     "metadata": {},
     "output_type": "execute_result"
    }
   ],
   "source": [
    "list_doubler(stuff)"
   ]
  },
  {
   "cell_type": "code",
   "execution_count": 7,
   "metadata": {
    "collapsed": true
   },
   "outputs": [],
   "source": [
    "# Write a reverser() function that takes a list and returns the same list but in reverse order. \n",
    "# For example, reverser([1, 2, 3]) should return [3, 2, 1].\n",
    "\n",
    "def reverser(ls):\n",
    "    new_list = []\n",
    "    for i in ls:\n",
    "        new_list.append(ls[-i])\n",
    "        \n",
    "    return new_list"
   ]
  },
  {
   "cell_type": "code",
   "execution_count": 8,
   "metadata": {},
   "outputs": [
    {
     "data": {
      "text/plain": [
       "[5, 4, 3, 2, 1]"
      ]
     },
     "execution_count": 8,
     "metadata": {},
     "output_type": "execute_result"
    }
   ],
   "source": [
    "reverser(stuff)"
   ]
  },
  {
   "cell_type": "code",
   "execution_count": 9,
   "metadata": {
    "collapsed": true
   },
   "outputs": [],
   "source": [
    "# Use Google to look up the population of the UK, France and Germany. \n",
    "# Create a dictionary, country_population, to represent this information.\n",
    "\n",
    "country_population = {\n",
    "    'UK': 64000000,\n",
    "    'France': 64000000,\n",
    "    'Germany': 81000000, \n",
    "}"
   ]
  },
  {
   "cell_type": "code",
   "execution_count": 10,
   "metadata": {},
   "outputs": [
    {
     "name": "stdout",
     "output_type": "stream",
     "text": [
      "128000000\n",
      "128000000\n",
      "162000000\n"
     ]
    }
   ],
   "source": [
    "# Write a for loop to print the population of each country in country_population multiplied by 2.\n",
    "for key in country_population:\n",
    "    print(country_population[key] * 2)"
   ]
  },
  {
   "cell_type": "code",
   "execution_count": 26,
   "metadata": {
    "collapsed": true
   },
   "outputs": [],
   "source": [
    "# Use Google to look up the total area of the UK, France and Germany. \n",
    "# Create a dictionary, country_area, to represent this information.\n",
    "\n",
    "country_area = {\n",
    "    'UK': 250000,\n",
    "    'France': 650000,\n",
    "    'Germany': 340000\n",
    "}"
   ]
  },
  {
   "cell_type": "code",
   "execution_count": 12,
   "metadata": {},
   "outputs": [
    {
     "name": "stdout",
     "output_type": "stream",
     "text": [
      "600000\n",
      "1100000\n",
      "680000\n"
     ]
    }
   ],
   "source": [
    "# Write a for loop to print the area of each country in country_area multiplied by 2.\n",
    "for key in country_area:\n",
    "    print(country_area[key] * 2)"
   ]
  },
  {
   "cell_type": "code",
   "execution_count": 13,
   "metadata": {
    "collapsed": true
   },
   "outputs": [],
   "source": [
    "# Write a function that takes two arguments, country_population and country_area, \n",
    "# and prints the population density of each country. \n",
    "# You can calculate the population density using population / area.\n",
    "\n",
    "def pop_density(country_pop, country_area):\n",
    "    \n",
    "    for key in country_pop:\n",
    "        density = country_pop[key] / country_area[key]\n",
    "        print(density)"
   ]
  },
  {
   "cell_type": "code",
   "execution_count": 14,
   "metadata": {},
   "outputs": [
    {
     "name": "stdout",
     "output_type": "stream",
     "text": [
      "213.33333333333334\n",
      "116.36363636363636\n",
      "238.23529411764707\n"
     ]
    }
   ],
   "source": [
    "pop_density(country_population, country_area)"
   ]
  },
  {
   "cell_type": "code",
   "execution_count": 15,
   "metadata": {
    "collapsed": true
   },
   "outputs": [],
   "source": [
    "# Write a function that takes two arguments, country_population and country_area, \n",
    "# and returns a dictionary country_density containing the population density of each country.\n",
    "\n",
    "def pop_density_dict(country_pop, country_area):\n",
    "    \n",
    "    new_dict = {}\n",
    "    for key in country_pop:\n",
    "        new_dict[key] = (country_pop[key] / country_area[key])\n",
    "    \n",
    "    return new_dict"
   ]
  },
  {
   "cell_type": "code",
   "execution_count": 16,
   "metadata": {},
   "outputs": [
    {
     "data": {
      "text/plain": [
       "{'France': 116.36363636363636,\n",
       " 'Germany': 238.23529411764707,\n",
       " 'UK': 213.33333333333334}"
      ]
     },
     "execution_count": 16,
     "metadata": {},
     "output_type": "execute_result"
    }
   ],
   "source": [
    "pop_density_dict(country_population, country_area)"
   ]
  },
  {
   "cell_type": "code",
   "execution_count": 17,
   "metadata": {},
   "outputs": [],
   "source": [
    "# Put the files alice_times.txt, bob_times.txt and charlie_times.txt into your step_function directory. \n",
    "# These files contain the time taken to run 100m in 3 separate practice runs for Alice, Bob and Charlie. \n",
    "# Back in Python, open these files and read the times into 3 lists: alice_times, bob_times and charlie_times. \n",
    "# To convert a string into a floating point number, use float().\n",
    "\n",
    "with open('alice_times.txt') as f1:\n",
    "    alice_times = []\n",
    "    for line in f1:\n",
    "        alice_times.append(float(line.rstrip()))\n",
    "        \n",
    "with open('bob_times.txt') as f2:\n",
    "    bob_times = []\n",
    "    for line in f2:\n",
    "        bob_times.append(float(line.rstrip()))\n",
    "        \n",
    "with open('charlie_times.txt') as f3:\n",
    "    charlie_times = []\n",
    "    for line in f3:\n",
    "        charlie_times.append(float(line.rstrip()))"
   ]
  },
  {
   "cell_type": "code",
   "execution_count": 28,
   "metadata": {
    "collapsed": true
   },
   "outputs": [],
   "source": [
    "files = ['alice_times.txt', 'bob_times.txt', 'charlie_times.txt']\n",
    "\n",
    "all_times = {}\n",
    "for filename in files:\n",
    "    with open(filename) as f1:\n",
    "        all_times[filename] = []\n",
    "        for line in f1:\n",
    "            all_times[filename].append(float(line.rstrip()))"
   ]
  },
  {
   "cell_type": "code",
   "execution_count": 29,
   "metadata": {},
   "outputs": [
    {
     "data": {
      "text/plain": [
       "{'alice_times.txt': [14.3, 13.5, 15.2],\n",
       " 'bob_times.txt': [12.2, 12.5, 15.1],\n",
       " 'charlie_times.txt': [16.9, 12.2, 12.1]}"
      ]
     },
     "execution_count": 29,
     "metadata": {},
     "output_type": "execute_result"
    }
   ],
   "source": [
    "all_times"
   ]
  },
  {
   "cell_type": "code",
   "execution_count": 18,
   "metadata": {},
   "outputs": [
    {
     "name": "stdout",
     "output_type": "stream",
     "text": [
      "[14.3, 13.5, 15.2]\n",
      "[12.2, 12.5, 15.1]\n",
      "[16.9, 12.2, 12.1]\n"
     ]
    }
   ],
   "source": [
    "print(alice_times)\n",
    "print(bob_times)\n",
    "print(charlie_times)"
   ]
  },
  {
   "cell_type": "code",
   "execution_count": 19,
   "metadata": {},
   "outputs": [
    {
     "name": "stdout",
     "output_type": "stream",
     "text": [
      "14.3\n",
      "13.5\n",
      "15.2\n"
     ]
    }
   ],
   "source": [
    "for ele in alice_times:\n",
    "    print(float(ele))\n",
    "    "
   ]
  },
  {
   "cell_type": "code",
   "execution_count": 20,
   "metadata": {
    "collapsed": true
   },
   "outputs": [],
   "source": [
    "# Make a single dictionary times with keys alice, bob and charlie and values containing a\n",
    "# list of times for each person. \n",
    "# For example, times['alice'] should equal [14.3, 13.5, 15.2].\n",
    "\n",
    "times = {\n",
    "    'alice': alice_times,\n",
    "    'bob': bob_times, \n",
    "    'charlie': charlie_times \n",
    "}"
   ]
  },
  {
   "cell_type": "code",
   "execution_count": 21,
   "metadata": {},
   "outputs": [
    {
     "data": {
      "text/plain": [
       "[14.3, 13.5, 15.2]"
      ]
     },
     "execution_count": 21,
     "metadata": {},
     "output_type": "execute_result"
    }
   ],
   "source": [
    "times['alice']"
   ]
  },
  {
   "cell_type": "code",
   "execution_count": 22,
   "metadata": {
    "collapsed": true
   },
   "outputs": [],
   "source": [
    "# Write a function that takes one argument, times, and returns the name of the athlete with the lowest average time.\n",
    "from sys import maxsize\n",
    "\n",
    "def low_avg(times):\n",
    "    best_name = \"\"\n",
    "    current_best_time = maxsize\n",
    "    for name in times:\n",
    "        avg_time = (sum(times[name]) / len(times[name]))\n",
    "        if avg_time < current_best_time:\n",
    "            current_best_time = avg_time\n",
    "            best_name = name\n",
    "    \n",
    "    return best_name"
   ]
  },
  {
   "cell_type": "code",
   "execution_count": 23,
   "metadata": {},
   "outputs": [
    {
     "data": {
      "text/plain": [
       "'bob'"
      ]
     },
     "execution_count": 23,
     "metadata": {},
     "output_type": "execute_result"
    }
   ],
   "source": [
    "low_avg(times)"
   ]
  },
  {
   "cell_type": "code",
   "execution_count": 24,
   "metadata": {
    "collapsed": true
   },
   "outputs": [],
   "source": [
    "# Write a function that takes one argument, times, and returns the name of the athlete with the lowest personal best.\n",
    "from sys import maxsize\n",
    "\n",
    "def low_best(times):\n",
    "    best_name = \"\"\n",
    "    current_best_time = maxsize\n",
    "    for name in times:\n",
    "        avg_time = (min(times[name]))\n",
    "        if avg_time < current_best_time:\n",
    "            current_best_time = avg_time\n",
    "            best_name = name\n",
    "    \n",
    "    return best_name"
   ]
  },
  {
   "cell_type": "code",
   "execution_count": 25,
   "metadata": {},
   "outputs": [
    {
     "data": {
      "text/plain": [
       "'charlie'"
      ]
     },
     "execution_count": 25,
     "metadata": {},
     "output_type": "execute_result"
    }
   ],
   "source": [
    "low_best(times)"
   ]
  },
  {
   "cell_type": "code",
   "execution_count": null,
   "metadata": {
    "collapsed": true
   },
   "outputs": [],
   "source": []
  }
 ],
 "metadata": {
  "kernelspec": {
   "display_name": "Python 3",
   "language": "python",
   "name": "python3"
  },
  "language_info": {
   "codemirror_mode": {
    "name": "ipython",
    "version": 3
   },
   "file_extension": ".py",
   "mimetype": "text/x-python",
   "name": "python",
   "nbconvert_exporter": "python",
   "pygments_lexer": "ipython3",
   "version": "3.6.1"
  }
 },
 "nbformat": 4,
 "nbformat_minor": 2
}
