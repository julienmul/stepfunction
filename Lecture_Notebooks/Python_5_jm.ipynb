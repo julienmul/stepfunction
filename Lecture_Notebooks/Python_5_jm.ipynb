{
 "cells": [
  {
   "cell_type": "code",
   "execution_count": 17,
   "metadata": {
    "collapsed": true
   },
   "outputs": [],
   "source": [
    "julien_person = {'name': 'Julien',\n",
    "                'age': 120,\n",
    "                'postcode': 'ABC 1234',\n",
    "                'test': 1235,\n",
    "                'city': 'London'}"
   ]
  },
  {
   "cell_type": "code",
   "execution_count": 7,
   "metadata": {},
   "outputs": [
    {
     "data": {
      "text/plain": [
       "{'age': 120, 'name': 'Julien', 'postcode': 'ABC 1234', 'test': 1235}"
      ]
     },
     "execution_count": 7,
     "metadata": {},
     "output_type": "execute_result"
    }
   ],
   "source": [
    "julien_person"
   ]
  },
  {
   "cell_type": "code",
   "execution_count": 11,
   "metadata": {},
   "outputs": [
    {
     "data": {
      "text/plain": [
       "120"
      ]
     },
     "execution_count": 11,
     "metadata": {},
     "output_type": "execute_result"
    }
   ],
   "source": [
    "julien_person['age']"
   ]
  },
  {
   "cell_type": "code",
   "execution_count": 16,
   "metadata": {},
   "outputs": [
    {
     "name": "stdout",
     "output_type": "stream",
     "text": [
      "None\n"
     ]
    }
   ],
   "source": [
    "# get method does not produce an error !!!\n",
    "print(julien_person.get('london'))"
   ]
  },
  {
   "cell_type": "code",
   "execution_count": 18,
   "metadata": {},
   "outputs": [
    {
     "data": {
      "text/plain": [
       "dict_values(['Julien', 120, 'ABC 1234', 1235, 'London'])"
      ]
     },
     "execution_count": 18,
     "metadata": {},
     "output_type": "execute_result"
    }
   ],
   "source": [
    "julien_person.values()"
   ]
  },
  {
   "cell_type": "code",
   "execution_count": 22,
   "metadata": {},
   "outputs": [
    {
     "name": "stdout",
     "output_type": "stream",
     "text": [
      "My name is Julien\n",
      "My age is 120\n",
      "My postcode is ABC 1234\n",
      "My test is 1235\n",
      "My city is London\n"
     ]
    }
   ],
   "source": [
    "for key, value in julien_person.items():\n",
    "    print('My {0} is {1}'.format(key, value))"
   ]
  },
  {
   "cell_type": "code",
   "execution_count": 23,
   "metadata": {},
   "outputs": [
    {
     "name": "stdout",
     "output_type": "stream",
     "text": [
      "My name is Julien\n",
      "My age is 120\n",
      "My postcode is ABC 1234\n",
      "My test is 1235\n",
      "My city is London\n"
     ]
    }
   ],
   "source": [
    "for key in julien_person:\n",
    "    print('My {0} is {1}'.format(key, julien_person[key]))"
   ]
  },
  {
   "cell_type": "code",
   "execution_count": 24,
   "metadata": {
    "collapsed": true
   },
   "outputs": [],
   "source": [
    "# Lists of dicts\n",
    "people = [\n",
    "    {'name': 'Anne', 'age': 34, 'postcode': 'WT2 5JJ', 'voted': 'Labour'},\n",
    "    {'name': 'Bob', 'age': 29, 'postcode': 'EP1 2RQ', 'voted': 'Conservative'},\n",
    "    {'name': 'Charlie', 'age': 21, 'postcode': 'NN1 8AR', 'voted': 'Liberal Democrat'}\n",
    "]"
   ]
  },
  {
   "cell_type": "code",
   "execution_count": 25,
   "metadata": {},
   "outputs": [
    {
     "name": "stdout",
     "output_type": "stream",
     "text": [
      "Anne is 34 years old and voted Labour\n",
      "Bob is 29 years old and voted Conservative\n",
      "Charlie is 21 years old and voted Liberal Democrat\n"
     ]
    }
   ],
   "source": [
    "for person in people:\n",
    "    name = person['name']\n",
    "    age = person['age']\n",
    "    voted = person['voted']\n",
    "    print('{0} is {1} years old and voted {2}'.format(name, age, voted))\n",
    "    "
   ]
  },
  {
   "cell_type": "markdown",
   "metadata": {},
   "source": [
    "# Exercises"
   ]
  },
  {
   "cell_type": "code",
   "execution_count": 27,
   "metadata": {
    "collapsed": true
   },
   "outputs": [],
   "source": [
    "prices = {\n",
    "    \"banana\": 4,\n",
    "    \"apple\": 2,\n",
    "    \"orange\": 1.5,\n",
    "    \"pear\": 3\n",
    "    }"
   ]
  },
  {
   "cell_type": "code",
   "execution_count": 60,
   "metadata": {},
   "outputs": [
    {
     "data": {
      "text/plain": [
       "4"
      ]
     },
     "execution_count": 60,
     "metadata": {},
     "output_type": "execute_result"
    }
   ],
   "source": [
    "list(prices.items())[0][1]"
   ]
  },
  {
   "cell_type": "code",
   "execution_count": 61,
   "metadata": {},
   "outputs": [
    {
     "name": "stdout",
     "output_type": "stream",
     "text": [
      "banana \n",
      "price: 4 \n",
      "stock: 0\n",
      "banana \n",
      "price: 4 \n",
      "stock: 0\n",
      "banana \n",
      "price: 4 \n",
      "stock: 0\n",
      "banana \n",
      "price: 4 \n",
      "stock: 0\n"
     ]
    }
   ],
   "source": [
    "for key in prices:\n",
    "    print('{0} \\nprice: {1} \\nstock: {2}'.format(list(prices.items())[0][0],\n",
    "                                                  list(prices.items())[0][1],\n",
    "                                                  0))"
   ]
  },
  {
   "cell_type": "code",
   "execution_count": null,
   "metadata": {
    "collapsed": true
   },
   "outputs": [],
   "source": []
  },
  {
   "cell_type": "code",
   "execution_count": 54,
   "metadata": {
    "collapsed": true
   },
   "outputs": [],
   "source": [
    "stock = {\n",
    "    \"banana\": 6,\n",
    "    \"apple\": 0,\n",
    "    \"orange\": 32,\n",
    "    \"pear\": 15\n",
    "}\n",
    "\n",
    "prices = {\n",
    "    \"banana\": 4,\n",
    "    \"apple\": 2,\n",
    "    \"orange\": 1.5,\n",
    "    \"pear\": 3\n",
    "}"
   ]
  },
  {
   "cell_type": "code",
   "execution_count": 59,
   "metadata": {},
   "outputs": [
    {
     "name": "stdout",
     "output_type": "stream",
     "text": [
      "banana 4 6\n",
      "apple 2 0\n",
      "orange 1.5 32\n",
      "pear 3 15\n"
     ]
    }
   ],
   "source": [
    "for key in prices:\n",
    "    print(key, prices[key], stock[key])"
   ]
  },
  {
   "cell_type": "code",
   "execution_count": 65,
   "metadata": {},
   "outputs": [
    {
     "name": "stdout",
     "output_type": "stream",
     "text": [
      "63.5\n"
     ]
    }
   ],
   "source": [
    "total = 0\n",
    "for key in prices:\n",
    "    total += (prices[key] + stock[key])\n",
    "    \n",
    "print(total)"
   ]
  },
  {
   "cell_type": "code",
   "execution_count": null,
   "metadata": {
    "collapsed": true
   },
   "outputs": [],
   "source": []
  },
  {
   "cell_type": "code",
   "execution_count": 71,
   "metadata": {
    "collapsed": true
   },
   "outputs": [],
   "source": []
  },
  {
   "cell_type": "code",
   "execution_count": 72,
   "metadata": {
    "collapsed": true
   },
   "outputs": [],
   "source": [
    "def compute_bill(food):\n",
    "    total = 0\n",
    "    for item in food:\n",
    "        total += prices[item]\n",
    "    \n",
    "    return total"
   ]
  },
  {
   "cell_type": "code",
   "execution_count": 73,
   "metadata": {},
   "outputs": [
    {
     "data": {
      "text/plain": [
       "7.5"
      ]
     },
     "execution_count": 73,
     "metadata": {},
     "output_type": "execute_result"
    }
   ],
   "source": [
    "food = ['apple', 'banana', 'orange']\n",
    "compute_bill(food)"
   ]
  },
  {
   "cell_type": "code",
   "execution_count": 99,
   "metadata": {},
   "outputs": [],
   "source": [
    "def compute_bill2(food):\n",
    "    total = 0\n",
    "    for item in food:\n",
    "        #print(item)\n",
    "        if stock[item] > 0:\n",
    "            total += prices[item]\n",
    "            stock[item] -= 1\n",
    "            #print(stock)\n",
    "            \n",
    "    print('The total price is: ',total, '\\nand new stock is:\\n', stock)"
   ]
  },
  {
   "cell_type": "code",
   "execution_count": 102,
   "metadata": {},
   "outputs": [
    {
     "name": "stdout",
     "output_type": "stream",
     "text": [
      "The total price is:  1.5 \n",
      "and new stock is:\n",
      " {'banana': 0, 'apple': 0, 'orange': 19, 'pear': 15}\n"
     ]
    }
   ],
   "source": [
    "food = ['apple', 'banana', 'orange']\n",
    "compute_bill2(food)"
   ]
  },
  {
   "cell_type": "code",
   "execution_count": null,
   "metadata": {
    "collapsed": true
   },
   "outputs": [],
   "source": []
  },
  {
   "cell_type": "code",
   "execution_count": 103,
   "metadata": {
    "collapsed": true
   },
   "outputs": [],
   "source": [
    "lloyd = {\n",
    "  \"name\": \"Lloyd\",\n",
    "  \"homework\": [90.0,97.0,75.0,92.0],\n",
    "  \"quizzes\": [88.0,40.0,94.0],\n",
    "  \"tests\": [75.0,90.0]\n",
    "}\n",
    "alice = {\n",
    "  \"name\": \"Alice\",\n",
    "  \"homework\": [100.0, 92.0, 98.0, 100.0],\n",
    "  \"quizzes\": [82.0, 83.0, 91.0],\n",
    "  \"tests\": [89.0, 97.0]\n",
    "}\n",
    "tyler = {\n",
    "  \"name\": \"Tyler\",\n",
    "  \"homework\": [0.0, 87.0, 75.0, 22.0],\n",
    "  \"quizzes\": [0.0, 75.0, 78.0],\n",
    "  \"tests\": [100.0, 100.0]\n",
    "}"
   ]
  },
  {
   "cell_type": "code",
   "execution_count": 123,
   "metadata": {},
   "outputs": [],
   "source": [
    "students = [lloyd, alice, tyler]"
   ]
  },
  {
   "cell_type": "code",
   "execution_count": 124,
   "metadata": {},
   "outputs": [
    {
     "name": "stdout",
     "output_type": "stream",
     "text": [
      "name Lloyd\n",
      "homework [90.0, 97.0, 75.0, 92.0]\n",
      "quizzes [88.0, 40.0, 94.0]\n",
      "tests [75.0, 90.0]\n",
      "name Alice\n",
      "homework [100.0, 92.0, 98.0, 100.0]\n",
      "quizzes [82.0, 83.0, 91.0]\n",
      "tests [89.0, 97.0]\n",
      "name Tyler\n",
      "homework [0.0, 87.0, 75.0, 22.0]\n",
      "quizzes [0.0, 75.0, 78.0]\n",
      "tests [100.0, 100.0]\n"
     ]
    }
   ],
   "source": [
    "for student in students:\n",
    "    for key in student:\n",
    "    \n",
    "        print(key, student[key])\n",
    "    \n",
    "  "
   ]
  },
  {
   "cell_type": "code",
   "execution_count": 127,
   "metadata": {
    "collapsed": true
   },
   "outputs": [],
   "source": [
    "def average(numbers):\n",
    "    \"\"\"\n",
    "        Write a function average that takes a list of numbers and returns the average.\n",
    "        Define a function called average that has one argument, numbers.\n",
    "        Inside that function, call the built-in sum() function with the numbers list as a parameter. \n",
    "        Store the result in a variable called total.\n",
    "        Use float() to convert total and store the result in total.\n",
    "        Divide total by the length of the numbers list. Use the built-in len() function to calculate that.\n",
    "        Return that result.\n",
    "    \"\"\"\n",
    "    total = float(sum(numbers))\n",
    "    \n",
    "    return (total / len(numbers))\n",
    "    "
   ]
  },
  {
   "cell_type": "code",
   "execution_count": 128,
   "metadata": {},
   "outputs": [
    {
     "data": {
      "text/plain": [
       "3.5"
      ]
     },
     "execution_count": 128,
     "metadata": {},
     "output_type": "execute_result"
    }
   ],
   "source": [
    "average([1,2,3,4,5,6])"
   ]
  },
  {
   "cell_type": "code",
   "execution_count": 137,
   "metadata": {
    "collapsed": true
   },
   "outputs": [],
   "source": [
    "def get_average(student):\n",
    "    \"\"\"\n",
    "    Define a function called get_average that takes one argument called student.\n",
    "    Make a variable homework that stores the average() of student[\"homework\"].\n",
    "    Repeat step 2 for \"quizzes\" and \"tests\".\n",
    "    Multiply the 3 averages by their weights and return the sum of those three. \n",
    "    Homework is 10%, quizzes are 30% and tests are 60%.\n",
    "    \"\"\"\n",
    "    homework = average(student['homework']) * 0.1\n",
    "    quizzes = average(student['quizzes']) * 0.3\n",
    "    tests = average(student['tests']) * 0.6\n",
    "    \n",
    "    return sum([homework, quizzes, tests])"
   ]
  },
  {
   "cell_type": "code",
   "execution_count": 138,
   "metadata": {},
   "outputs": [
    {
     "data": {
      "text/plain": [
       "80.55"
      ]
     },
     "execution_count": 138,
     "metadata": {},
     "output_type": "execute_result"
    }
   ],
   "source": [
    "get_average(lloyd)"
   ]
  },
  {
   "cell_type": "code",
   "execution_count": 139,
   "metadata": {},
   "outputs": [],
   "source": [
    "def get_letter_grade(score):\n",
    "    \n",
    "    if score >= 90: \n",
    "        return \"A\"\n",
    "    elif score >= 80: \n",
    "        return \"B\"\n",
    "    elif score >= 70: \n",
    "        return \"C\"\n",
    "    elif score >= 60: \n",
    "        return \"D\"\n",
    "    else: \n",
    "        return \"F\"\n",
    "    "
   ]
  },
  {
   "cell_type": "code",
   "execution_count": 142,
   "metadata": {},
   "outputs": [
    {
     "data": {
      "text/plain": [
       "'B'"
      ]
     },
     "execution_count": 142,
     "metadata": {},
     "output_type": "execute_result"
    }
   ],
   "source": [
    "get_letter_grade(get_average(lloyd))"
   ]
  },
  {
   "cell_type": "code",
   "execution_count": 143,
   "metadata": {
    "collapsed": true
   },
   "outputs": [],
   "source": [
    "def get_class_average(students):\n",
    "    \n",
    "    results = []\n",
    "    for student in students:\n",
    "        results.append(get_average(student)) \n",
    "    \n",
    "    return average(results)"
   ]
  },
  {
   "cell_type": "code",
   "execution_count": 147,
   "metadata": {},
   "outputs": [
    {
     "name": "stdout",
     "output_type": "stream",
     "text": [
      "83.86666666666666\n",
      "B\n"
     ]
    }
   ],
   "source": [
    "print(get_class_average(students))\n",
    "print(get_letter_grade(get_class_average(students)))"
   ]
  }
 ],
 "metadata": {
  "kernelspec": {
   "display_name": "Python 3",
   "language": "python",
   "name": "python3"
  },
  "language_info": {
   "codemirror_mode": {
    "name": "ipython",
    "version": 3
   },
   "file_extension": ".py",
   "mimetype": "text/x-python",
   "name": "python",
   "nbconvert_exporter": "python",
   "pygments_lexer": "ipython3",
   "version": "3.6.1"
  }
 },
 "nbformat": 4,
 "nbformat_minor": 2
}
