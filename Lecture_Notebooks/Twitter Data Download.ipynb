{
 "cells": [
  {
   "cell_type": "code",
   "execution_count": null,
   "metadata": {
    "collapsed": true
   },
   "outputs": [],
   "source": [
    "import tweepy\n",
    "from collections import defaultdict\n",
    "import pickle\n",
    "\n",
    "LABOUR_HASHTAG = '#Labour'\n",
    "TORY_HASHTAG = '#Tories'"
   ]
  },
  {
   "cell_type": "code",
   "execution_count": null,
   "metadata": {
    "collapsed": true
   },
   "outputs": [],
   "source": [
    "keys = []\n",
    "with open('twitter_keys.txt') as f:\n",
    "    for line in f:\n",
    "        keys.append(line.rstrip())\n",
    "\n",
    "consumer_key = keys[0]\n",
    "consumer_secret = keys[1]\n",
    "\n",
    "access_token = keys[2]\n",
    "access_token_secret = keys[3]\n",
    "\n",
    "\n",
    "\n",
    "auth = tweepy.OAuthHandler(consumer_key, consumer_secret)\n",
    "auth.set_access_token(access_token, access_token_secret)\n",
    "\n",
    "api = tweepy.API(auth)\n"
   ]
  },
  {
   "cell_type": "code",
   "execution_count": null,
   "metadata": {
    "collapsed": true
   },
   "outputs": [],
   "source": [
    "def get_api():\n",
    "    #uncomment to use user auth instead of app auth\n",
    "    auth = tweepy.OAuthHandler(consumer_key, consumer_secret)\n",
    "    auth.set_access_token(access_token, access_token_secret)\n",
    "    #auth = tweepy.AppAuthHandler(CONSUMER_KEY, CONSUMER_SECRET)\n",
    "    \n",
    "    return tweepy.API(auth, wait_on_rate_limit=True, wait_on_rate_limit_notify=True, retry_count=5, retry_delay=2*60)\n",
    "\n",
    "def get_hashtag_tweets(api, hashtags):\n",
    "    hashtag_tweets = defaultdict(list)\n",
    "    for hashtag in hashtags:\n",
    "        for tweet in tweepy.Cursor(api.search, hashtag).items(2000):\n",
    "            hashtag_tweets[hashtag].append(tweet)\n",
    "    \n",
    "        print(\"Got %i tweets for hashtag %s\" % (len(hashtag_tweets[hashtag]), hashtag))\n",
    "        print('First tweet is', hashtag_tweets[hashtag][0])\n",
    "    return hashtag_tweets"
   ]
  },
  {
   "cell_type": "code",
   "execution_count": null,
   "metadata": {},
   "outputs": [],
   "source": [
    "api = get_api()\n",
    "\n",
    "hashtag_tweets = get_hashtag_tweets(api, [LABOUR_HASHTAG, TORY_HASHTAG])"
   ]
  },
  {
   "cell_type": "code",
   "execution_count": null,
   "metadata": {},
   "outputs": [],
   "source": [
    "with open('hashtag_tweets', 'wb') as f:\n",
    "    pickle.dump(hashtag_tweets, f)"
   ]
  },
  {
   "cell_type": "code",
   "execution_count": null,
   "metadata": {},
   "outputs": [],
   "source": [
    "with open('hashtag_tweets', 'rb') as f:\n",
    "    tweets = pickle.load(f)\n",
    "    \n",
    "tweets['#Labour'][0]"
   ]
  }
 ],
 "metadata": {
  "kernelspec": {
   "display_name": "Python 3",
   "language": "python",
   "name": "python3"
  },
  "language_info": {
   "codemirror_mode": {
    "name": "ipython",
    "version": 3
   },
   "file_extension": ".py",
   "mimetype": "text/x-python",
   "name": "python",
   "nbconvert_exporter": "python",
   "pygments_lexer": "ipython3",
   "version": "3.6.1"
  }
 },
 "nbformat": 4,
 "nbformat_minor": 2
}
