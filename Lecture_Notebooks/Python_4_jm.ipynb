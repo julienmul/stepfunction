{
 "cells": [
  {
   "cell_type": "code",
   "execution_count": 1,
   "metadata": {
    "collapsed": true
   },
   "outputs": [],
   "source": [
    "def say_hello(name):\n",
    "    print('Hello ', 'name')"
   ]
  },
  {
   "cell_type": "code",
   "execution_count": 2,
   "metadata": {},
   "outputs": [
    {
     "name": "stdout",
     "output_type": "stream",
     "text": [
      "Hello  name\n"
     ]
    }
   ],
   "source": [
    "say_hello('name')"
   ]
  },
  {
   "cell_type": "code",
   "execution_count": 3,
   "metadata": {
    "collapsed": true
   },
   "outputs": [],
   "source": [
    "def triple(x):\n",
    "    return x * 3 "
   ]
  },
  {
   "cell_type": "code",
   "execution_count": 4,
   "metadata": {},
   "outputs": [
    {
     "data": {
      "text/plain": [
       "12"
      ]
     },
     "execution_count": 4,
     "metadata": {},
     "output_type": "execute_result"
    }
   ],
   "source": [
    "triple(4)"
   ]
  },
  {
   "cell_type": "code",
   "execution_count": 5,
   "metadata": {
    "collapsed": true
   },
   "outputs": [],
   "source": [
    "def quadruple(x):\n",
    "    return x * 4 "
   ]
  },
  {
   "cell_type": "code",
   "execution_count": 6,
   "metadata": {},
   "outputs": [
    {
     "data": {
      "text/plain": [
       "16"
      ]
     },
     "execution_count": 6,
     "metadata": {},
     "output_type": "execute_result"
    }
   ],
   "source": [
    "quadruple(4)"
   ]
  },
  {
   "cell_type": "code",
   "execution_count": 7,
   "metadata": {
    "collapsed": true
   },
   "outputs": [],
   "source": [
    "def adding(x1,x2,x3,x4):\n",
    "    return x1+x2+x3+x4"
   ]
  },
  {
   "cell_type": "code",
   "execution_count": 8,
   "metadata": {},
   "outputs": [
    {
     "data": {
      "text/plain": [
       "14"
      ]
     },
     "execution_count": 8,
     "metadata": {},
     "output_type": "execute_result"
    }
   ],
   "source": [
    "adding(2,3,4,5)"
   ]
  },
  {
   "cell_type": "code",
   "execution_count": 9,
   "metadata": {},
   "outputs": [
    {
     "name": "stdout",
     "output_type": "stream",
     "text": [
      "Body mass index is 24.7\n",
      "Your BMI indicates that you are Normal for your height\n",
      "-----\n",
      "Body mass index is 27.8\n",
      "Your BMI indicates that you are Overweight for your height\n",
      "-----\n",
      "Body mass index is 30.9\n",
      "Your BMI indicates that you are Obese for your height\n"
     ]
    }
   ],
   "source": [
    "def bmi_status(mass, height):\n",
    "    \"\"\"\n",
    "    For adults only! Massin kg and height in meters.\n",
    "    \"\"\"\n",
    "    bmi = mass / height ** 2\n",
    "    print('Body mass index is {0:.1f}'.format(bmi))\n",
    "    \n",
    "    if bmi < 25:\n",
    "        status = 'Normal'\n",
    "    elif bmi < 29:\n",
    "        status = 'Overweight'\n",
    "    else:\n",
    "        status = 'Obese'\n",
    "    \n",
    "    return status\n",
    "\n",
    "print('Your BMI indicates that you are {0} for your height'.format(bmi_status(80, 1.8)))\n",
    "print('-----')\n",
    "print('Your BMI indicates that you are {0} for your height'.format(bmi_status(90, 1.8)))   \n",
    "print('-----')\n",
    "print('Your BMI indicates that you are {0} for your height'.format(bmi_status(100, 1.8))) \n"
   ]
  },
  {
   "cell_type": "code",
   "execution_count": null,
   "metadata": {
    "collapsed": true
   },
   "outputs": [],
   "source": []
  },
  {
   "cell_type": "code",
   "execution_count": 10,
   "metadata": {},
   "outputs": [
    {
     "name": "stdout",
     "output_type": "stream",
     "text": [
      "Body mass index is 6.2\n",
      "Your BMI indicates that you are Normal for your height\n",
      "-----\n",
      "Body mass index is 27.8\n",
      "Your BMI indicates that you are Obese for your height\n",
      "-----\n",
      "Body mass index is 30.9\n",
      "Your BMI indicates that you are Obese for your height\n"
     ]
    }
   ],
   "source": [
    "def bmi_status_child(mass, height):\n",
    "    \"\"\"\n",
    "    for children!\n",
    "    \"\"\"\n",
    "    bmi = mass / height ** 2\n",
    "    print('Body mass index is {0:.1f}'.format(bmi))\n",
    "    \n",
    "    if bmi < 22:\n",
    "        status = 'Normal'\n",
    "    elif bmi < 25:\n",
    "        status = 'Overweight'\n",
    "    else:\n",
    "        status = 'Obese'\n",
    "    \n",
    "    return status\n",
    "\n",
    "print('Your BMI indicates that you are {0} for your height'.format(bmi_status_child(20, 1.8)))\n",
    "print('-----')\n",
    "print('Your BMI indicates that you are {0} for your height'.format(bmi_status_child(90, 1.8)))   \n",
    "print('-----')\n",
    "print('Your BMI indicates that you are {0} for your height'.format(bmi_status_child(100, 1.8))) "
   ]
  },
  {
   "cell_type": "code",
   "execution_count": 11,
   "metadata": {
    "collapsed": true
   },
   "outputs": [],
   "source": [
    "def compute_bmi(mass, height):\n",
    "    '''\n",
    "    Function returns a value of the BMI as opposed to the BMI status.\n",
    "    '''\n",
    "    bmi = mass / height ** 2\n",
    "    \n",
    "    return bmi"
   ]
  },
  {
   "cell_type": "code",
   "execution_count": 12,
   "metadata": {},
   "outputs": [
    {
     "data": {
      "text/plain": [
       "0.004733727810650888"
      ]
     },
     "execution_count": 12,
     "metadata": {},
     "output_type": "execute_result"
    }
   ],
   "source": [
    "compute_bmi(80, 130)"
   ]
  },
  {
   "cell_type": "code",
   "execution_count": 13,
   "metadata": {},
   "outputs": [
    {
     "name": "stdout",
     "output_type": "stream",
     "text": [
      "Your BMI indicates that you are Normal for your height\n",
      "-----\n",
      "Your BMI indicates that you are Obese for your height\n",
      "-----\n",
      "Your BMI indicates that you are Obese for your height\n"
     ]
    }
   ],
   "source": [
    "def bmi_status(mass, height):\n",
    "    \"\"\"\n",
    "    for children!\n",
    "    \"\"\"\n",
    "    \n",
    "    bmi = compute_bmi(mass, height)\n",
    "    \n",
    "\n",
    "    if bmi < 22:\n",
    "        status = 'Normal'\n",
    "    elif bmi < 25:\n",
    "        status = 'Overweight'\n",
    "    else:\n",
    "        status = 'Obese'\n",
    "    \n",
    "    return status\n",
    "\n",
    "print('Your BMI indicates that you are {0} for your height'.format(bmi_status(20, 1.8)))\n",
    "print('-----')\n",
    "print('Your BMI indicates that you are {0} for your height'.format(bmi_status(90, 1.8)))   \n",
    "print('-----')\n",
    "print('Your BMI indicates that you are {0} for your height'.format(bmi_status(100, 1.8))) "
   ]
  },
  {
   "cell_type": "code",
   "execution_count": 14,
   "metadata": {},
   "outputs": [
    {
     "name": "stdout",
     "output_type": "stream",
     "text": [
      "adult: Your BMI indicates that you are Normal for your height\n",
      "-----\n",
      "adult: Your BMI indicates that you are Obese for your height\n",
      "-----\n",
      "adult: Your BMI indicates that you are Obese for your height\n"
     ]
    }
   ],
   "source": [
    "# Exercise 4:\n",
    "def bmi_status_2(mass, height, person):\n",
    "    \"\"\"\n",
    "    xxxxxx\n",
    "    \"\"\"\n",
    "    \n",
    "    bmi = compute_bmi(mass, height)\n",
    "    \n",
    "    if person == 'adult':\n",
    "\n",
    "        if bmi < 22:\n",
    "            status = 'Normal'\n",
    "        elif bmi < 25:\n",
    "            status = 'Overweight'\n",
    "        else:\n",
    "            status = 'Obese'\n",
    "    \n",
    "    else: \n",
    "        if bmi < 25:\n",
    "            status = 'Normal'\n",
    "        elif bmi < 29:\n",
    "            status = 'Overweight'\n",
    "        else:\n",
    "            status = 'Obese'\n",
    "\n",
    "    \n",
    "    return status\n",
    "\n",
    "f = 'adult'\n",
    "print('{1}: Your BMI indicates that you are {0} for your height'.format(bmi_status_2(20, 1.8, f), f))\n",
    "print('-----')\n",
    "print('{1}: Your BMI indicates that you are {0} for your height'.format(bmi_status_2(20, 0.7, f), f))   \n",
    "print('-----')\n",
    "print('{1}: Your BMI indicates that you are {0} for your height'.format(bmi_status_2(100, 1.8, f), f)) "
   ]
  },
  {
   "cell_type": "code",
   "execution_count": null,
   "metadata": {
    "collapsed": true
   },
   "outputs": [],
   "source": []
  },
  {
   "cell_type": "code",
   "execution_count": null,
   "metadata": {
    "collapsed": true
   },
   "outputs": [],
   "source": []
  },
  {
   "cell_type": "markdown",
   "metadata": {},
   "source": [
    "### My solutions"
   ]
  },
  {
   "cell_type": "code",
   "execution_count": 15,
   "metadata": {
    "collapsed": true
   },
   "outputs": [],
   "source": [
    "my_list = [1, 2, 3, 10, 7, 15]"
   ]
  },
  {
   "cell_type": "code",
   "execution_count": 16,
   "metadata": {
    "collapsed": true
   },
   "outputs": [],
   "source": [
    "# Question 1:\n",
    "# Write a function to counthow many even numbers there are in a list of integers. \n",
    "# E.g. count_evens([1, 2, 3, 10, 7]) should return the value 2.\n",
    "def count_even(my_list):\n",
    "    count = 0\n",
    "    for i in my_list:\n",
    "        if i % 2 == 0:\n",
    "            count += 1\n",
    "            \n",
    "    return count"
   ]
  },
  {
   "cell_type": "code",
   "execution_count": 17,
   "metadata": {},
   "outputs": [
    {
     "data": {
      "text/plain": [
       "2"
      ]
     },
     "execution_count": 17,
     "metadata": {},
     "output_type": "execute_result"
    }
   ],
   "source": [
    "count_even(my_list)"
   ]
  },
  {
   "cell_type": "code",
   "execution_count": 18,
   "metadata": {
    "collapsed": true
   },
   "outputs": [],
   "source": [
    "# Question 2:\n",
    "# Write a function to calculate the maximum value in a list of integers. \n",
    "# E.g. calc_max([1, 2, 3, 10, 7]) should return the value 10.\n",
    "\n",
    "def calc_max(my_list):\n",
    "    maximum = my_list[0] \n",
    "    for num in my_list:\n",
    "        if num > maximum:\n",
    "            maximum = num\n",
    "    \n",
    "    return maximum"
   ]
  },
  {
   "cell_type": "code",
   "execution_count": 19,
   "metadata": {},
   "outputs": [
    {
     "data": {
      "text/plain": [
       "15"
      ]
     },
     "execution_count": 19,
     "metadata": {},
     "output_type": "execute_result"
    }
   ],
   "source": [
    "calc_max(my_list)"
   ]
  },
  {
   "cell_type": "code",
   "execution_count": 20,
   "metadata": {
    "collapsed": true
   },
   "outputs": [],
   "source": [
    "# Question 3:\n",
    "# Write a function to calculate the minimum value in a list of integers. \n",
    "# E.g. calc_min([1, 2, 3, 10, 7]) should return the value 1.\n",
    "def calc_min(my_list):\n",
    "    minimum = my_list[0] \n",
    "    for num in my_list:\n",
    "        if num < minimum:\n",
    "            minimum = num\n",
    "    \n",
    "    return minimum"
   ]
  },
  {
   "cell_type": "code",
   "execution_count": 21,
   "metadata": {},
   "outputs": [
    {
     "data": {
      "text/plain": [
       "1"
      ]
     },
     "execution_count": 21,
     "metadata": {},
     "output_type": "execute_result"
    }
   ],
   "source": [
    "calc_min(my_list)"
   ]
  },
  {
   "cell_type": "code",
   "execution_count": 22,
   "metadata": {
    "collapsed": true
   },
   "outputs": [],
   "source": [
    "# Question 4:\n",
    "# Using the previous two functions, write a function to calculate the difference \n",
    "# between the largest and smallest value in a list of integers. \n",
    "# E.g. calc_range([1, 2, 3, 10, 7]) should return the value 9.\n",
    "\n",
    "def calc_range(my_list):\n",
    "    \n",
    "    min_max_range = calc_max(my_list) - calc_min(my_list)\n",
    "    \n",
    "    return min_max_range"
   ]
  },
  {
   "cell_type": "code",
   "execution_count": 23,
   "metadata": {},
   "outputs": [
    {
     "data": {
      "text/plain": [
       "14"
      ]
     },
     "execution_count": 23,
     "metadata": {},
     "output_type": "execute_result"
    }
   ],
   "source": [
    "calc_range(my_list)"
   ]
  },
  {
   "cell_type": "code",
   "execution_count": 80,
   "metadata": {},
   "outputs": [],
   "source": [
    "# Question 5:\n",
    "# Write a function to determine if a list of integers is sorted (strictly) \n",
    "# in ascending order. E.g. is_sorted([1, 2, 3, 10, 7]) \n",
    "# should return False but is_sorted([1, 2, 3, 7, 10]) should return True.\n",
    "\n",
    "def is_sorted(my_list):\n",
    "    \n",
    "\n",
    "    for index in range(len(my_list)-1):\n",
    "    \n",
    "        if my_list[index] > my_list[index+1]:\n",
    "            return False\n",
    "            \n",
    "    return True"
   ]
  },
  {
   "cell_type": "code",
   "execution_count": 82,
   "metadata": {},
   "outputs": [
    {
     "data": {
      "text/plain": [
       "True"
      ]
     },
     "execution_count": 82,
     "metadata": {},
     "output_type": "execute_result"
    }
   ],
   "source": [
    "my_list3 = [-1, 1, 2, 3, 4, 5]\n",
    "is_sorted(my_list3)"
   ]
  },
  {
   "cell_type": "code",
   "execution_count": 83,
   "metadata": {},
   "outputs": [],
   "source": [
    "# Question 6:\n",
    "# Write a function to determine if a list of integers contains any duplicates. E.g. has_dupes([1, 2, 3, 10, 7]) \n",
    "# should return False but has_dupes([1, 2, 3, 10, 10]) should return True.\n",
    "\n",
    "def has_dupes(my_list):\n",
    "    \n",
    "    for index, num in enumerate(my_list):\n",
    "        print(my_list[:index], num)\n",
    "        if num in my_list[:index]:\n",
    "            return True\n",
    "        \n",
    "    return False"
   ]
  },
  {
   "cell_type": "code",
   "execution_count": 84,
   "metadata": {},
   "outputs": [
    {
     "name": "stdout",
     "output_type": "stream",
     "text": [
      "[] 1\n",
      "[1] 2\n",
      "[1, 2] 3\n",
      "[1, 2, 3] 4\n",
      "[1, 2, 3, 4] 5\n",
      "[1, 2, 3, 4, 5] 6\n",
      "[1, 2, 3, 4, 5, 6] 6\n"
     ]
    },
    {
     "data": {
      "text/plain": [
       "True"
      ]
     },
     "execution_count": 84,
     "metadata": {},
     "output_type": "execute_result"
    }
   ],
   "source": [
    "my_list2 = [1, 2, 3, 4, 5, 6 , 6]\n",
    "has_dupes(my_list2)"
   ]
  },
  {
   "cell_type": "code",
   "execution_count": 64,
   "metadata": {
    "collapsed": true
   },
   "outputs": [],
   "source": [
    "# Question 7: \n",
    "# Find out what a Python set is and use it to solve the above problem more easily.\n",
    "\n",
    "# returns unique elements only\n",
    "def has_dupes2(my_list):\n",
    "    \n",
    "    if len(list(set(my_list))) == len(my_list):\n",
    "        return False\n",
    "    \n",
    "    else:\n",
    "        return True"
   ]
  },
  {
   "cell_type": "code",
   "execution_count": 65,
   "metadata": {},
   "outputs": [
    {
     "data": {
      "text/plain": [
       "True"
      ]
     },
     "execution_count": 65,
     "metadata": {},
     "output_type": "execute_result"
    }
   ],
   "source": [
    "my_list4 = [1, 2, 3, 4, 5, 6 , 6]\n",
    "has_dupes2(my_list4)"
   ]
  },
  {
   "cell_type": "code",
   "execution_count": 76,
   "metadata": {},
   "outputs": [
    {
     "name": "stdout",
     "output_type": "stream",
     "text": [
      "first normal arg: yasoob\n",
      "another arg through *argv: python\n",
      "another arg through *argv: eggs\n",
      "another arg through *argv: test\n"
     ]
    }
   ],
   "source": [
    "# Question 8: \n",
    "# Find out what default arguments are and write some code to teach yourself the concept.\n",
    "# http://book.pythontips.com/en/latest/args_and_kwargs.html\n",
    "\n",
    "# *args and **kwargs allow you to pass a variable number of arguments to a function. \n",
    "# What variable means here is that you do not know beforehand how many arguments \n",
    "# can be passed to your function by the user so in this case you use these two keywords. \n",
    "\n",
    "# *args is used to send a non-keyworded variable length argument list to the function.\n",
    "\n",
    "def test_var_args(f_arg, *argv):\n",
    "    print(\"first normal arg:\", f_arg)\n",
    "    for arg in argv:\n",
    "        print(\"another arg through *argv:\", arg)\n",
    "\n",
    "test_var_args('yasoob', 'python', 'eggs', 'test')"
   ]
  },
  {
   "cell_type": "code",
   "execution_count": 79,
   "metadata": {},
   "outputs": [
    {
     "name": "stdout",
     "output_type": "stream",
     "text": [
      "name = yasoob\n"
     ]
    }
   ],
   "source": [
    "# Question 9:\n",
    "# Find out what keyword arguments are and write some code to teach yourself the concept.\n",
    "# http://book.pythontips.com/en/latest/args_and_kwargs.html\n",
    "\n",
    "# **kwargs allows you to pass keyworded variable length of arguments to a function. \n",
    "# You should use **kwargs if you want to handle named arguments in a function. \n",
    "# Here is an example to get you going with it:\n",
    "\n",
    "def greet_me(**kwargs):\n",
    "    for key, value in kwargs.items():\n",
    "        print(\"{0} = {1}\".format(key, value))\n",
    "\n",
    "greet_me(name=\"yasoob\")"
   ]
  },
  {
   "cell_type": "code",
   "execution_count": null,
   "metadata": {
    "collapsed": true
   },
   "outputs": [],
   "source": []
  },
  {
   "cell_type": "code",
   "execution_count": null,
   "metadata": {
    "collapsed": true
   },
   "outputs": [],
   "source": []
  }
 ],
 "metadata": {
  "kernelspec": {
   "display_name": "Python 3",
   "language": "python",
   "name": "python3"
  },
  "language_info": {
   "codemirror_mode": {
    "name": "ipython",
    "version": 3
   },
   "file_extension": ".py",
   "mimetype": "text/x-python",
   "name": "python",
   "nbconvert_exporter": "python",
   "pygments_lexer": "ipython3",
   "version": "3.6.1"
  }
 },
 "nbformat": 4,
 "nbformat_minor": 2
}
