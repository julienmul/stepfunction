{
 "cells": [
  {
   "cell_type": "markdown",
   "metadata": {},
   "source": [
    "## Lists\n",
    "A list is a *sequence* type, like a string. This means you can index, slice, use len() and more, just as for strings."
   ]
  },
  {
   "cell_type": "code",
   "execution_count": null,
   "metadata": {
    "collapsed": true
   },
   "outputs": [],
   "source": [
    "odd_list = [1, 3, 5, 7, 9]"
   ]
  },
  {
   "cell_type": "code",
   "execution_count": null,
   "metadata": {},
   "outputs": [],
   "source": [
    "# Indexing and slicing\n",
    "print(odd_list[0])\n",
    "print(odd_list[-1])\n",
    "print(odd_list[2:4])\n",
    "print(odd_list[:2])"
   ]
  },
  {
   "cell_type": "code",
   "execution_count": null,
   "metadata": {},
   "outputs": [],
   "source": [
    "# Lists are *mutable*, unlike strings\n",
    "odd_list[0] = 11\n",
    "print(odd_list)\n",
    "\n",
    "# Uncomment the next two lines to confirm that strings are immutable\n",
    "#my_string = \"Yellow\"\n",
    "#my_string[0] = \"B\""
   ]
  },
  {
   "cell_type": "code",
   "execution_count": null,
   "metadata": {},
   "outputs": [],
   "source": [
    "# List concatenation\n",
    "new_list = odd_list + [13, 15, 19]\n",
    "print(new_list)"
   ]
  },
  {
   "cell_type": "code",
   "execution_count": null,
   "metadata": {},
   "outputs": [],
   "source": [
    "# Appending a single element to the same list\n",
    "odd_list.append(13)\n",
    "print(odd_list)"
   ]
  },
  {
   "cell_type": "code",
   "execution_count": null,
   "metadata": {},
   "outputs": [],
   "source": [
    "# If you want to add more than one element, use extend(), not append()\n",
    "orig_list = [1, 2, 3]\n",
    "orig_list.append([4, 5])\n",
    "print(orig_list)\n",
    "\n",
    "orig_list = [1, 2, 3]\n",
    "orig_list.extend([4, 5])\n",
    "print(orig_list)"
   ]
  },
  {
   "cell_type": "code",
   "execution_count": null,
   "metadata": {},
   "outputs": [],
   "source": [
    "# Deleting an item\n",
    "orig_list = [1, 2, 3, 4, 5]\n",
    "del orig_list[2]\n",
    "print(orig_list)"
   ]
  },
  {
   "cell_type": "code",
   "execution_count": null,
   "metadata": {},
   "outputs": [],
   "source": [
    "# You can have different types in the same list: here we have integers, strings and floats.\n",
    "# But this usually isn't very useful!\n",
    "mixed_list = [1, 2, \"three\", 4, 1.2]\n",
    "print(mixed_list[0])\n",
    "print(mixed_list[2])"
   ]
  },
  {
   "cell_type": "markdown",
   "metadata": {},
   "source": [
    "## Exercises\n",
    "1. Assign the list `[\"say\", \"hello\", \"to\", \"my\", \"little\", \"pythonista\"]` to a variable called `words`. Print:\n",
    "    * The first word in `words`\n",
    "    * The last word in `words`\n",
    "    * The first letter of the first word in `words`\n",
    "    * The last letter of the second word in `words`\n",
    "    * The first four words in `words`\n",
    "    * The first two letters of the second word in `words`\n",
    "2. Change the word `\"hello\"` to `\"goodbye\"` in `words` and print the result.\n",
    "3. Change the word `\"pythonista\"` to the integer `42` in `words` and print the result.\n",
    "4. Print `words` concatenated with the list `[\"on\", \"toast\"]`, but without changing the value of `words` itself.\n",
    "5. Add the single word `\"on\"` to the end of `words`.\n",
    "6. Add the words `\"toast\", \"with\", \"marmalade\"` on to the end of `words`.\n",
    "7. Why do you think we always add to the ends of lists but not the front?\n",
    "8. Run the following lines of code:\n",
    "```\n",
    "my_num = 42\n",
    "copied_num = my_num\n",
    "copied_num = 7\n",
    "print(copied_num)\n",
    "print(my_num)\n",
    "```\n",
    "Does the value of `my_num` make sense?\n",
    "Now run the following code:\n",
    "```\n",
    "my_list = [1, 2, 3]\n",
    "copied_list = my_list\n",
    "copied_list[0] = 4\n",
    "print(copied_list)\n",
    "print(my_list)\n",
    "```\n",
    "Does the value of `my_list` make sense?\n",
    "Finally, run these lines (spot the difference!):\n",
    "```\n",
    "my_list = [1, 2, 3]\n",
    "copied_list = my_list[:]\n",
    "copied_list[0] = 4\n",
    "print(copied_list)\n",
    "print(my_list)\n",
    "```\n",
    "What's happened to the value of `my_list`?"
   ]
  }
 ],
 "metadata": {
  "kernelspec": {
   "display_name": "Python 3",
   "language": "python",
   "name": "python3"
  },
  "language_info": {
   "codemirror_mode": {
    "name": "ipython",
    "version": 3
   },
   "file_extension": ".py",
   "mimetype": "text/x-python",
   "name": "python",
   "nbconvert_exporter": "python",
   "pygments_lexer": "ipython3",
   "version": "3.6.1"
  }
 },
 "nbformat": 4,
 "nbformat_minor": 2
}
