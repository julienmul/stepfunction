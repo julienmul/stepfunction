{
 "cells": [
  {
   "cell_type": "markdown",
   "metadata": {},
   "source": [
    "## Decision Trees\n",
    "\n",
    "In this classification task, we'd like to distinguish 3 different species (Setosa, Versicolour, and Virginica) of iris flowers based on their petal and sepal length and width.\n",
    "\n",
    "This data set is built into sklearn, so it's straightforward to load it in. See [here](https://en.wikipedia.org/wiki/Iris_flower_data_set) for more details on the iris data set."
   ]
  },
  {
   "cell_type": "code",
   "execution_count": null,
   "metadata": {
    "collapsed": true
   },
   "outputs": [],
   "source": [
    "import numpy as np\n",
    "from sklearn.datasets import load_iris\n",
    "from sklearn import tree\n",
    "from sklearn.tree import DecisionTreeClassifier\n",
    "from sklearn.model_selection import train_test_split\n",
    "from sklearn.metrics import confusion_matrix, classification_report"
   ]
  },
  {
   "cell_type": "code",
   "execution_count": null,
   "metadata": {
    "collapsed": true
   },
   "outputs": [],
   "source": [
    "# Load in features X and outputs y.\n",
    "# Then split (X, y) into a training and test set.\n",
    "# 30% of the data is put into the test set and 70% in the training set.\n",
    "iris_data = load_iris()\n",
    "X = iris_data.data\n",
    "y = iris_data.target\n",
    "X_train, X_test, y_train, y_test = train_test_split(X, y, test_size=0.3, random_state=0)\n",
    "y_actual = y_test"
   ]
  },
  {
   "cell_type": "code",
   "execution_count": null,
   "metadata": {},
   "outputs": [],
   "source": [
    "print(\"Features are\", iris_data.feature_names)\n",
    "print(\"Targets are\", iris_data.target_names)\n",
    "print(\"Training set size is\", len(X_train))\n",
    "print(\"Test set size is\", len(X_test))\n",
    "for a, b in zip(X_train[:10], y_train[:10]):\n",
    "    print(\"Input = {0}; output = {1} (species = {2})\".format(a, b,\n",
    "                                                             iris_data.target_names[b]))"
   ]
  },
  {
   "cell_type": "markdown",
   "metadata": {},
   "source": [
    "## Build and output the model\n",
    "In the next two steps, we build the decision tree model from the training set and export it to a file for viewing in GraphViz."
   ]
  },
  {
   "cell_type": "code",
   "execution_count": null,
   "metadata": {},
   "outputs": [],
   "source": [
    "model = DecisionTreeClassifier()\n",
    "model.fit(X_train, y_train)"
   ]
  },
  {
   "cell_type": "code",
   "execution_count": null,
   "metadata": {
    "collapsed": true
   },
   "outputs": [],
   "source": [
    "with open(\"iris.dot\", 'w') as f:\n",
    "    f = tree.export_graphviz(model,\n",
    "                             out_file=f,\n",
    "                             feature_names=iris_data.feature_names,  \n",
    "                             class_names=iris_data.target_names,  \n",
    "                             filled=True,\n",
    "                             rounded=True,  \n",
    "                             special_characters=True)  "
   ]
  },
  {
   "cell_type": "markdown",
   "metadata": {},
   "source": [
    "## Model evaluation\n",
    "\n",
    "Let's first print the confusion matrix as we usually do."
   ]
  },
  {
   "cell_type": "code",
   "execution_count": null,
   "metadata": {},
   "outputs": [],
   "source": [
    "y_pred = model.predict(X_test)\n",
    "print(confusion_matrix(y_actual, y_pred))"
   ]
  },
  {
   "cell_type": "markdown",
   "metadata": {},
   "source": [
    "Now let's print the **precision**, **recall** and **$F_1$ score** for each class.\n",
    "\n",
    "**Example**: For the \"versicolor\" class, the precision is equal to the proportion of irises predicted to be \"versicolor\" that were indeed \"versicolor\".\n",
    "\n",
    "The recall is equal to the proportion of irises that are in fact \"versicolor\" that the classifier correctly predicted to be \"versicolor\".\n",
    "\n",
    "If our classifier hypothetically labelled everything as \"versicolor\", this would give us a low precision and high recall (100%) for this class.\n",
    "\n",
    "If our classifier labelled only a single iris (where it was absolutely sure of its prediction) as \"versicolor\", this would give us a high precision (100%) and low recall for this class.\n",
    "\n",
    "Typically, we have to trade off precision against recall based on what is most important for our problem.\n",
    "\n",
    "The $F_1$ score is equal to the harmonic mean of precision and recall. In other words, it gives equal weight to the precision and recall and then computes their average to give us a single score for the class."
   ]
  },
  {
   "cell_type": "code",
   "execution_count": null,
   "metadata": {},
   "outputs": [],
   "source": [
    "print(classification_report(y_actual,\n",
    "                            y_pred,\n",
    "                            target_names=iris_data.target_names))"
   ]
  },
  {
   "cell_type": "code",
   "execution_count": null,
   "metadata": {},
   "outputs": [],
   "source": [
    "model.predict_proba(X_test)"
   ]
  },
  {
   "cell_type": "code",
   "execution_count": null,
   "metadata": {
    "collapsed": true
   },
   "outputs": [],
   "source": [
    "def second_element(x):\n",
    "    return x[1]\n",
    "\n",
    "bla = [(\"hello\", 5), (\"bla\", 2), (\"wah\", 1)]\n",
    "\n",
    "bla.sort(key=lambda x:x[1], reverse=False)"
   ]
  },
  {
   "cell_type": "code",
   "execution_count": null,
   "metadata": {},
   "outputs": [],
   "source": [
    "bla"
   ]
  },
  {
   "cell_type": "code",
   "execution_count": null,
   "metadata": {},
   "outputs": [],
   "source": [
    "a = [1, 2, 3]\n",
    "b = [\"hello\", \"world\", \"yes\"]\n",
    "zip(a,b)"
   ]
  },
  {
   "cell_type": "code",
   "execution_count": null,
   "metadata": {
    "collapsed": true
   },
   "outputs": [],
   "source": [
    "import seaborn as sns\n",
    "import pandas as pd\n",
    "import matplotlib.pyplot as plt\n",
    "\n",
    "fig, ax = plt.subplots()\n",
    "# the size of A4 paper\n",
    "fig.set_size_inches(11.7, 8.27)"
   ]
  },
  {
   "cell_type": "code",
   "execution_count": null,
   "metadata": {
    "collapsed": true
   },
   "outputs": [],
   "source": [
    "iris = pd.DataFrame(X, columns=iris_data.feature_names)"
   ]
  },
  {
   "cell_type": "code",
   "execution_count": null,
   "metadata": {},
   "outputs": [],
   "source": [
    "iris['species'] = y\n",
    "iris['petal_width_bins'] = pd.qcut(iris['petal width (cm)'],\n",
    "                           q=3,\n",
    "                           labels=[\"low width\", \"medium width\", \"high width\"])\n",
    "\n",
    "iris['sepal_length_bins'] = pd.qcut(iris['sepal length (cm)'],\n",
    "                           q=3,\n",
    "                           labels=[\"low length\", \"medium length\", \"high length\"])\n",
    "\n",
    "iris.sample(10)"
   ]
  },
  {
   "cell_type": "code",
   "execution_count": null,
   "metadata": {},
   "outputs": [],
   "source": [
    "sns.boxplot(x=\"species\", y=\"sepal length (cm)\", data=iris)\n",
    "sns.plt.show()"
   ]
  },
  {
   "cell_type": "code",
   "execution_count": null,
   "metadata": {},
   "outputs": [],
   "source": [
    "sns.boxplot(x=\"species\", y=\"petal length (cm)\", data=iris)\n",
    "sns.plt.show()"
   ]
  },
  {
   "cell_type": "code",
   "execution_count": null,
   "metadata": {},
   "outputs": [],
   "source": [
    "sns.barplot(x=\"petal_width_bins\", y=\"species\", hue=\"sepal_length_bins\", data=iris)\n",
    "sns.plt.show()"
   ]
  },
  {
   "cell_type": "code",
   "execution_count": null,
   "metadata": {},
   "outputs": [],
   "source": [
    "sns.distplot(iris['sepal width (cm)'])\n",
    "sns.plt.show()"
   ]
  },
  {
   "cell_type": "code",
   "execution_count": null,
   "metadata": {},
   "outputs": [],
   "source": [
    "g = sns.factorplot(x=\"petal width (cm)\", y=\"sepal length (cm)\", col=\"species\",\n",
    "                   data=iris, saturation=.5,\n",
    "                   kind=\"point\", ci=None, aspect=.6)\n",
    "\n",
    "sns.plt.show()"
   ]
  },
  {
   "cell_type": "code",
   "execution_count": null,
   "metadata": {},
   "outputs": [],
   "source": [
    "iris.head()"
   ]
  },
  {
   "cell_type": "code",
   "execution_count": null,
   "metadata": {},
   "outputs": [],
   "source": [
    "corrmat = iris.corr()\n",
    "fig, ax = plt.subplots(figsize=(12, 9))\n",
    "sns.heatmap(corrmat, vmax=.8, square=True)\n",
    "sns.plt.show()"
   ]
  },
  {
   "cell_type": "code",
   "execution_count": null,
   "metadata": {},
   "outputs": [],
   "source": [
    "corrmat = iris.corr()\n",
    "corrmat"
   ]
  },
  {
   "cell_type": "code",
   "execution_count": null,
   "metadata": {},
   "outputs": [],
   "source": [
    "words_freqs = {'words': ['hello', 'world', 'chicken'],\n",
    "               'freqs': [10, 5, 3]}\n",
    "words_freqs_df = pd.DataFrame(words_freqs)\n",
    "\n",
    "words_freqs_df"
   ]
  },
  {
   "cell_type": "code",
   "execution_count": null,
   "metadata": {},
   "outputs": [],
   "source": [
    "import seaborn as sns\n",
    "my_plot = sns.barplot(x=\"words\", y=\"freqs\", data=words_freqs_df)\n",
    "my_plot.get_figure().savefig(\"bla3.png\", dpi=200)\n",
    "sns.plt.show()"
   ]
  },
  {
   "cell_type": "code",
   "execution_count": null,
   "metadata": {},
   "outputs": [],
   "source": [
    "list1 = [1, 2, 3, 4]\n",
    "list2 = [2, 3, 5, 9]\n",
    "\n",
    "set(list1) & set(list2)"
   ]
  },
  {
   "cell_type": "code",
   "execution_count": null,
   "metadata": {},
   "outputs": [],
   "source": [
    "sns.plt.savefig('bla.png')"
   ]
  },
  {
   "cell_type": "code",
   "execution_count": null,
   "metadata": {
    "collapsed": true
   },
   "outputs": [],
   "source": []
  }
 ],
 "metadata": {
  "kernelspec": {
   "display_name": "Python 3",
   "language": "python",
   "name": "python3"
  },
  "language_info": {
   "codemirror_mode": {
    "name": "ipython",
    "version": 3
   },
   "file_extension": ".py",
   "mimetype": "text/x-python",
   "name": "python",
   "nbconvert_exporter": "python",
   "pygments_lexer": "ipython3",
   "version": "3.6.1"
  }
 },
 "nbformat": 4,
 "nbformat_minor": 2
}
