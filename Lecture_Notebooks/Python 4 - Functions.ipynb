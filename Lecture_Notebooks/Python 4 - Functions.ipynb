{
 "cells": [
  {
   "cell_type": "markdown",
   "metadata": {},
   "source": [
    "## Functions\n",
    "A function contains a chunk of code that will be executed any time\n",
    "you *call* the function."
   ]
  },
  {
   "cell_type": "code",
   "execution_count": 9,
   "metadata": {
    "collapsed": true
   },
   "outputs": [],
   "source": [
    "def say_hello():\n",
    "    print(\"Hello! I am a function.\")"
   ]
  },
  {
   "cell_type": "code",
   "execution_count": 10,
   "metadata": {},
   "outputs": [
    {
     "name": "stdout",
     "output_type": "stream",
     "text": [
      "Hello! I am a function.\n"
     ]
    }
   ],
   "source": [
    "say_hello()"
   ]
  },
  {
   "cell_type": "code",
   "execution_count": 11,
   "metadata": {},
   "outputs": [
    {
     "name": "stdout",
     "output_type": "stream",
     "text": [
      "Hello! I am a function.\n"
     ]
    }
   ],
   "source": [
    "say_hello()"
   ]
  },
  {
   "cell_type": "markdown",
   "metadata": {},
   "source": [
    "## But that's not all!\n",
    "Functions can also take *inputs* and return *outputs*. `say_hello()` has zero inputs."
   ]
  },
  {
   "cell_type": "code",
   "execution_count": 15,
   "metadata": {},
   "outputs": [
    {
     "name": "stdout",
     "output_type": "stream",
     "text": [
      "12\n",
      "15\n",
      "18\n"
     ]
    }
   ],
   "source": [
    "def triple_number(x):\n",
    "    return 3 * x\n",
    "\n",
    "print(triple_number(4))\n",
    "print(triple_number(5))\n",
    "\n",
    "x = triple_number(6)\n",
    "print(x)"
   ]
  },
  {
   "cell_type": "code",
   "execution_count": 16,
   "metadata": {},
   "outputs": [
    {
     "name": "stdout",
     "output_type": "stream",
     "text": [
      "6\n",
      "24\n"
     ]
    }
   ],
   "source": [
    "# 3 inputs\n",
    "def multiply_numbers(x, y, z):\n",
    "    return x * y * z\n",
    "\n",
    "print(multiply_numbers(1, 2, 3))\n",
    "print(multiply_numbers(2, 3, 4))"
   ]
  },
  {
   "cell_type": "markdown",
   "metadata": {},
   "source": [
    "**Exercise: Write a function that quadruples a number. Test it!**\n",
    "\n",
    "**Exercise: Write a function that adds four numbers together. Test it!**"
   ]
  },
  {
   "cell_type": "markdown",
   "metadata": {},
   "source": [
    "Function inputs are often called\n",
    "* Arguments\n",
    "* Parameters\n",
    "* Or just inputs!\n",
    "\n",
    "All of these mean the same thing."
   ]
  },
  {
   "cell_type": "markdown",
   "metadata": {},
   "source": [
    "## A more complicated function\n",
    "Note the simple docstring explaining how to use the function. It's not following any particular style but gets the job done.\n",
    "\n",
    "REMEMBER: It should be possible to use your function just by reading the docstring, never the function's code itself."
   ]
  },
  {
   "cell_type": "code",
   "execution_count": 23,
   "metadata": {},
   "outputs": [
    {
     "name": "stdout",
     "output_type": "stream",
     "text": [
      "Body mass index is 24.7\n",
      "Your BMI indicates that you are NORMAL for your height\n",
      "---------\n",
      "Body mass index is 27.8\n",
      "Your BMI indicates that you are OVERWEIGHT for your height\n",
      "---------\n",
      "Body mass index is 30.9\n",
      "Your BMI indicates that you are OBESE for your height\n"
     ]
    }
   ],
   "source": [
    "def bmi_status(mass, height):\n",
    "    \"\"\"For adults only. Mass should be in kilograms and height in metres.\"\"\"\n",
    "    bmi = mass / (height ** 2)\n",
    "    print(\"Body mass index is {0:.1f}\".format(bmi))\n",
    "    \n",
    "    if bmi < 25:\n",
    "        status = \"NORMAL\"\n",
    "    elif bmi < 29:\n",
    "        status = \"OVERWEIGHT\"\n",
    "    else:\n",
    "        status = \"OBESE\"\n",
    "        \n",
    "    return status\n",
    "    \n",
    "print(\"Your BMI indicates that you are {0} for your height\".format(bmi_status(80, 1.8)))\n",
    "print(\"---------\")\n",
    "print(\"Your BMI indicates that you are {0} for your height\".format(bmi_status(90, 1.8)))\n",
    "print(\"---------\")\n",
    "print(\"Your BMI indicates that you are {0} for your height\".format(bmi_status(100, 1.8)))"
   ]
  },
  {
   "cell_type": "code",
   "execution_count": 24,
   "metadata": {},
   "outputs": [
    {
     "name": "stdout",
     "output_type": "stream",
     "text": [
      "Body mass index is 24.7\n"
     ]
    },
    {
     "data": {
      "text/plain": [
       "'NORMAL'"
      ]
     },
     "execution_count": 24,
     "metadata": {},
     "output_type": "execute_result"
    }
   ],
   "source": [
    "bmi_status(80, 1.8)"
   ]
  },
  {
   "cell_type": "markdown",
   "metadata": {},
   "source": [
    "1. **Exercise: Write a function that calculates the BMI status for children. Test it!**\n",
    "\n",
    "    **You may assume that for children, a BMI of less than 22 is NORMAL, between 22 and 25 is OVERWEIGHT and over 25 is OBESE.**\n",
    "\n",
    "3. **Exercise: Write a function called `compute_bmi()` that returns the *value* of the BMI as opposed to the BMI status. You should be able to copy some code!**\n",
    "\n",
    "4. **Exercise: Rewrite `bmi_status()` so that it uses the new `compute_bmi()` function. Do the same for `bmi_status_child()`.**\n",
    "\n",
    "5. **Exercise: Write a single function that returns the correct BMI status, regardless of whether the person is a child or adult. Hint: Consider using 1 more argument!**"
   ]
  },
  {
   "cell_type": "markdown",
   "metadata": {},
   "source": [
    "## Functions you've already seen\n",
    "You've been using functions already, (possibly) without knowing it!\n",
    "\n",
    "Examples:\n",
    "* `print()`\n",
    "* `format()`\n",
    "* `len()`\n",
    "* `fit()`"
   ]
  },
  {
   "cell_type": "code",
   "execution_count": 25,
   "metadata": {},
   "outputs": [
    {
     "name": "stdout",
     "output_type": "stream",
     "text": [
      "Help on built-in function len in module builtins:\n",
      "\n",
      "len(obj, /)\n",
      "    Return the number of items in a container.\n",
      "\n"
     ]
    }
   ],
   "source": [
    "help(len)"
   ]
  },
  {
   "cell_type": "code",
   "execution_count": 27,
   "metadata": {},
   "outputs": [
    {
     "name": "stdout",
     "output_type": "stream",
     "text": [
      "Help on built-in function format:\n",
      "\n",
      "format(...) method of builtins.str instance\n",
      "    S.format(*args, **kwargs) -> str\n",
      "    \n",
      "    Return a formatted version of S, using substitutions from args and kwargs.\n",
      "    The substitutions are identified by braces ('{' and '}').\n",
      "\n"
     ]
    }
   ],
   "source": [
    "help(\"\".format)"
   ]
  },
  {
   "cell_type": "markdown",
   "metadata": {},
   "source": [
    "## Using functions with loops"
   ]
  },
  {
   "cell_type": "code",
   "execution_count": 29,
   "metadata": {},
   "outputs": [
    {
     "name": "stdout",
     "output_type": "stream",
     "text": [
      "10 is even\n"
     ]
    }
   ],
   "source": [
    "def print_even_or_odd(x):\n",
    "    if x % 2 == 0:\n",
    "        print(\"{0} is even\".format(x))\n",
    "    else:\n",
    "        print(\"{0} is odd\".format(x))\n",
    "\n",
    "print_even_or_odd(10)"
   ]
  },
  {
   "cell_type": "code",
   "execution_count": 30,
   "metadata": {},
   "outputs": [
    {
     "name": "stdout",
     "output_type": "stream",
     "text": [
      "0 is even\n",
      "1 is odd\n",
      "2 is even\n",
      "3 is odd\n",
      "4 is even\n",
      "5 is odd\n",
      "6 is even\n",
      "7 is odd\n",
      "8 is even\n",
      "9 is odd\n"
     ]
    }
   ],
   "source": [
    "for num in range(10):\n",
    "    print_even_or_odd(num)"
   ]
  },
  {
   "cell_type": "code",
   "execution_count": 31,
   "metadata": {},
   "outputs": [
    {
     "name": "stdout",
     "output_type": "stream",
     "text": [
      "10 is even\n",
      "3 is odd\n",
      "58 is even\n",
      "1 is odd\n",
      "23 is odd\n",
      "2 is even\n",
      "0 is even\n",
      "12 is even\n"
     ]
    }
   ],
   "source": [
    "numbers = [10, 3, 58, 1, 23, 2, 0, 12]\n",
    "for num in numbers:\n",
    "    print_even_or_odd(num)"
   ]
  },
  {
   "cell_type": "markdown",
   "metadata": {},
   "source": [
    "## Exercises\n",
    "1. Write a function to count how many even numbers there are in a list of integers. E.g. `count_evens([1, 2, 3, 10, 7])` should return the value 2.\n",
    "\n",
    "2. Write a function to calculate the **maximum** value in a list of integers. E.g. `calc_max([1, 2, 3, 10, 7])` should return the value 10.\n",
    "\n",
    "3. Write a function to calculate the **minimum** value in a list of integers. E.g. `calc_min([1, 2, 3, 10, 7])` should return the value 1.\n",
    "\n",
    "4. Using the previous two functions, write a function to calculate the difference between the largest and smallest value in a list of integers. E.g. `calc_range([1, 2, 3, 10, 7])` should return the value 9.\n",
    "\n",
    "5. Write a function to determine if a list of integers is *sorted* (strictly) in ascending order. E.g. `is_sorted([1, 2, 3, 10, 7])` should return `False` but `is_sorted([1, 2, 3, 7, 10])` should return `True`.\n",
    "\n",
    "6. Write a function to determine if a list of integers contains any duplicates. E.g. `has_dupes([1, 2, 3, 10, 7])` should return `False` but `has_dupes([1, 2, 3, 10, 10])` should return `True`.\n",
    "\n",
    "7. Find out what a Python `set` is and use it to solve the above problem more easily.\n",
    "\n",
    "8. Find out what **default arguments** are and write some code to teach yourself the concept.\n",
    "\n",
    "9. Find out what **keyword arguments** are and write some code to teach yourself the concept.\n",
    "\n"
   ]
  },
  {
   "cell_type": "code",
   "execution_count": 32,
   "metadata": {},
   "outputs": [
    {
     "data": {
      "text/plain": [
       "10"
      ]
     },
     "execution_count": 32,
     "metadata": {},
     "output_type": "execute_result"
    }
   ],
   "source": [
    "max([1,2,5,10,7])"
   ]
  }
 ],
 "metadata": {
  "kernelspec": {
   "display_name": "Python 3",
   "language": "python",
   "name": "python3"
  },
  "language_info": {
   "codemirror_mode": {
    "name": "ipython",
    "version": 3
   },
   "file_extension": ".py",
   "mimetype": "text/x-python",
   "name": "python",
   "nbconvert_exporter": "python",
   "pygments_lexer": "ipython3",
   "version": "3.6.1"
  }
 },
 "nbformat": 4,
 "nbformat_minor": 2
}
