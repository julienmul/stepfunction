{
 "cells": [
  {
   "cell_type": "code",
   "execution_count": 1,
   "metadata": {
    "collapsed": true
   },
   "outputs": [],
   "source": [
    "odd_list = [1,3,5,7,9]"
   ]
  },
  {
   "cell_type": "code",
   "execution_count": 2,
   "metadata": {},
   "outputs": [
    {
     "name": "stdout",
     "output_type": "stream",
     "text": [
      "1\n",
      "9\n",
      "[5, 7]\n",
      "[1, 3]\n"
     ]
    }
   ],
   "source": [
    "# Indexing and slicing\n",
    "print(odd_list[0])\n",
    "print(odd_list[-1])\n",
    "print(odd_list[2:4])\n",
    "print(odd_list[:2])"
   ]
  },
  {
   "cell_type": "code",
   "execution_count": 3,
   "metadata": {},
   "outputs": [
    {
     "name": "stdout",
     "output_type": "stream",
     "text": [
      "[11, 3, 5, 7, 9]\n"
     ]
    }
   ],
   "source": [
    "# Lists are mutable, unlike strings\n",
    "odd_list[0] = 11\n",
    "print(odd_list)"
   ]
  },
  {
   "cell_type": "code",
   "execution_count": 4,
   "metadata": {},
   "outputs": [
    {
     "name": "stdout",
     "output_type": "stream",
     "text": [
      "[11, 3, 5, 7, 9]\n"
     ]
    }
   ],
   "source": [
    "new_list = odd_list + [13, 15, 19]\n",
    "print(odd_list)"
   ]
  },
  {
   "cell_type": "code",
   "execution_count": 5,
   "metadata": {},
   "outputs": [
    {
     "name": "stdout",
     "output_type": "stream",
     "text": [
      "[1, 2, 3, [5, 6]]\n",
      "[1, 2, 3, 5, 6]\n"
     ]
    }
   ],
   "source": [
    "orig_list = [1, 2, 3]\n",
    "orig_list.append([5, 6])\n",
    "print(orig_list)\n",
    "\n",
    "orig_list = [1, 2, 3]\n",
    "orig_list.extend([5, 6])\n",
    "print(orig_list)"
   ]
  },
  {
   "cell_type": "code",
   "execution_count": 6,
   "metadata": {},
   "outputs": [
    {
     "name": "stdout",
     "output_type": "stream",
     "text": [
      "[1, 2, 4, 5]\n",
      "[1, 2, 4]\n"
     ]
    }
   ],
   "source": [
    "# deleting items from list:\n",
    "orig_list = [1, 2, 3, 4, 5]\n",
    "del orig_list[2]\n",
    "print(orig_list)\n",
    "\n",
    "orig_list.pop()\n",
    "print(orig_list)"
   ]
  },
  {
   "cell_type": "code",
   "execution_count": null,
   "metadata": {
    "collapsed": true
   },
   "outputs": [],
   "source": []
  },
  {
   "cell_type": "markdown",
   "metadata": {},
   "source": [
    "### Exercises"
   ]
  },
  {
   "cell_type": "code",
   "execution_count": 7,
   "metadata": {},
   "outputs": [
    {
     "name": "stdout",
     "output_type": "stream",
     "text": [
      "say\n",
      "pythonista\n",
      "s\n",
      "o\n",
      "['say', 'hello', 'to']\n",
      "he\n"
     ]
    }
   ],
   "source": [
    "# 1\n",
    "words = ['say','hello', 'to','my','little', 'pythonista']\n",
    "\n",
    "print(words[0])\n",
    "print(words[-1])\n",
    "print(words[0][0])\n",
    "print(words[1][-1])\n",
    "print(words[:3])\n",
    "print(words[1][:2])"
   ]
  },
  {
   "cell_type": "code",
   "execution_count": 8,
   "metadata": {},
   "outputs": [
    {
     "name": "stdout",
     "output_type": "stream",
     "text": [
      "['say', 'goodbye', 'to', 'my', 'little', 'pythonista']\n"
     ]
    }
   ],
   "source": [
    "# 2\n",
    "words[1] = 'goodbye'\n",
    "print(words)"
   ]
  },
  {
   "cell_type": "code",
   "execution_count": 9,
   "metadata": {},
   "outputs": [
    {
     "name": "stdout",
     "output_type": "stream",
     "text": [
      "['say', 'goodbye', 'to', 'my', 'little', 42]\n"
     ]
    }
   ],
   "source": [
    "# 3 \n",
    "words[-1] = int(42)\n",
    "print(words)"
   ]
  },
  {
   "cell_type": "code",
   "execution_count": 10,
   "metadata": {},
   "outputs": [
    {
     "name": "stdout",
     "output_type": "stream",
     "text": [
      "['say', 'goodbye', 'to', 'my', 'little', 42, 'on', 'toast']\n"
     ]
    }
   ],
   "source": [
    "# 4\n",
    "print(words + ['on', 'toast'])\n"
   ]
  },
  {
   "cell_type": "code",
   "execution_count": 11,
   "metadata": {},
   "outputs": [
    {
     "name": "stdout",
     "output_type": "stream",
     "text": [
      "['say', 'goodbye', 'to', 'my', 'little', 42, 'on']\n"
     ]
    }
   ],
   "source": [
    "# 5 \n",
    "words.append('on')\n",
    "print(words)"
   ]
  },
  {
   "cell_type": "code",
   "execution_count": 12,
   "metadata": {},
   "outputs": [
    {
     "name": "stdout",
     "output_type": "stream",
     "text": [
      "['say', 'goodbye', 'to', 'my', 'little', 42, 'on', 'toast', 'with', 'marmalade']\n"
     ]
    }
   ],
   "source": [
    "# 6\n",
    "words.extend(['toast', 'with', 'marmalade'])\n",
    "print(words)"
   ]
  },
  {
   "cell_type": "code",
   "execution_count": 13,
   "metadata": {
    "collapsed": true
   },
   "outputs": [],
   "source": [
    "# 7\n",
    "# Performace issue! Faster to add"
   ]
  },
  {
   "cell_type": "code",
   "execution_count": 14,
   "metadata": {},
   "outputs": [
    {
     "name": "stdout",
     "output_type": "stream",
     "text": [
      "7\n",
      "42\n"
     ]
    }
   ],
   "source": [
    "# 8 \n",
    "my_num = 42\n",
    "copied_num = my_num\n",
    "copied_num = 7\n",
    "print(copied_num)\n",
    "print(my_num)"
   ]
  },
  {
   "cell_type": "code",
   "execution_count": 15,
   "metadata": {},
   "outputs": [
    {
     "name": "stdout",
     "output_type": "stream",
     "text": [
      "[4, 2, 3]\n",
      "[4, 2, 3]\n"
     ]
    }
   ],
   "source": [
    "my_list = [1, 2, 3]\n",
    "copied_list = my_list\n",
    "copied_list[0] = 4\n",
    "print(copied_list)\n",
    "print(my_list)\n",
    "\n",
    "# pointer !"
   ]
  },
  {
   "cell_type": "code",
   "execution_count": 20,
   "metadata": {},
   "outputs": [
    {
     "name": "stdout",
     "output_type": "stream",
     "text": [
      "[4, 2, 3]\n",
      "[1, 2, 3]\n"
     ]
    }
   ],
   "source": [
    "my_list = [1, 2, 3]\n",
    "copied_list = my_list[:]\n",
    "copied_list[0] = 4\n",
    "print(copied_list)\n",
    "print(my_list)\n",
    "\n",
    "# deep copy"
   ]
  },
  {
   "cell_type": "code",
   "execution_count": 16,
   "metadata": {},
   "outputs": [
    {
     "data": {
      "text/plain": [
       "True"
      ]
     },
     "execution_count": 16,
     "metadata": {},
     "output_type": "execute_result"
    }
   ],
   "source": [
    "copied_list is my_list"
   ]
  },
  {
   "cell_type": "code",
   "execution_count": 17,
   "metadata": {},
   "outputs": [
    {
     "data": {
      "text/plain": [
       "True"
      ]
     },
     "execution_count": 17,
     "metadata": {},
     "output_type": "execute_result"
    }
   ],
   "source": [
    "copied_list == my_list"
   ]
  },
  {
   "cell_type": "code",
   "execution_count": 19,
   "metadata": {},
   "outputs": [
    {
     "data": {
      "text/plain": [
       "False"
      ]
     },
     "execution_count": 19,
     "metadata": {},
     "output_type": "execute_result"
    }
   ],
   "source": [
    "copied_list is my_list[:]"
   ]
  }
 ],
 "metadata": {
  "kernelspec": {
   "display_name": "Python 3",
   "language": "python",
   "name": "python3"
  },
  "language_info": {
   "codemirror_mode": {
    "name": "ipython",
    "version": 3
   },
   "file_extension": ".py",
   "mimetype": "text/x-python",
   "name": "python",
   "nbconvert_exporter": "python",
   "pygments_lexer": "ipython3",
   "version": "3.6.1"
  }
 },
 "nbformat": 4,
 "nbformat_minor": 2
}
