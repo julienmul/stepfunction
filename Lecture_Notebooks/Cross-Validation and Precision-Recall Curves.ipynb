{
 "cells": [
  {
   "cell_type": "markdown",
   "metadata": {},
   "source": [
    "## Diabetes\n",
    "\n",
    "In this example, we'll explore cross-validation by means of a diabetes example. The goal is to produce classifications of either \"-1\" or \"1\". We don't know exactly what the output or features are meant to represent; it doesn't really matter for this illustration!"
   ]
  },
  {
   "cell_type": "code",
   "execution_count": 7,
   "metadata": {
    "collapsed": true
   },
   "outputs": [],
   "source": [
    "from sklearn.datasets import load_svmlight_file\n",
    "from sklearn.model_selection import train_test_split, GridSearchCV\n",
    "from sklearn.metrics import precision_score, recall_score, precision_recall_curve, average_precision_score\n",
    "from sklearn.svm import SVC\n",
    "\n",
    "import matplotlib.pyplot as plt"
   ]
  },
  {
   "cell_type": "code",
   "execution_count": 2,
   "metadata": {
    "collapsed": true
   },
   "outputs": [],
   "source": [
    "X, y = load_svmlight_file(\"diabetes_scale\")"
   ]
  },
  {
   "cell_type": "code",
   "execution_count": 3,
   "metadata": {
    "collapsed": true
   },
   "outputs": [],
   "source": [
    "X_train, X_test, y_train, y_test = train_test_split(X, y, test_size=0.15, random_state=0)\n",
    "y_actual = y_test"
   ]
  },
  {
   "cell_type": "code",
   "execution_count": 4,
   "metadata": {},
   "outputs": [
    {
     "data": {
      "text/plain": [
       "SVC(C=100, cache_size=200, class_weight=None, coef0=0.0,\n",
       "  decision_function_shape=None, degree=3, gamma=0.001, kernel='rbf',\n",
       "  max_iter=-1, probability=False, random_state=None, shrinking=True,\n",
       "  tol=0.001, verbose=False)"
      ]
     },
     "execution_count": 4,
     "metadata": {},
     "output_type": "execute_result"
    }
   ],
   "source": [
    "param_grid = {'C': [0.001, 0.01, 0.1, 1, 10, 100, 1000] }\n",
    "\n",
    "svc_model = SVC()\n",
    "\n",
    "# By default GridSearchCV uses 3-fold cross-validation. Using more folds would be nice but\n",
    "# can be rather slow as we have to retrain the model for each fold.\n",
    "# Specifying refit=True refits the model using the best parameters over the whole dataset,\n",
    "# allowing us to use grid_search_model directly for predictions after training\n",
    "grid_search_model = GridSearchCV(estimator=svc_model,\n",
    "                                 param_grid=param_grid,\n",
    "                                 refit=True)\n",
    "grid_search_model.fit(X_train, y_train)\n",
    "grid_search_model.best_estimator_"
   ]
  },
  {
   "cell_type": "code",
   "execution_count": 5,
   "metadata": {},
   "outputs": [
    {
     "name": "stdout",
     "output_type": "stream",
     "text": [
      "Precision = 0.837, Recall = 0.923\n"
     ]
    }
   ],
   "source": [
    "y_pred = grid_search_model.predict(X_test)\n",
    "\n",
    "print(\"Precision = {0:.3f}, Recall = {1:.3f}\".format(precision_score(y_actual, y_pred),\n",
    "                                                     recall_score(y_actual, y_pred)))\n"
   ]
  },
  {
   "cell_type": "markdown",
   "metadata": {},
   "source": [
    "## A big difference...\n",
    "\n",
    "Note that in the following, we're using a *decision function* instead of just outputting the prediction itself. For an SVM, this is the distance to the hyperplane; usually a negative distance would be interpreted as a \"no\" and a positive distance as a \"yes\". You can view this score as telling us how confident the model is in its prediction.\n",
    "\n",
    "What we'd like to do is figure out a threshold above which we should view the decision function's score as a \"yes\". Trying out different values of this threshold gives rise to the precision-recall curve below."
   ]
  },
  {
   "cell_type": "code",
   "execution_count": 6,
   "metadata": {},
   "outputs": [
    {
     "name": "stdout",
     "output_type": "stream",
     "text": [
      "Some example scores from the decision function: [-1.87340352  1.15841088  1.63443049 -0.38456949  1.31531154  2.16852864\n",
      " -0.68797022 -1.06783266  0.1591424   0.56784891]\n",
      "Average precision is 0.940198998212\n"
     ]
    },
    {
     "data": {
      "image/png": "[encoded data removed]",
      "text/plain": [
       "<matplotlib.figure.Figure at 0x1169a3f98>"
      ]
     },
     "metadata": {},
     "output_type": "display_data"
    }
   ],
   "source": [
    "y_pred_scores = grid_search_model.decision_function(X_test)\n",
    "\n",
    "print(\"Some example scores from the decision function:\", y_pred_scores[:10])\n",
    "\n",
    "average_precision = average_precision_score(y_actual, y_pred_scores)\n",
    "precisions, recalls, _ = precision_recall_curve(y_actual,\n",
    "                                                y_pred_scores)\n",
    "\n",
    "print(\"Average precision is\", average_precision)\n",
    "plt.plot(recalls, precisions)\n",
    "plt.xlabel(\"Recall\")\n",
    "plt.ylabel(\"Precision\")\n",
    "plt.show()"
   ]
  }
 ],
 "metadata": {
  "kernelspec": {
   "display_name": "Python 3",
   "language": "python",
   "name": "python3"
  },
  "language_info": {
   "codemirror_mode": {
    "name": "ipython",
    "version": 3
   },
   "file_extension": ".py",
   "mimetype": "text/x-python",
   "name": "python",
   "nbconvert_exporter": "python",
   "pygments_lexer": "ipython3",
   "version": "3.6.1"
  }
 },
 "nbformat": 4,
 "nbformat_minor": 2
}
