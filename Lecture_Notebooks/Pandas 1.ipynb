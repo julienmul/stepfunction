{
 "cells": [
  {
   "cell_type": "code",
   "execution_count": null,
   "metadata": {
    "collapsed": true
   },
   "outputs": [],
   "source": [
    "import numpy as np\n",
    "import pandas as pd"
   ]
  },
  {
   "cell_type": "markdown",
   "metadata": {},
   "source": [
    "# Series\n",
    "\n",
    "A pandas `Series` is a 1D labelled array (like a \"list with labels\"). A `Series` is heterogeneous and is capable of holding any data type (integers, strings, floating point numbers, Python objects, etc.). The axis labels are collectively referred to as the *index*."
   ]
  },
  {
   "cell_type": "code",
   "execution_count": null,
   "metadata": {
    "collapsed": true
   },
   "outputs": [],
   "source": [
    "person = pd.Series([180, 80.5, 'male'], index=['height', 'weight', 'gender'])\n",
    "person"
   ]
  },
  {
   "cell_type": "markdown",
   "metadata": {},
   "source": [
    "A pandas `Series` acts very similarly to a NumPy array and supports many of the same functions."
   ]
  },
  {
   "cell_type": "code",
   "execution_count": null,
   "metadata": {
    "collapsed": true
   },
   "outputs": [],
   "source": [
    "person[0]"
   ]
  },
  {
   "cell_type": "code",
   "execution_count": null,
   "metadata": {
    "collapsed": true
   },
   "outputs": [],
   "source": [
    "person[:2]"
   ]
  },
  {
   "cell_type": "code",
   "execution_count": null,
   "metadata": {
    "collapsed": true
   },
   "outputs": [],
   "source": [
    "person[[0, 2]]"
   ]
  },
  {
   "cell_type": "code",
   "execution_count": null,
   "metadata": {
    "collapsed": true
   },
   "outputs": [],
   "source": [
    "person_stats = person[[0, 1]]\n",
    "print(person_stats)\n",
    "person_stats[person_stats > 100]"
   ]
  },
  {
   "cell_type": "markdown",
   "metadata": {},
   "source": [
    "A `Series` is also a bit like a dict, in that you can use its labels as indices..."
   ]
  },
  {
   "cell_type": "code",
   "execution_count": null,
   "metadata": {
    "collapsed": true
   },
   "outputs": [],
   "source": [
    "person['height'] = 170\n",
    "person"
   ]
  },
  {
   "cell_type": "code",
   "execution_count": null,
   "metadata": {
    "collapsed": true
   },
   "outputs": [],
   "source": [
    "person[['height', 'weight']]"
   ]
  },
  {
   "cell_type": "code",
   "execution_count": null,
   "metadata": {
    "collapsed": true
   },
   "outputs": [],
   "source": [
    "print(person.get('height', np.nan))\n",
    "# nan = \"Not a Number\"\n",
    "print(person.get('age', np.nan))\n",
    "# Uncomment to see what happens\n",
    "#person['age']"
   ]
  },
  {
   "cell_type": "markdown",
   "metadata": {},
   "source": [
    "Basic NumPy operations on `Series` work as you'd expect..."
   ]
  },
  {
   "cell_type": "code",
   "execution_count": null,
   "metadata": {
    "collapsed": true
   },
   "outputs": [],
   "source": [
    "person_stats * 2"
   ]
  },
  {
   "cell_type": "code",
   "execution_count": null,
   "metadata": {
    "collapsed": true
   },
   "outputs": [],
   "source": [
    "person_stats + person_stats"
   ]
  },
  {
   "cell_type": "markdown",
   "metadata": {},
   "source": [
    "You can also initialise a pandas Series using a dictionary."
   ]
  },
  {
   "cell_type": "code",
   "execution_count": null,
   "metadata": {
    "collapsed": true
   },
   "outputs": [],
   "source": [
    "person_stats2 = pd.Series({'height': 140, 'weight': 40})\n",
    "person_stats2"
   ]
  },
  {
   "cell_type": "code",
   "execution_count": null,
   "metadata": {
    "collapsed": true
   },
   "outputs": [],
   "source": [
    "person_stats2.index"
   ]
  },
  {
   "cell_type": "code",
   "execution_count": null,
   "metadata": {
    "collapsed": true
   },
   "outputs": [],
   "source": [
    "person_stats2.values"
   ]
  },
  {
   "cell_type": "code",
   "execution_count": null,
   "metadata": {
    "collapsed": true
   },
   "outputs": [],
   "source": [
    "person_stats3 = person_stats2[::-1]\n",
    "person_stats3"
   ]
  },
  {
   "cell_type": "code",
   "execution_count": null,
   "metadata": {
    "collapsed": true
   },
   "outputs": [],
   "source": [
    "person_stats"
   ]
  },
  {
   "cell_type": "markdown",
   "metadata": {},
   "source": [
    "Even though `person_stats3` is now \"backwards\", when we add `person_stats` to `person_stats3` the labels `height` and `weight` will be automatically aligned to make the computation correct. This is a huge difference from simply using numerical indices for alignment."
   ]
  },
  {
   "cell_type": "code",
   "execution_count": null,
   "metadata": {
    "collapsed": true
   },
   "outputs": [],
   "source": [
    "person_stats + person_stats3"
   ]
  },
  {
   "cell_type": "markdown",
   "metadata": {},
   "source": [
    "## Exercises\n",
    "\n",
    "1. Create a pandas Series to represent a single car. Include its mileage, its year of manufacture and its model.\n",
    "\n",
    "2. Print the first element in the car Series.\n",
    "\n",
    "3. Print the first and last element in the car Series (with a single line of code).\n",
    "\n",
    "4. Print the car's year of manufacture using a label as the index.\n",
    "\n",
    "5. Print the car's mileage and its year of manufacture (with a single line of code).\n",
    "\n",
    "6. Change the car's mileage to a different value.\n",
    "\n",
    "7. Double the car's mileage.\n",
    "\n",
    "8. Create another Series by extracting the car's year of manufacture and its mileage.\n",
    "\n",
    "9. Create a Series to represent a second car, this time using a dictionary for the initialisation.\n",
    "\n",
    "10. Add together the year of manufacture and mileage of your two cars."
   ]
  },
  {
   "cell_type": "markdown",
   "metadata": {},
   "source": [
    "## Data Frames\n",
    "\n",
    "`DataFrame`s are the main structures used to store data sets, with columns corresponding to variables and rows corresponding to observations.\n",
    "\n",
    "They are essentially matrices containing heterogeneous data and with labelled rows and columns. You can think of a data frame as being a bit like a spreadsheet."
   ]
  },
  {
   "cell_type": "code",
   "execution_count": null,
   "metadata": {
    "collapsed": true
   },
   "outputs": [],
   "source": [
    "# 3 arguments\n",
    "# \n",
    "my_df = pd.DataFrame(([[19,165,'female'], [19,177,'male'], [72,154,'female']]),\n",
    "                     index=['Observation 0', 'Observation 1', 'Observation 2'],\n",
    "                     columns=['age', 'height', 'gender'])\n",
    "my_df"
   ]
  },
  {
   "cell_type": "code",
   "execution_count": null,
   "metadata": {
    "collapsed": true
   },
   "outputs": [],
   "source": [
    "# Let's do some data frame introspection...\n",
    "my_df.index"
   ]
  },
  {
   "cell_type": "code",
   "execution_count": null,
   "metadata": {
    "collapsed": true
   },
   "outputs": [],
   "source": [
    "my_df.columns"
   ]
  },
  {
   "cell_type": "code",
   "execution_count": null,
   "metadata": {
    "collapsed": true
   },
   "outputs": [],
   "source": [
    "len(my_df)"
   ]
  },
  {
   "cell_type": "code",
   "execution_count": null,
   "metadata": {
    "collapsed": true
   },
   "outputs": [],
   "source": [
    "my_df.describe()"
   ]
  },
  {
   "cell_type": "markdown",
   "metadata": {},
   "source": [
    "There are a huge number of different ways of indexing into a data frame!"
   ]
  },
  {
   "cell_type": "code",
   "execution_count": null,
   "metadata": {
    "collapsed": true
   },
   "outputs": [],
   "source": [
    "# You can access a specific column's values using the dot . notation\n",
    "my_df.age "
   ]
  },
  {
   "cell_type": "code",
   "execution_count": null,
   "metadata": {
    "collapsed": true
   },
   "outputs": [],
   "source": [
    "# Or use the [] syntax to access a column's values\n",
    "my_df['age']"
   ]
  },
  {
   "cell_type": "code",
   "execution_count": null,
   "metadata": {
    "collapsed": true
   },
   "outputs": [],
   "source": [
    "# Using [] also allows you to access multiple columns at once. Notice that we need to pass\n",
    "# in a list of columns.\n",
    "my_df[['age', 'height']]"
   ]
  },
  {
   "cell_type": "code",
   "execution_count": null,
   "metadata": {
    "collapsed": true
   },
   "outputs": [],
   "source": [
    "# With the loc() method, we can select rows *and* columns based on their names\n",
    "my_df.loc['Observation 0']"
   ]
  },
  {
   "cell_type": "code",
   "execution_count": null,
   "metadata": {
    "collapsed": true
   },
   "outputs": [],
   "source": [
    "# Here, we select the rows labelled 'Obs 1' and 'Obs 2' and the columns\n",
    "# labelled 'age' and 'gender'\n",
    "my_df.loc[['Observation 1', 'Observation 2'], ['age', 'gender']]"
   ]
  },
  {
   "cell_type": "code",
   "execution_count": null,
   "metadata": {
    "collapsed": true
   },
   "outputs": [],
   "source": [
    "# The iloc() method allows us to select elements by positional index instead of labels\n",
    "my_df.iloc[0]"
   ]
  },
  {
   "cell_type": "code",
   "execution_count": null,
   "metadata": {
    "collapsed": true
   },
   "outputs": [],
   "source": [
    "my_df.iloc[0:2]"
   ]
  },
  {
   "cell_type": "code",
   "execution_count": null,
   "metadata": {
    "collapsed": true
   },
   "outputs": [],
   "source": [
    "# Here, we select rows 0:2 and columns 0,2\n",
    "my_df.iloc[0:2, [0, 2]]"
   ]
  },
  {
   "cell_type": "code",
   "execution_count": null,
   "metadata": {
    "collapsed": true
   },
   "outputs": [],
   "source": [
    "# Just as for a Series, we can create a DataFrame using a dict\n",
    "\n",
    "my_df = pd.DataFrame({'age': np.array([19, 34, 72, 21, 14, 55]),\n",
    "                      'height': np.array([165, 177, 154, 161, 133, 188]),\n",
    "                      'gender': np.array(['female', 'male', 'female', 'female', 'female', 'male'])},\n",
    "                     index=['Observation {0}'.format(i) for i in range(6)])\n",
    "my_df"
   ]
  },
  {
   "cell_type": "code",
   "execution_count": null,
   "metadata": {
    "collapsed": true
   },
   "outputs": [],
   "source": [
    "# Let's rearrange those columns\n",
    "my_df = my_df[['age', 'height', 'gender']]\n",
    "my_df"
   ]
  },
  {
   "cell_type": "code",
   "execution_count": null,
   "metadata": {
    "collapsed": true
   },
   "outputs": [],
   "source": [
    "# If you have a large data set, use head() or tail() to view only the first or last few\n",
    "# observations\n",
    "my_df.head(2)"
   ]
  },
  {
   "cell_type": "code",
   "execution_count": null,
   "metadata": {
    "collapsed": true
   },
   "outputs": [],
   "source": [
    "my_df.tail(2)"
   ]
  },
  {
   "cell_type": "code",
   "execution_count": null,
   "metadata": {
    "collapsed": true
   },
   "outputs": [],
   "source": [
    "# Let's look at the oldest people first. This isn't an *in-place* sort.\n",
    "my_df.sort_values('age', ascending=False)"
   ]
  },
  {
   "cell_type": "code",
   "execution_count": null,
   "metadata": {
    "collapsed": true
   },
   "outputs": [],
   "source": [
    "# Now it's an in-place sort!\n",
    "my_df.sort_values('age', ascending=False, inplace=True)\n",
    "my_df"
   ]
  },
  {
   "cell_type": "code",
   "execution_count": null,
   "metadata": {
    "collapsed": true
   },
   "outputs": [],
   "source": [
    "# Let's get those observations back in order. To do this, we can use sort_index()\n",
    "# to sort by the observation name.\n",
    "my_df.sort_index(ascending=True, inplace=True)\n",
    "my_df"
   ]
  },
  {
   "cell_type": "code",
   "execution_count": null,
   "metadata": {
    "collapsed": true
   },
   "outputs": [],
   "source": [
    "# Here's how to take a random sample...\n",
    "my_df.sample(3)"
   ]
  },
  {
   "cell_type": "code",
   "execution_count": null,
   "metadata": {
    "collapsed": true
   },
   "outputs": [],
   "source": [
    "# Let's extract everyone older than 50\n",
    "my_df[my_df.age > 50]"
   ]
  },
  {
   "cell_type": "code",
   "execution_count": null,
   "metadata": {
    "collapsed": true
   },
   "outputs": [],
   "source": [
    "# Let's extract all males younger than 50\n",
    "my_df[(my_df.age < 50) & (my_df.gender == 'male')]"
   ]
  },
  {
   "cell_type": "code",
   "execution_count": null,
   "metadata": {
    "collapsed": true
   },
   "outputs": [],
   "source": [
    "my_df"
   ]
  },
  {
   "cell_type": "code",
   "execution_count": null,
   "metadata": {
    "collapsed": true
   },
   "outputs": [],
   "source": [
    "# Let's convert 'gender' to a numerical value\n",
    "def gender_to_numeric(gender):\n",
    "    if gender == 'male':\n",
    "        return 0\n",
    "    else:\n",
    "        return 1\n",
    "    \n",
    "my_df['gender_num'] = my_df['gender'].apply(gender_to_numeric)\n",
    "my_df"
   ]
  },
  {
   "cell_type": "code",
   "execution_count": null,
   "metadata": {
    "collapsed": true
   },
   "outputs": [],
   "source": [
    "# Let's get rid of the gender_num column\n",
    "# Axis 0 refers to rows\n",
    "# Axis 1 refers to columns\n",
    "my_df.drop('gender_num', axis=1, inplace=True)\n",
    "my_df"
   ]
  },
  {
   "cell_type": "markdown",
   "metadata": {},
   "source": [
    "## Exercises\n",
    "\n",
    "1. Create a `car_df` DataFrame containing 5 different cars. Include each car's year of manufacture, its mileage and whether it is an automatic.\n",
    "\n",
    "2. Print the values in the mileage column.\n",
    "\n",
    "3. Print the values in the mileage and year_of_manufacture column (using a single line of code).\n",
    "\n",
    "4. Print the first observation using a positional index.\n",
    "\n",
    "5. Print the first observation using a labelled index.\n",
    "\n",
    "6. Print the first three observations using a positional index.\n",
    "\n",
    "7. Print the mileage and is_automatic values for the first and third observations (using a single line of code). Do this using both positional and labelled indices.\n",
    "\n",
    "8. Print summary statistics for the data frame.\n",
    "\n",
    "9. Print the head and tail of the data frame.\n",
    "\n",
    "10. Print a random sample of 3 elements from the data frame.\n",
    "\n",
    "11. Print all cars with a mileage above 30,000 miles.\n",
    "\n",
    "12. Print all automatic cars with a mileage above 30,000 miles.\n",
    "\n",
    "13. Print the cars in descending order of mileage (i.e. with the highest-mileage cars first).\n",
    "\n",
    "14. Convert is_automatic to a numerical value and put these values in a new column.\n",
    "\n",
    "15. Delete the new column you created."
   ]
  }
 ],
 "metadata": {
  "kernelspec": {
   "display_name": "Python 3",
   "language": "python",
   "name": "python3"
  },
  "language_info": {
   "codemirror_mode": {
    "name": "ipython",
    "version": 3
   },
   "file_extension": ".py",
   "mimetype": "text/x-python",
   "name": "python",
   "nbconvert_exporter": "python",
   "pygments_lexer": "ipython3",
   "version": "3.6.3"
  }
 },
 "nbformat": 4,
 "nbformat_minor": 2
}
