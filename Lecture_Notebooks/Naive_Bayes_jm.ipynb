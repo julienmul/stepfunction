{
 "cells": [
  {
   "cell_type": "code",
   "execution_count": 1,
   "metadata": {
    "collapsed": true
   },
   "outputs": [],
   "source": [
    "import numpy as np\n",
    "\n",
    "from sklearn.datasets import fetch_20newsgroups\n",
    "from sklearn.naive_bayes import MultinomialNB\n",
    "from sklearn.feature_extraction.text import CountVectorizer\n",
    "from sklearn.metrics import classification_report, confusion_matrix"
   ]
  },
  {
   "cell_type": "code",
   "execution_count": 8,
   "metadata": {},
   "outputs": [
    {
     "data": {
      "text/plain": [
       "['alt.atheism', 'comp.graphics', 'sci.med', 'soc.religion.christian']"
      ]
     },
     "execution_count": 8,
     "metadata": {},
     "output_type": "execute_result"
    }
   ],
   "source": [
    "categories = ['alt.atheism', 'soc.religion.christian', 'comp.graphics', 'sci.med']\n",
    "twenty_train = fetch_20newsgroups(subset='train',\n",
    "                                  categories=categories,\n",
    "                                  shuffle=True,\n",
    "                                  random_state=0)\n",
    "\n",
    "twenty_test = fetch_20newsgroups(subset='test',\n",
    "                                 categories=categories,\n",
    "                                 shuffle=True,\n",
    "                                 random_state=0)\n",
    "\n",
    "twenty_train.target_names"
   ]
  },
  {
   "cell_type": "code",
   "execution_count": 5,
   "metadata": {},
   "outputs": [
    {
     "name": "stdout",
     "output_type": "stream",
     "text": [
      "2257\n",
      "First target is soc.religion.christian\n",
      "First document is From: reedr@cgsvax.claremont.edu\n",
      "Subject: Re: DID HE REALLY RISE???\n",
      "Organization: The Claremont Graduate School\n",
      "Lines: 29\n",
      "\n",
      "In article <Apr.9.01.11.16.1993.16937@athos.rutgers.edu>, emery@tc.fluke.COM (John Emery) writes:\n",
      "> The one single historic event that has had the biggest impact on the\n",
      "> world over the centuries is the resurrection of Jesus.  At the same\n",
      "> time, it is one of the most hotly contested topics....\n",
      "> \n",
      "> Did Jesus Christ really rise from the dead?  Since the eyewitnesses\n",
      "> are no longer living, we have only their written accounts. ...\n",
      "> ...  Because of the magnitude of significance\n",
      "> involved here, either the resurrection is the greatest event in the\n",
      "> history of man or the greatest deception played on man.\n",
      "> [massive amounts of data deleted]\n",
      "\n",
      "John, \n",
      "\n",
      "While I will not take the time to rebut you point by point, I will suggest\n",
      "three current works which I think will be helpful in your quest to answer\n",
      "this question.  John Dominic Crossan (Professor of Religion at De Paul Univ)-\n",
      "_The Cross That Spoke_ Harper and Row Pub. 1988, Also his latest work \n",
      "_The Historical Jesus - The Life of A Mediterranean Jewish Peasant_ Harper\n",
      "and Row Pub. 1991,  Also two works of Burton Mack (Professor of New Testament\n",
      "at the Claremont Graduate School) _A Myth of Innocence_ Fortress Press 1988,\n",
      "And his latest book _The Lost Gospel: The Book of Q and Christian Origins_\n",
      "Harper and Row, 1992.  You might start with Mack's book on Q and then \n",
      "examine the others afterward.  However I think that once you do that you will\n",
      "see that your \"evidence\" is not as sturdy as you'd like.  Most of the tired\n",
      "arguements you stated, assume eyewitness accounts, such is not the case. But\n",
      "Anyway look at Mack and Crossan and then get back to us.\n",
      "\n",
      "randy\n",
      "\n"
     ]
    }
   ],
   "source": [
    "print(len(twenty_train.target))\n",
    "print('First target is', twenty_train.target_names[twenty_train.target[0]])\n",
    "print('First document is', twenty_train.data[0])"
   ]
  },
  {
   "cell_type": "code",
   "execution_count": 7,
   "metadata": {},
   "outputs": [
    {
     "name": "stdout",
     "output_type": "stream",
     "text": [
      "['DESCR', 'data', 'description', 'filenames', 'target', 'target_names']\n",
      "['DESCR', 'data', 'description', 'filenames', 'target', 'target_names']\n"
     ]
    }
   ],
   "source": [
    "print(dir(twenty_train))\n",
    "print(dir(twenty_test))"
   ]
  },
  {
   "cell_type": "code",
   "execution_count": 13,
   "metadata": {},
   "outputs": [
    {
     "name": "stdout",
     "output_type": "stream",
     "text": [
      "(2257, 35788)\n",
      "<class 'scipy.sparse.csr.csr_matrix'>\n"
     ]
    }
   ],
   "source": [
    "# built model\n",
    "count_vectorizer = CountVectorizer()\n",
    "# creating the term document matrix\n",
    "X_train_counts = count_vectorizer.fit_transform(twenty_train.data)\n",
    "print(X_train_counts.shape)\n",
    "print(type(X_train_counts))"
   ]
  },
  {
   "cell_type": "code",
   "execution_count": 14,
   "metadata": {},
   "outputs": [
    {
     "data": {
      "text/plain": [
       "MultinomialNB(alpha=1.0, class_prior=None, fit_prior=True)"
      ]
     },
     "execution_count": 14,
     "metadata": {},
     "output_type": "execute_result"
    }
   ],
   "source": [
    "# fitting the model \n",
    "#\n",
    "model = MultinomialNB()\n",
    "model.fit(X_train_counts, twenty_train.target)"
   ]
  },
  {
   "cell_type": "code",
   "execution_count": 17,
   "metadata": {},
   "outputs": [
    {
     "name": "stdout",
     "output_type": "stream",
     "text": [
      "Reading the Bible => soc.religion.christian\n",
      "OpenGL vs DirectX => comp.graphics\n",
      "Diabetes and glucose => sci.med\n",
      "Humanists in the Republican Party => alt.atheism\n",
      "UK in London for vote => alt.atheism\n"
     ]
    }
   ],
   "source": [
    "# model evaluation\n",
    "#\n",
    "docs_new = ['Reading the Bible',\n",
    "            'OpenGL vs DirectX',\n",
    "            'Diabetes and glucose',\n",
    "            'Humanists in the Republican Party',]\n",
    "\n",
    "X_new_counts = count_vectorizer.transform(docs_new)\n",
    "\n",
    "predicted = model.predict(X_new_counts)\n",
    "\n",
    "for doc, category in zip(docs_new, predicted):\n",
    "    print('{0} => {1}'.format(doc, twenty_train.target_names[category]))"
   ]
  },
  {
   "cell_type": "code",
   "execution_count": 18,
   "metadata": {},
   "outputs": [
    {
     "name": "stdout",
     "output_type": "stream",
     "text": [
      "Test set accuracy is 0.934087882823\n"
     ]
    }
   ],
   "source": [
    "docs_test = twenty_test.data\n",
    "X_new_counts = count_vectorizer.transform(docs_test)\n",
    "predicted = model.predict(X_new_counts)\n",
    "print('Test set accuracy is', np.mean(predicted == twenty_test.target))"
   ]
  },
  {
   "cell_type": "code",
   "execution_count": 21,
   "metadata": {},
   "outputs": [
    {
     "name": "stdout",
     "output_type": "stream",
     "text": [
      "                        precision    recall  f1-score   support\n",
      "\n",
      "           alt.atheism       0.92      0.90      0.91       319\n",
      "         comp.graphics       0.95      0.95      0.95       389\n",
      "               sci.med       0.96      0.91      0.93       396\n",
      "soc.religion.christian       0.91      0.97      0.94       398\n",
      "\n",
      "           avg / total       0.93      0.93      0.93      1502\n",
      "\n"
     ]
    }
   ],
   "source": [
    "print(classification_report(twenty_test.target,\n",
    "                           predicted,\n",
    "                           target_names = twenty_test.target_names))"
   ]
  },
  {
   "cell_type": "code",
   "execution_count": 22,
   "metadata": {},
   "outputs": [
    {
     "name": "stdout",
     "output_type": "stream",
     "text": [
      "[[288   4   3  24]\n",
      " [  8 370   8   3]\n",
      " [ 12  13 360  11]\n",
      " [  5   4   4 385]]\n"
     ]
    }
   ],
   "source": [
    "print(confusion_matrix(twenty_test.target, predicted))"
   ]
  },
  {
   "cell_type": "code",
   "execution_count": null,
   "metadata": {},
   "outputs": [],
   "source": []
  },
  {
   "cell_type": "code",
   "execution_count": null,
   "metadata": {
    "collapsed": true
   },
   "outputs": [],
   "source": []
  }
 ],
 "metadata": {
  "kernelspec": {
   "display_name": "Python 3",
   "language": "python",
   "name": "python3"
  },
  "language_info": {
   "codemirror_mode": {
    "name": "ipython",
    "version": 3
   },
   "file_extension": ".py",
   "mimetype": "text/x-python",
   "name": "python",
   "nbconvert_exporter": "python",
   "pygments_lexer": "ipython3",
   "version": "3.6.1"
  }
 },
 "nbformat": 4,
 "nbformat_minor": 2
}
