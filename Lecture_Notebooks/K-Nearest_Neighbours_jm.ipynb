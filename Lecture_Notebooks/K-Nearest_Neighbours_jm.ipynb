{
 "cells": [
  {
   "cell_type": "code",
   "execution_count": 1,
   "metadata": {
    "collapsed": true
   },
   "outputs": [],
   "source": [
    "import numpy as np \n",
    "import pandas as pd\n",
    "import matplotlib.pyplot as plt\n",
    "\n",
    "from sklearn.model_selection import train_test_split\n",
    "from sklearn.neighbors import KNeighborsRegressor\n",
    "from sklearn.metrics import mean_squared_error"
   ]
  },
  {
   "cell_type": "code",
   "execution_count": 5,
   "metadata": {},
   "outputs": [
    {
     "data": {
      "text/html": [
       "<div>\n",
       "<style>\n",
       "    .dataframe thead tr:only-child th {\n",
       "        text-align: right;\n",
       "    }\n",
       "\n",
       "    .dataframe thead th {\n",
       "        text-align: left;\n",
       "    }\n",
       "\n",
       "    .dataframe tbody tr th {\n",
       "        vertical-align: top;\n",
       "    }\n",
       "</style>\n",
       "<table border=\"1\" class=\"dataframe\">\n",
       "  <thead>\n",
       "    <tr style=\"text-align: right;\">\n",
       "      <th></th>\n",
       "      <th>o_ring_ct</th>\n",
       "      <th>distress_ct</th>\n",
       "      <th>temperature</th>\n",
       "      <th>pressure</th>\n",
       "      <th>launch_id</th>\n",
       "    </tr>\n",
       "  </thead>\n",
       "  <tbody>\n",
       "    <tr>\n",
       "      <th>0</th>\n",
       "      <td>6</td>\n",
       "      <td>0</td>\n",
       "      <td>66</td>\n",
       "      <td>50</td>\n",
       "      <td>1</td>\n",
       "    </tr>\n",
       "    <tr>\n",
       "      <th>1</th>\n",
       "      <td>6</td>\n",
       "      <td>1</td>\n",
       "      <td>70</td>\n",
       "      <td>50</td>\n",
       "      <td>2</td>\n",
       "    </tr>\n",
       "    <tr>\n",
       "      <th>2</th>\n",
       "      <td>6</td>\n",
       "      <td>0</td>\n",
       "      <td>69</td>\n",
       "      <td>50</td>\n",
       "      <td>3</td>\n",
       "    </tr>\n",
       "    <tr>\n",
       "      <th>3</th>\n",
       "      <td>6</td>\n",
       "      <td>0</td>\n",
       "      <td>68</td>\n",
       "      <td>50</td>\n",
       "      <td>4</td>\n",
       "    </tr>\n",
       "    <tr>\n",
       "      <th>4</th>\n",
       "      <td>6</td>\n",
       "      <td>0</td>\n",
       "      <td>67</td>\n",
       "      <td>50</td>\n",
       "      <td>5</td>\n",
       "    </tr>\n",
       "    <tr>\n",
       "      <th>5</th>\n",
       "      <td>6</td>\n",
       "      <td>0</td>\n",
       "      <td>72</td>\n",
       "      <td>50</td>\n",
       "      <td>6</td>\n",
       "    </tr>\n",
       "    <tr>\n",
       "      <th>6</th>\n",
       "      <td>6</td>\n",
       "      <td>0</td>\n",
       "      <td>73</td>\n",
       "      <td>100</td>\n",
       "      <td>7</td>\n",
       "    </tr>\n",
       "    <tr>\n",
       "      <th>7</th>\n",
       "      <td>6</td>\n",
       "      <td>0</td>\n",
       "      <td>70</td>\n",
       "      <td>100</td>\n",
       "      <td>8</td>\n",
       "    </tr>\n",
       "    <tr>\n",
       "      <th>8</th>\n",
       "      <td>6</td>\n",
       "      <td>1</td>\n",
       "      <td>57</td>\n",
       "      <td>200</td>\n",
       "      <td>9</td>\n",
       "    </tr>\n",
       "    <tr>\n",
       "      <th>9</th>\n",
       "      <td>6</td>\n",
       "      <td>1</td>\n",
       "      <td>63</td>\n",
       "      <td>200</td>\n",
       "      <td>10</td>\n",
       "    </tr>\n",
       "  </tbody>\n",
       "</table>\n",
       "</div>"
      ],
      "text/plain": [
       "   o_ring_ct  distress_ct  temperature  pressure  launch_id\n",
       "0          6            0           66        50          1\n",
       "1          6            1           70        50          2\n",
       "2          6            0           69        50          3\n",
       "3          6            0           68        50          4\n",
       "4          6            0           67        50          5\n",
       "5          6            0           72        50          6\n",
       "6          6            0           73       100          7\n",
       "7          6            0           70       100          8\n",
       "8          6            1           57       200          9\n",
       "9          6            1           63       200         10"
      ]
     },
     "execution_count": 5,
     "metadata": {},
     "output_type": "execute_result"
    }
   ],
   "source": [
    "challenger_df = pd.read_csv('challenger.csv')\n",
    "challenger_df[:10]"
   ]
  },
  {
   "cell_type": "code",
   "execution_count": 8,
   "metadata": {},
   "outputs": [
    {
     "data": {
      "text/plain": [
       "array([[ 66,  50],\n",
       "       [ 70,  50],\n",
       "       [ 69,  50],\n",
       "       [ 68,  50],\n",
       "       [ 67,  50],\n",
       "       [ 72,  50],\n",
       "       [ 73, 100],\n",
       "       [ 70, 100],\n",
       "       [ 57, 200],\n",
       "       [ 63, 200],\n",
       "       [ 70, 200],\n",
       "       [ 78, 200],\n",
       "       [ 67, 200],\n",
       "       [ 53, 200],\n",
       "       [ 67, 200],\n",
       "       [ 75, 200],\n",
       "       [ 70, 200],\n",
       "       [ 81, 200],\n",
       "       [ 76, 200],\n",
       "       [ 79, 200],\n",
       "       [ 75, 200],\n",
       "       [ 76, 200],\n",
       "       [ 58, 200]])"
      ]
     },
     "execution_count": 8,
     "metadata": {},
     "output_type": "execute_result"
    }
   ],
   "source": [
    "X = challenger_df.drop(['distress_ct', 'o_ring_ct', 'launch_id'], axis=1)\n",
    "X = np.array(X)\n",
    "X"
   ]
  },
  {
   "cell_type": "code",
   "execution_count": 9,
   "metadata": {},
   "outputs": [
    {
     "data": {
      "text/plain": [
       "array([0, 1, 0, 0, 0, 0, 0, 0, 1, 1, 1, 0, 0, 2, 0, 0, 0, 0, 0, 0, 0, 0, 1])"
      ]
     },
     "execution_count": 9,
     "metadata": {},
     "output_type": "execute_result"
    }
   ],
   "source": [
    "y = challenger_df['distress_ct']\n",
    "y = np.array(y)\n",
    "y"
   ]
  },
  {
   "cell_type": "code",
   "execution_count": 10,
   "metadata": {
    "collapsed": true
   },
   "outputs": [],
   "source": [
    "X_train, X_test, y_train, y_test = train_test_split(X, y, test_size=0.5, random_state=0)"
   ]
  },
  {
   "cell_type": "code",
   "execution_count": 11,
   "metadata": {},
   "outputs": [
    {
     "name": "stdout",
     "output_type": "stream",
     "text": [
      "[67 50] 0\n",
      "[69 50] 0\n",
      "[72 50] 0\n",
      "[ 76 200] 0\n",
      "[ 63 200] 1\n",
      "[ 70 100] 0\n",
      "[ 79 200] 0\n",
      "[68 50] 0\n",
      "[66 50] 0\n",
      "[ 75 200] 0\n"
     ]
    }
   ],
   "source": [
    "for a, b in zip(X_train[:10], y_train[:10]):\n",
    "    print(a, b)"
   ]
  },
  {
   "cell_type": "code",
   "execution_count": 12,
   "metadata": {},
   "outputs": [
    {
     "data": {
      "text/plain": [
       "KNeighborsRegressor(algorithm='auto', leaf_size=30, metric='minkowski',\n",
       "          metric_params=None, n_jobs=1, n_neighbors=3, p=2,\n",
       "          weights='uniform')"
      ]
     },
     "execution_count": 12,
     "metadata": {},
     "output_type": "execute_result"
    }
   ],
   "source": [
    "model = KNeighborsRegressor(n_neighbors=3)\n",
    "model.fit(X_train, y_train)"
   ]
  },
  {
   "cell_type": "code",
   "execution_count": 13,
   "metadata": {
    "collapsed": true
   },
   "outputs": [],
   "source": [
    "y_pred = model.predict(X_test)\n",
    "y_pred = np.ceil(y_pred)\n",
    "\n",
    "y_actual = y_test"
   ]
  },
  {
   "cell_type": "code",
   "execution_count": 15,
   "metadata": {},
   "outputs": [
    {
     "data": {
      "text/plain": [
       "0.33333333333333331"
      ]
     },
     "execution_count": 15,
     "metadata": {},
     "output_type": "execute_result"
    }
   ],
   "source": [
    "mean_squared_error(y_actual, y_pred)"
   ]
  },
  {
   "cell_type": "code",
   "execution_count": 16,
   "metadata": {},
   "outputs": [
    {
     "name": "stdout",
     "output_type": "stream",
     "text": [
      "-0.155555555556\n"
     ]
    }
   ],
   "source": [
    "# Test R^2\n",
    "print(model.score(X_test, y_actual))"
   ]
  },
  {
   "cell_type": "code",
   "execution_count": 17,
   "metadata": {},
   "outputs": [
    {
     "data": {
      "image/png": "[encoded data removed]",
      "text/plain": [
       "<matplotlib.figure.Figure at 0x1186d6c88>"
      ]
     },
     "metadata": {},
     "output_type": "display_data"
    }
   ],
   "source": [
    "plt.scatter(y_pred, y_actual, marker='.')\n",
    "plt.xlabel('Predicted y')\n",
    "plt.ylabel('Actual y')\n",
    "plt.show()"
   ]
  },
  {
   "cell_type": "code",
   "execution_count": 18,
   "metadata": {},
   "outputs": [
    {
     "name": "stdout",
     "output_type": "stream",
     "text": [
      "Predicted = 0.0, Actual = 0\n",
      "Predicted = 0.0, Actual = 1\n",
      "Predicted = 0.0, Actual = 0\n",
      "Predicted = 1.0, Actual = 0\n",
      "Predicted = 0.0, Actual = 0\n",
      "Predicted = 0.0, Actual = 1\n",
      "Predicted = 1.0, Actual = 2\n",
      "Predicted = 1.0, Actual = 1\n",
      "Predicted = 0.0, Actual = 0\n",
      "Predicted = 1.0, Actual = 1\n",
      "Predicted = 0.0, Actual = 0\n",
      "Predicted = 0.0, Actual = 0\n"
     ]
    }
   ],
   "source": [
    "for a, b in zip(y_pred, y_actual):\n",
    "    print(\"Predicted = {0}, Actual = {1}\".format(a, b))"
   ]
  },
  {
   "cell_type": "markdown",
   "metadata": {},
   "source": [
    "## Exercises\n",
    "\n",
    "1. Try adjusting $k$ (the number of neigbours) to see how this affects the results.\n",
    "2. How often do we predict that an O-ring failed when in fact no O-rings have failed? (*false positives*. Note that a \"positive\" result is when an O-ring actually fails!)\n",
    "3. How often do we predict that no O-ring has failed when in fact some O-rings have failed? (*false negatives*)\n",
    "4. Both of the above two cases are examples of model mispredictions. In this particular case, what type of misprediction is worse: having a high number of false positives or a high number of false negatives?\n",
    "5. We've only evaluated the performance of the model over the test set. Without changing any code, how would you expect k-NN to perform over the training set? Now try evaluating the performance of the model over the training set to see if you were correct."
   ]
  },
  {
   "cell_type": "code",
   "execution_count": 27,
   "metadata": {},
   "outputs": [
    {
     "name": "stdout",
     "output_type": "stream",
     "text": [
      "MSE of model 2: 0.25\n",
      "R^2 of model 2: -0.155555555556\n"
     ]
    },
    {
     "data": {
      "image/png": "[encoded data removed]",
      "text/plain": [
       "<matplotlib.figure.Figure at 0x11b37f5f8>"
      ]
     },
     "metadata": {},
     "output_type": "display_data"
    },
    {
     "name": "stdout",
     "output_type": "stream",
     "text": [
      "Predicted = 0.0, Actual = 0\n",
      "Predicted = 0.0, Actual = 1\n",
      "Predicted = 0.0, Actual = 0\n",
      "Predicted = 0.0, Actual = 0\n",
      "Predicted = 0.0, Actual = 0\n",
      "Predicted = 0.0, Actual = 1\n",
      "Predicted = 1.0, Actual = 2\n",
      "Predicted = 1.0, Actual = 1\n",
      "Predicted = 0.0, Actual = 0\n",
      "Predicted = 1.0, Actual = 1\n",
      "Predicted = 0.0, Actual = 0\n",
      "Predicted = 0.0, Actual = 0\n"
     ]
    }
   ],
   "source": [
    "model2 = KNeighborsRegressor(n_neighbors=1)\n",
    "model2.fit(X_train, y_train)\n",
    "\n",
    "y_pred2 = model2.predict(X_test)\n",
    "y_pred2 = np.ceil(y_pred2)\n",
    "y_actual2 = y_test\n",
    "\n",
    "print('MSE of model 2:', mean_squared_error(y_actual2, y_pred2))\n",
    "# Test R^2\n",
    "print('R^2 of model 2:', model.score(X_test, y_actual2))\n",
    "\n",
    "plt.scatter(y_pred, y_actual, marker='.')\n",
    "plt.xlabel('Predicted y')\n",
    "plt.ylabel('Actual y')\n",
    "plt.show()\n",
    "\n",
    "for a, b in zip(y_pred2, y_actual2):\n",
    "    print(\"Predicted = {0}, Actual = {1}\".format(a, b))"
   ]
  },
  {
   "cell_type": "code",
   "execution_count": null,
   "metadata": {
    "collapsed": true
   },
   "outputs": [],
   "source": [
    "y_pred2 = model2.predict(X_test)\n",
    "y_pred2 = np.ceil(y_pred2)\n",
    "y_actual2 = y_train\n",
    "\n",
    "print('MSE of model 2:', mean_squared_error(y_actual2, y_pred2))\n",
    "# Test R^2\n",
    "print('R^2 of model 2:', model.score(X_test, y_actual2))\n",
    "\n",
    "plt.scatter(y_pred, y_actual, marker='.')\n",
    "plt.xlabel('Predicted y')\n",
    "plt.ylabel('Actual y')\n",
    "plt.show()\n",
    "\n",
    "for a, b in zip(y_pred2, y_actual2):\n",
    "    print(\"Predicted = {0}, Actual = {1}\".format(a, b))"
   ]
  },
  {
   "cell_type": "code",
   "execution_count": null,
   "metadata": {
    "collapsed": true
   },
   "outputs": [],
   "source": []
  },
  {
   "cell_type": "code",
   "execution_count": null,
   "metadata": {
    "collapsed": true
   },
   "outputs": [],
   "source": []
  },
  {
   "cell_type": "code",
   "execution_count": 31,
   "metadata": {},
   "outputs": [],
   "source": [
    "import numpy as np\n",
    "from sklearn.model_selection import train_test_split\n",
    "from sklearn.neighbors import KNeighborsRegressor"
   ]
  },
  {
   "cell_type": "code",
   "execution_count": 29,
   "metadata": {},
   "outputs": [
    {
     "data": {
      "text/plain": [
       "array([[0, 1],\n",
       "       [2, 3],\n",
       "       [4, 5],\n",
       "       [6, 7],\n",
       "       [8, 9]])"
      ]
     },
     "execution_count": 29,
     "metadata": {},
     "output_type": "execute_result"
    }
   ],
   "source": [
    "X, y = np.arange(40).reshape((20, 2)), range(20)\n",
    "X[:5]"
   ]
  },
  {
   "cell_type": "code",
   "execution_count": 21,
   "metadata": {},
   "outputs": [],
   "source": [
    "X_train, X_test, y_train, y_test = train_test_split(X, y, test_size = 0.2, random_state=0)"
   ]
  },
  {
   "cell_type": "code",
   "execution_count": 22,
   "metadata": {},
   "outputs": [
    {
     "name": "stdout",
     "output_type": "stream",
     "text": [
      "input variable is: [8 9], output variable is: 4\n",
      "input variable is: [18 19], output variable is: 9\n",
      "input variable is: [2 3], output variable is: 1\n",
      "input variable is: [12 13], output variable is: 6\n",
      "input variable is: [14 15], output variable is: 7\n",
      "input variable is: [6 7], output variable is: 3\n",
      "input variable is: [0 1], output variable is: 0\n",
      "input variable is: [10 11], output variable is: 5\n"
     ]
    }
   ],
   "source": [
    "for a, b in zip(X_train, y_train):\n",
    "    print('input variable is: {0}, output variable is: {1}'.format(a, b))"
   ]
  },
  {
   "cell_type": "code",
   "execution_count": 23,
   "metadata": {},
   "outputs": [
    {
     "name": "stdout",
     "output_type": "stream",
     "text": [
      "input variable is: [4 5], output variable is: 2\n",
      "input variable is: [16 17], output variable is: 8\n"
     ]
    }
   ],
   "source": [
    "for c, d in zip(X_test, y_test):\n",
    "    print('input variable is: {0}, output variable is: {1}'.format(c, d))"
   ]
  },
  {
   "cell_type": "code",
   "execution_count": 30,
   "metadata": {},
   "outputs": [
    {
     "ename": "NameError",
     "evalue": "name 'KNeighborsRegressor' is not defined",
     "output_type": "error",
     "traceback": [
      "\u001b[0;31m---------------------------------------------------------------------------\u001b[0m",
      "\u001b[0;31mNameError\u001b[0m                                 Traceback (most recent call last)",
      "\u001b[0;32m<ipython-input-30-140b2814355f>\u001b[0m in \u001b[0;36m<module>\u001b[0;34m()\u001b[0m\n\u001b[0;32m----> 1\u001b[0;31m \u001b[0mmodel\u001b[0m \u001b[0;34m=\u001b[0m \u001b[0mKNeighborsRegressor\u001b[0m\u001b[0;34m(\u001b[0m\u001b[0mn_neighbors\u001b[0m\u001b[0;34m=\u001b[0m\u001b[0;36m4\u001b[0m\u001b[0;34m)\u001b[0m\u001b[0;34m\u001b[0m\u001b[0m\n\u001b[0m\u001b[1;32m      2\u001b[0m \u001b[0mmodel\u001b[0m\u001b[0;34m.\u001b[0m\u001b[0mfit\u001b[0m\u001b[0;34m(\u001b[0m\u001b[0mX_train\u001b[0m\u001b[0;34m,\u001b[0m \u001b[0my_train\u001b[0m\u001b[0;34m)\u001b[0m\u001b[0;34m\u001b[0m\u001b[0m\n",
      "\u001b[0;31mNameError\u001b[0m: name 'KNeighborsRegressor' is not defined"
     ]
    }
   ],
   "source": [
    "model = KNeighborsRegressor(n_neighbors=4)\n",
    "model.fit(X_train, y_train)"
   ]
  }
 ],
 "metadata": {
  "kernelspec": {
   "display_name": "Python 3",
   "language": "python",
   "name": "python3"
  },
  "language_info": {
   "codemirror_mode": {
    "name": "ipython",
    "version": 3
   },
   "file_extension": ".py",
   "mimetype": "text/x-python",
   "name": "python",
   "nbconvert_exporter": "python",
   "pygments_lexer": "ipython3",
   "version": "3.6.1"
  }
 },
 "nbformat": 4,
 "nbformat_minor": 2
}
