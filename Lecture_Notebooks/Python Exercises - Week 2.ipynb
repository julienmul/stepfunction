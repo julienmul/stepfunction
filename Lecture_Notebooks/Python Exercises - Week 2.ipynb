{
 "cells": [
  {
   "cell_type": "markdown",
   "metadata": {},
   "source": [
    "## Exercises\n",
    "\n",
    "1. Write a `printer()` function that prints the value of its input.\n",
    "\n",
    "2. Write a `halver()` function that returns the value of its input (a number) divided by 2. For example, `halver(5)` should return 2.5.\n",
    "\n",
    "3. Write a `list_doubler()` function that takes a list of numbers as input and returns the list with each element multiplied by 2. For example, `list_doubler([1, 2, 3, 4, 5])` should return `[2, 4, 6, 8, 10]`.\n",
    "\n",
    "4. Write a `reverser()` function that takes a list and returns the same list but in reverse order. For example, `reverser([1, 2, 3])` should return `[3, 2, 1]`.\n",
    "\n",
    "5. Use Google to look up the population of the UK, France and Germany. Create a dictionary, `country_population`, to represent this information.\n",
    "\n",
    "6. Write a `for` loop to print the population of each country in `country_population` multiplied by 2.\n",
    "\n",
    "7. Use Google to look up the total area of the UK, France and Germany. Create a dictionary, `country_area`, to represent this information.\n",
    "\n",
    "8. Write a `for` loop to print the area of each country in `country_area` multiplied by 2.\n",
    "\n",
    "9. Write a function that takes two arguments, `country_population` and `country_area`, and prints the population density of each country. You can calculate the population density using `population / area`.\n",
    "\n",
    "10. Write a function that takes two arguments, `country_population` and `country_area`, and returns a dictionary `country_density` containing the population density of each country.\n",
    "\n",
    "11. Put the files `alice_times.txt`, `bob_times.txt` and `charlie_times.txt` into your `step_function` directory. These files contain the time taken to run 100m in 3 separate practice runs for Alice, Bob and Charlie. Back in Python, open these files and read the times into 3 lists: `alice_times`, `bob_times` and `charlie_times`. To convert a string into a floating point number, use `float()`.\n",
    "\n",
    "12. Make a single dictionary `times` with keys `alice`, `bob` and `charlie` and values containing a list of times for each person. For example, `times['alice']` should equal `[14.3, 13.5, 15.2]`.\n",
    "\n",
    "13. Write a function that takes one argument, `times`, and returns the name of the athlete with the lowest average time.\n",
    "\n",
    "14. Write a function that takes one argument, `times`, and returns the name of the athlete with the lowest personal best."
   ]
  }
 ],
 "metadata": {
  "kernelspec": {
   "display_name": "Python 3",
   "language": "python",
   "name": "python3"
  },
  "language_info": {
   "codemirror_mode": {
    "name": "ipython",
    "version": 3
   },
   "file_extension": ".py",
   "mimetype": "text/x-python",
   "name": "python",
   "nbconvert_exporter": "python",
   "pygments_lexer": "ipython3",
   "version": "3.6.1"
  }
 },
 "nbformat": 4,
 "nbformat_minor": 2
}
