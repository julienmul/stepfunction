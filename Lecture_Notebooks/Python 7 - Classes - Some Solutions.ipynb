{
 "cells": [
  {
   "cell_type": "markdown",
   "metadata": {},
   "source": [
    "## Exercise\n",
    "\n",
    "Imagine you own a pet shop selling three types of animals: Cats, Dogs and Snakes.\n",
    "\n",
    "Design some classes to help you keep track of your animals. Specifically:\n",
    "* Create an `Animal` base class and `Cat`, `Dog` and `Snake` child classes\n",
    "* Store the price of each animal\n",
    "* Store the number of times each animal has seen a vet (`num_vet_visits`)\n",
    "* Store whether or not the animal is a mammal\n",
    "* Store the number of legs of the animal\n",
    "* Write a method `animal_type()` that returns the type of the animal ('cat', 'dog' or 'snake')\n",
    "* Write a method `seen_vet()` that increments `num_vet_visits` by 1\n",
    "* Write a method `discount_price()` that applies a discount of 20% to the current price of the animal\n",
    "\n",
    "Test the methods you have written to ensure they work.\n",
    "\n",
    "Think carefully about what data and methods should be put in the base `Animal` class vs. its children. REMEMBER: Common functionality goes in the base class!"
   ]
  },
  {
   "cell_type": "code",
   "execution_count": null,
   "metadata": {
    "collapsed": true
   },
   "outputs": [],
   "source": [
    "class Animal:\n",
    "    is_mammal = None\n",
    "    num_legs = None\n",
    "    \n",
    "    def __init__(self, price, num_vet_visits):\n",
    "        self.price = price\n",
    "        self.num_vet_visits = num_vet_visits\n",
    "        \n",
    "\n",
    "    def animal_type(self):\n",
    "        raise NotImplementedError(\"Can't call this method for a generic Animal\")\n",
    "        \n",
    "        \n",
    "    def seen_vet(self):\n",
    "        self.num_vet_visits += 1\n",
    "        \n",
    "    \n",
    "    def discount_price(self):\n",
    "        self.price = 0.8 * self.price\n",
    "\n",
    "    \n",
    "class Cat(Animal):\n",
    "    is_mammal = True\n",
    "    num_legs = 4\n",
    "    \n",
    "    def animal_type(self):\n",
    "        return 'cat'\n",
    "    \n",
    "class Dog(Animal):\n",
    "    is_mammal = True\n",
    "    num_legs = 4\n",
    "    \n",
    "    def animal_type(self):\n",
    "        return 'dog'\n",
    "    \n",
    "class Snake(Animal):\n",
    "    is_mammal = False\n",
    "    \n",
    "    def animal_type(self):\n",
    "        return 'snake'\n"
   ]
  },
  {
   "cell_type": "code",
   "execution_count": null,
   "metadata": {},
   "outputs": [],
   "source": [
    "my_cat = Cat(price=20, num_vet_visits=0)\n",
    "print(my_cat.animal_type())\n",
    "print(my_cat.is_mammal)\n",
    "print(my_cat.num_legs)\n",
    "\n",
    "my_cat.seen_vet()\n",
    "print(my_cat.num_vet_visits)\n",
    "\n",
    "my_cat.discount_price()\n",
    "print(my_cat.price)"
   ]
  },
  {
   "cell_type": "code",
   "execution_count": null,
   "metadata": {},
   "outputs": [],
   "source": [
    "my_dog = Dog(price=10, num_vet_visits=1)\n",
    "print(my_dog.animal_type())\n",
    "print(my_dog.is_mammal)\n",
    "print(my_dog.num_legs)\n",
    "\n",
    "my_dog.seen_vet()\n",
    "print(my_dog.num_vet_visits)\n",
    "\n",
    "my_dog.discount_price()\n",
    "print(my_dog.price)"
   ]
  },
  {
   "cell_type": "code",
   "execution_count": null,
   "metadata": {},
   "outputs": [],
   "source": [
    "my_snake = Snake(price=100, num_vet_visits=3)\n",
    "print(my_snake.animal_type())\n",
    "print(my_snake.is_mammal)\n",
    "print(my_snake.num_legs)\n",
    "\n",
    "my_snake.seen_vet()\n",
    "print(my_snake.num_vet_visits)\n",
    "\n",
    "my_snake.discount_price()\n",
    "print(my_snake.price)"
   ]
  }
 ],
 "metadata": {
  "kernelspec": {
   "display_name": "Python 3",
   "language": "python",
   "name": "python3"
  },
  "language_info": {
   "codemirror_mode": {
    "name": "ipython",
    "version": 3
   },
   "file_extension": ".py",
   "mimetype": "text/x-python",
   "name": "python",
   "nbconvert_exporter": "python",
   "pygments_lexer": "ipython3",
   "version": "3.6.1"
  }
 },
 "nbformat": 4,
 "nbformat_minor": 2
}
