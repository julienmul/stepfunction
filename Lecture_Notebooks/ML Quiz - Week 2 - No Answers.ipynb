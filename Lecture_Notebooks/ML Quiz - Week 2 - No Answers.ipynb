{
 "cells": [
  {
   "cell_type": "markdown",
   "metadata": {},
   "source": [
    "## Machine Learning Quiz\n",
    "\n",
    "0. What is classification? What is regression?\n",
    "\n",
    "1. What's the difference between classification and regression?\n",
    "\n",
    "2. Why is dimensionality reduction useful?\n",
    "\n",
    "3. What's the purpose of clustering?\n",
    "\n",
    "4. What is the difference between a categorical and numerical feature?\n",
    "\n",
    "5. How does linear regression work?\n",
    "\n",
    "6. How does the naive Bayes algorithm work?\n",
    "\n",
    "7. What's the purpose of splitting a data set into training and test sets?\n",
    "\n",
    "8. What is overfitting? How can you detect when your machine learning algorithm is overfitting?\n",
    "\n",
    "9. How can overfitting be combatted?\n",
    "\n",
    "10. Name two ways of evaluating the performance of a regression algorithm.\n",
    "\n",
    "11. Name two ways of evaluating the performance of a classification algorithm.\n",
    "\n",
    "12. How does k-NN work?\n",
    "\n",
    "13. How does a support vector machine work?\n",
    "\n",
    "14. What's the purpose of a validation set?\n",
    "\n",
    "15. How does a decision tree work?\n",
    "\n",
    "16. What is logistic regression?\n",
    "\n",
    "17. What is cross-validation?\n",
    "\n",
    "18. What is underfitting? How can you detect when your machine learning algorithm is underfitting?\n",
    "\n",
    "19. Explain in simple terms how machine learning algorithms trade off bias against variance.\n",
    "\n",
    "20. What is the curse of dimensionality and how would you combat it?\n"
   ]
  },
  {
   "cell_type": "code",
   "execution_count": null,
   "metadata": {
    "collapsed": true
   },
   "outputs": [],
   "source": []
  }
 ],
 "metadata": {
  "kernelspec": {
   "display_name": "Python 3",
   "language": "python",
   "name": "python3"
  },
  "language_info": {
   "codemirror_mode": {
    "name": "ipython",
    "version": 3
   },
   "file_extension": ".py",
   "mimetype": "text/x-python",
   "name": "python",
   "nbconvert_exporter": "python",
   "pygments_lexer": "ipython3",
   "version": "3.6.1"
  }
 },
 "nbformat": 4,
 "nbformat_minor": 2
}
