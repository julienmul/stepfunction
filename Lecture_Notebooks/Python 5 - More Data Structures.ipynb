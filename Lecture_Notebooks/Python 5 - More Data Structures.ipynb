{
 "cells": [
  {
   "cell_type": "markdown",
   "metadata": {},
   "source": [
    "## Dictionaries, tuples and more...\n",
    "\n",
    "So far we've seen lists, strings and (very briefly) sets. But there are lots more data structures! We'll now cover the rest of the most important ones.\n",
    "\n",
    "Remember: A data structure is just a way of organising your data so you can do certain things (\"operations\") more easily. You choose your data structures based on the kinds of operations you'd like to do.\n",
    "\n",
    "### Cheat sheet\n",
    "* Lists should be your default choice. You can put anything in there and they support most operations you'll be interested in, even if they're not always the fastest option.\n",
    "\n",
    "    If you're going to use something other than a list, make sure you know exactly why!\n",
    "    \n",
    "    \n",
    "* Dictionaries (\"dicts\") should be your second choice. A dict maps **keys** to **values**.\n",
    "\n",
    "    For example, a `person` dict might contain the **keys** `name`, `age` and `postcode`, with suitable **values** for each.\n",
    "    \n",
    "\n",
    "* Tuples are basically immutable lists. Use them when you don't want your data to change.\n",
    "\n",
    "\n",
    "* Sets are a bit like lists but every element is unique. Use them when you need to quickly perform **membership testing**, remove duplicates or perform set operations like intersection, union or difference.\n",
    "\n",
    "\n",
    "* Strings are like lists of characters. They're immutable."
   ]
  },
  {
   "cell_type": "markdown",
   "metadata": {},
   "source": [
    "### Dictionaries"
   ]
  },
  {
   "cell_type": "code",
   "execution_count": 62,
   "metadata": {
    "collapsed": true
   },
   "outputs": [],
   "source": [
    "iskander_person = {'name': 'Iskander',\n",
    "                   'age': 52,\n",
    "                   'postcode': 'BE7 2AR'}"
   ]
  },
  {
   "cell_type": "code",
   "execution_count": 63,
   "metadata": {},
   "outputs": [
    {
     "data": {
      "text/plain": [
       "'Iskander'"
      ]
     },
     "execution_count": 63,
     "metadata": {},
     "output_type": "execute_result"
    }
   ],
   "source": [
    "# Indexing using keys\n",
    "iskander_person['name']"
   ]
  },
  {
   "cell_type": "code",
   "execution_count": 64,
   "metadata": {},
   "outputs": [
    {
     "data": {
      "text/plain": [
       "52"
      ]
     },
     "execution_count": 64,
     "metadata": {},
     "output_type": "execute_result"
    }
   ],
   "source": [
    "iskander_person['age']"
   ]
  },
  {
   "cell_type": "code",
   "execution_count": 65,
   "metadata": {},
   "outputs": [
    {
     "data": {
      "text/plain": [
       "dict_keys(['name', 'age', 'postcode'])"
      ]
     },
     "execution_count": 65,
     "metadata": {},
     "output_type": "execute_result"
    }
   ],
   "source": [
    "# What's in the dict?\n",
    "iskander_person.keys()"
   ]
  },
  {
   "cell_type": "code",
   "execution_count": 66,
   "metadata": {},
   "outputs": [
    {
     "data": {
      "text/plain": [
       "dict_values(['Iskander', 52, 'BE7 2AR'])"
      ]
     },
     "execution_count": 66,
     "metadata": {},
     "output_type": "execute_result"
    }
   ],
   "source": [
    "# What's in the dict?\n",
    "iskander_person.values()"
   ]
  },
  {
   "cell_type": "code",
   "execution_count": 67,
   "metadata": {},
   "outputs": [
    {
     "name": "stdout",
     "output_type": "stream",
     "text": [
      "Person's name is Iskander\n",
      "Person's age is 52\n",
      "Person's postcode is BE7 2AR\n"
     ]
    }
   ],
   "source": [
    "# Iterating through a dict\n",
    "for k in iskander_person:\n",
    "    print(\"Person's {0} is {1}\".format(\n",
    "          k,\n",
    "          iskander_person[k]))\n"
   ]
  },
  {
   "cell_type": "code",
   "execution_count": 68,
   "metadata": {},
   "outputs": [
    {
     "name": "stdout",
     "output_type": "stream",
     "text": [
      "Person's name is Iskander\n",
      "Person's age is 52\n",
      "Person's postcode is BE7 2AR\n"
     ]
    }
   ],
   "source": [
    "# Iterating through a dict\n",
    "for k, v in iskander_person.items():\n",
    "    print(\"Person's {0} is {1}\".format(\n",
    "          k,\n",
    "          v))"
   ]
  },
  {
   "cell_type": "code",
   "execution_count": 69,
   "metadata": {},
   "outputs": [],
   "source": [
    "# Lists of dicts\n",
    "people = [\n",
    "    {'name': 'Anne', 'age': 34, 'postcode': 'WT2 5JJ', 'voted': 'Labour'},\n",
    "    {'name': 'Bob', 'age': 29, 'postcode': 'EP1 2RQ', 'voted': 'Conservative'},\n",
    "    {'name': 'Charlie', 'age': 21, 'postcode': 'NN1 8AR', 'voted': 'Liberal Democrat'}\n",
    "]"
   ]
  },
  {
   "cell_type": "code",
   "execution_count": 70,
   "metadata": {},
   "outputs": [
    {
     "name": "stdout",
     "output_type": "stream",
     "text": [
      "Anne is 34 years old and voted Labour\n",
      "Bob is 29 years old and voted Conservative\n",
      "Charlie is 21 years old and voted Liberal Democrat\n"
     ]
    }
   ],
   "source": [
    "for person in people:\n",
    "    name = person['name']\n",
    "    age = person['age']\n",
    "    voted = person['voted']\n",
    "    print(\"{0} is {1} years old and voted {2}\".format(name, age, voted))"
   ]
  },
  {
   "cell_type": "markdown",
   "metadata": {},
   "source": [
    "## Exercises\n",
    "\n",
    "Do exercises 2, 3 and 4 from [here](https://erlerobotics.gitbooks.io/erle-robotics-learning-python-gitbook-free/lists/exercises_list_and_dictionaries.html).\n",
    "\n",
    "The idea here is to integrate all the concepts you've learnt so far into a single piece of code. This is a critical part of programming!\n",
    "\n",
    "These are much longer than the exercises you have already done (especially ex. 4), but take your time and ask if you get stuck (don't be tempted to look at the solutions at the bottom of the page!)."
   ]
  },
  {
   "cell_type": "markdown",
   "metadata": {},
   "source": [
    "## Tuples\n",
    "Just like lists, but they're immutable..."
   ]
  },
  {
   "cell_type": "code",
   "execution_count": 71,
   "metadata": {
    "collapsed": true
   },
   "outputs": [],
   "source": [
    "ages = (27, 11, 19, 30)"
   ]
  },
  {
   "cell_type": "code",
   "execution_count": 72,
   "metadata": {},
   "outputs": [
    {
     "data": {
      "text/plain": [
       "4"
      ]
     },
     "execution_count": 72,
     "metadata": {},
     "output_type": "execute_result"
    }
   ],
   "source": [
    "len(ages)"
   ]
  },
  {
   "cell_type": "code",
   "execution_count": 73,
   "metadata": {},
   "outputs": [
    {
     "data": {
      "text/plain": [
       "27"
      ]
     },
     "execution_count": 73,
     "metadata": {},
     "output_type": "execute_result"
    }
   ],
   "source": [
    "ages[0]"
   ]
  },
  {
   "cell_type": "code",
   "execution_count": 74,
   "metadata": {},
   "outputs": [
    {
     "data": {
      "text/plain": [
       "(19, 30)"
      ]
     },
     "execution_count": 74,
     "metadata": {},
     "output_type": "execute_result"
    }
   ],
   "source": [
    "ages[2:]"
   ]
  },
  {
   "cell_type": "code",
   "execution_count": 75,
   "metadata": {},
   "outputs": [],
   "source": [
    "# Uncomment to prove that this doesn't work\n",
    "#ages[0] = 4"
   ]
  },
  {
   "cell_type": "markdown",
   "metadata": {},
   "source": [
    "## Sets"
   ]
  },
  {
   "cell_type": "code",
   "execution_count": 83,
   "metadata": {
    "collapsed": true
   },
   "outputs": [],
   "source": [
    "my_set = {1, 2, 2, 3, 3, 4}     # equiv: my_set = set([1, 2, 2, 3, 3, 4])"
   ]
  },
  {
   "cell_type": "code",
   "execution_count": 77,
   "metadata": {},
   "outputs": [
    {
     "name": "stdout",
     "output_type": "stream",
     "text": [
      "{1, 2, 3, 4}\n"
     ]
    }
   ],
   "source": [
    "print(my_set)"
   ]
  },
  {
   "cell_type": "code",
   "execution_count": 78,
   "metadata": {},
   "outputs": [
    {
     "name": "stdout",
     "output_type": "stream",
     "text": [
      "it's there!\n"
     ]
    }
   ],
   "source": [
    "if 2 in my_set:\n",
    "    print(\"it's there!\")"
   ]
  },
  {
   "cell_type": "code",
   "execution_count": 79,
   "metadata": {},
   "outputs": [
    {
     "name": "stdout",
     "output_type": "stream",
     "text": [
      "it's there!\n"
     ]
    }
   ],
   "source": [
    "my_list = [1, 2, 2, 3, 3, 4]\n",
    "if 2 in set(my_list):\n",
    "    print(\"it's there!\")"
   ]
  },
  {
   "cell_type": "code",
   "execution_count": 80,
   "metadata": {},
   "outputs": [],
   "source": [
    "set1 = {1, 2, 3, 4}\n",
    "set2 = {2, 3, 4, 5}\n"
   ]
  },
  {
   "cell_type": "code",
   "execution_count": 81,
   "metadata": {},
   "outputs": [
    {
     "data": {
      "text/plain": [
       "{2, 3, 4}"
      ]
     },
     "execution_count": 81,
     "metadata": {},
     "output_type": "execute_result"
    }
   ],
   "source": [
    "set1 & set2"
   ]
  },
  {
   "cell_type": "code",
   "execution_count": 82,
   "metadata": {},
   "outputs": [
    {
     "data": {
      "text/plain": [
       "{1, 2, 3, 4, 5}"
      ]
     },
     "execution_count": 82,
     "metadata": {},
     "output_type": "execute_result"
    }
   ],
   "source": [
    "set1 | set2"
   ]
  }
 ],
 "metadata": {
  "kernelspec": {
   "display_name": "Python 3",
   "language": "python",
   "name": "python3"
  },
  "language_info": {
   "codemirror_mode": {
    "name": "ipython",
    "version": 3
   },
   "file_extension": ".py",
   "mimetype": "text/x-python",
   "name": "python",
   "nbconvert_exporter": "python",
   "pygments_lexer": "ipython3",
   "version": "3.6.1"
  }
 },
 "nbformat": 4,
 "nbformat_minor": 2
}
