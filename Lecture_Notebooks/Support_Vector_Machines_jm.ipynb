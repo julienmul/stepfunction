{
 "cells": [
  {
   "cell_type": "code",
   "execution_count": 1,
   "metadata": {
    "collapsed": true
   },
   "outputs": [],
   "source": [
    "import numpy as np\n",
    "\n",
    "from sklearn.datasets import fetch_20newsgroups\n",
    "from sklearn.svm import LinearSVC\n",
    "from sklearn.model_selection import train_test_split\n",
    "from sklearn.feature_extraction.text import CountVectorizer\n",
    "from sklearn.metrics import classification_report, confusion_matrix"
   ]
  },
  {
   "cell_type": "code",
   "execution_count": 2,
   "metadata": {},
   "outputs": [
    {
     "data": {
      "text/plain": [
       "['alt.atheism', 'comp.graphics', 'sci.med', 'soc.religion.christian']"
      ]
     },
     "execution_count": 2,
     "metadata": {},
     "output_type": "execute_result"
    }
   ],
   "source": [
    "categories = ['alt.atheism', 'soc.religion.christian', 'comp.graphics', 'sci.med']\n",
    "twenty_all = fetch_20newsgroups(subset='all',\n",
    "                                  categories=categories,\n",
    "                                  shuffle=True,\n",
    "                                  random_state=0,\n",
    "                                  remove=('headers', 'footers', 'quotes'))\n",
    "\n",
    "twenty_all.target_names"
   ]
  },
  {
   "cell_type": "code",
   "execution_count": 3,
   "metadata": {},
   "outputs": [
    {
     "name": "stdout",
     "output_type": "stream",
     "text": [
      "3759\n",
      "First target is alt.atheism\n"
     ]
    }
   ],
   "source": [
    "print(len(twenty_all.target))\n",
    "print('First target is', twenty_all.target_names[twenty_all.target[0]])\n",
    "#print('First document is', twenty_all.data[0])"
   ]
  },
  {
   "cell_type": "code",
   "execution_count": 4,
   "metadata": {},
   "outputs": [
    {
     "name": "stdout",
     "output_type": "stream",
     "text": [
      "(3759, 38181)\n",
      "<class 'scipy.sparse.csr.csr_matrix'>\n"
     ]
    }
   ],
   "source": [
    "count_vectorizer = CountVectorizer()\n",
    "# creating the term document matrix\n",
    "X = count_vectorizer.fit_transform(twenty_all.data)\n",
    "print(X.shape)\n",
    "print(type(X))"
   ]
  },
  {
   "cell_type": "code",
   "execution_count": 5,
   "metadata": {
    "collapsed": true
   },
   "outputs": [],
   "source": [
    "y = twenty_all.target"
   ]
  },
  {
   "cell_type": "code",
   "execution_count": 6,
   "metadata": {
    "collapsed": true
   },
   "outputs": [],
   "source": [
    "X_train, X_test, y_train, y_test = train_test_split(X, y, test_size=0.15, random_state=0)"
   ]
  },
  {
   "cell_type": "code",
   "execution_count": 7,
   "metadata": {},
   "outputs": [
    {
     "data": {
      "text/plain": [
       "LinearSVC(C=1000, class_weight=None, dual=True, fit_intercept=True,\n",
       "     intercept_scaling=1, loss='squared_hinge', max_iter=1000,\n",
       "     multi_class='ovr', penalty='l2', random_state=None, tol=0.0001,\n",
       "     verbose=0)"
      ]
     },
     "execution_count": 7,
     "metadata": {},
     "output_type": "execute_result"
    }
   ],
   "source": [
    "# fitting the model \n",
    "#\n",
    "model = LinearSVC(C = 1000)\n",
    "model.fit(X_train, y_train)"
   ]
  },
  {
   "cell_type": "code",
   "execution_count": 8,
   "metadata": {},
   "outputs": [
    {
     "name": "stdout",
     "output_type": "stream",
     "text": [
      "Test set accuracy is 0.765957446809\n"
     ]
    }
   ],
   "source": [
    "predicted = model.predict(X_test)\n",
    "print('Test set accuracy is', np.mean(predicted == y_test))"
   ]
  },
  {
   "cell_type": "code",
   "execution_count": 9,
   "metadata": {},
   "outputs": [
    {
     "name": "stdout",
     "output_type": "stream",
     "text": [
      "             precision    recall  f1-score   support\n",
      "\n",
      "          0       0.62      0.67      0.64       116\n",
      "          1       0.87      0.77      0.82       155\n",
      "          2       0.80      0.79      0.79       140\n",
      "          3       0.77      0.81      0.79       153\n",
      "\n",
      "avg / total       0.77      0.77      0.77       564\n",
      "\n"
     ]
    }
   ],
   "source": [
    "# classification report\n",
    "print(classification_report(y_test, predicted))"
   ]
  },
  {
   "cell_type": "code",
   "execution_count": 10,
   "metadata": {},
   "outputs": [
    {
     "name": "stdout",
     "output_type": "stream",
     "text": [
      "[[ 78   7  11  20]\n",
      " [ 19 120   9   7]\n",
      " [ 12   7 110  11]\n",
      " [ 17   4   8 124]]\n"
     ]
    }
   ],
   "source": [
    "# confusion matrix\n",
    "print(confusion_matrix(y_test, predicted))"
   ]
  },
  {
   "cell_type": "markdown",
   "metadata": {},
   "source": [
    "### Step 7: validation set"
   ]
  },
  {
   "cell_type": "code",
   "execution_count": 11,
   "metadata": {
    "collapsed": true
   },
   "outputs": [],
   "source": [
    "X_train2, X_validation, y_train2, y_validation = train_test_split(X_train, y_train, \n",
    "                                                                          test_size=0.15, random_state=0)"
   ]
  },
  {
   "cell_type": "code",
   "execution_count": 12,
   "metadata": {},
   "outputs": [
    {
     "name": "stdout",
     "output_type": "stream",
     "text": [
      "size of previous trainnig set:  (3195, 38181)\n",
      "size of new trainnig set:  (2715, 38181)\n"
     ]
    }
   ],
   "source": [
    "# new training set is smaller:\n",
    "print('size of previous trainnig set: ', X_train.shape)\n",
    "print('size of new trainnig set: ', X_train2.shape)"
   ]
  },
  {
   "cell_type": "code",
   "execution_count": 16,
   "metadata": {},
   "outputs": [
    {
     "name": "stdout",
     "output_type": "stream",
     "text": [
      "Validation set accuracy of model with C = 1 is 0.825\n",
      "Validation set accuracy of model with C = 10 is 0.814583333333\n",
      "Validation set accuracy of model with C = 100 is 0.8125\n",
      "Validation set accuracy of model with C = 1000 is 0.777083333333\n"
     ]
    }
   ],
   "source": [
    "trade_off = [1, 10, 100, 1000]\n",
    "\n",
    "\n",
    "for point in trade_off:\n",
    "\n",
    "    model = LinearSVC(C = point)\n",
    "    model.fit(X_train2, y_train2)\n",
    "    predicted = model.predict(X_validation)\n",
    "    print('Validation set accuracy of model with C = {0} is'.format(point), np.mean(predicted == y_validation))\n",
    "    #print(classification_report(y_test2, predicted))\n",
    "    #print(confusion_matrix(y_test2, predicted))"
   ]
  },
  {
   "cell_type": "code",
   "execution_count": 14,
   "metadata": {},
   "outputs": [
    {
     "name": "stdout",
     "output_type": "stream",
     "text": [
      "Test set accuracy is 0.794326241135\n",
      "The classification report: \n",
      "              precision    recall  f1-score   support\n",
      "\n",
      "          0       0.67      0.71      0.69       116\n",
      "          1       0.88      0.86      0.87       155\n",
      "          2       0.76      0.81      0.79       140\n",
      "          3       0.85      0.77      0.81       153\n",
      "\n",
      "avg / total       0.80      0.79      0.80       564\n",
      "\n",
      "The confusion matrix for the best model: \n",
      " [[ 82   3  14  17]\n",
      " [  8 134  13   0]\n",
      " [ 10  12 114   4]\n",
      " [ 22   4   9 118]]\n"
     ]
    }
   ],
   "source": [
    "# best model\n",
    "model = LinearSVC(C = 1)\n",
    "model.fit(X_train, y_train)\n",
    "predicted = model.predict(X_test)\n",
    "print('Test set accuracy is', np.mean(predicted == y_test))\n",
    "# classification report\n",
    "print('The classification report: \\n', classification_report(y_test, predicted))\n",
    "# confusion matrix\n",
    "print('The confusion matrix for the best model: \\n', confusion_matrix(y_test, predicted))"
   ]
  },
  {
   "cell_type": "code",
   "execution_count": null,
   "metadata": {
    "collapsed": true
   },
   "outputs": [],
   "source": []
  },
  {
   "cell_type": "code",
   "execution_count": null,
   "metadata": {
    "collapsed": true
   },
   "outputs": [],
   "source": []
  },
  {
   "cell_type": "code",
   "execution_count": null,
   "metadata": {
    "collapsed": true
   },
   "outputs": [],
   "source": []
  },
  {
   "cell_type": "code",
   "execution_count": null,
   "metadata": {
    "collapsed": true
   },
   "outputs": [],
   "source": []
  },
  {
   "cell_type": "code",
   "execution_count": null,
   "metadata": {
    "collapsed": true
   },
   "outputs": [],
   "source": []
  },
  {
   "cell_type": "code",
   "execution_count": null,
   "metadata": {
    "collapsed": true
   },
   "outputs": [],
   "source": []
  },
  {
   "cell_type": "code",
   "execution_count": null,
   "metadata": {
    "collapsed": true
   },
   "outputs": [],
   "source": []
  }
 ],
 "metadata": {
  "kernelspec": {
   "display_name": "Python 3",
   "language": "python",
   "name": "python3"
  },
  "language_info": {
   "codemirror_mode": {
    "name": "ipython",
    "version": 3
   },
   "file_extension": ".py",
   "mimetype": "text/x-python",
   "name": "python",
   "nbconvert_exporter": "python",
   "pygments_lexer": "ipython3",
   "version": "3.6.1"
  }
 },
 "nbformat": 4,
 "nbformat_minor": 2
}
