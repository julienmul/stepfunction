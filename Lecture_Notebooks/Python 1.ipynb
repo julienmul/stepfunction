{
 "cells": [
  {
   "cell_type": "markdown",
   "metadata": {},
   "source": [
    "## Calculations, Variables and Strings"
   ]
  },
  {
   "cell_type": "code",
   "execution_count": null,
   "metadata": {},
   "outputs": [],
   "source": [
    "7 + 3"
   ]
  },
  {
   "cell_type": "code",
   "execution_count": null,
   "metadata": {},
   "outputs": [],
   "source": [
    "x = 4\n",
    "x * 2"
   ]
  },
  {
   "cell_type": "code",
   "execution_count": null,
   "metadata": {},
   "outputs": [],
   "source": [
    "# What's the difference?\n",
    "print(x / 2)\n",
    "print(x // 2)"
   ]
  },
  {
   "cell_type": "code",
   "execution_count": null,
   "metadata": {},
   "outputs": [],
   "source": [
    "# Powers\n",
    "x ** 3"
   ]
  },
  {
   "cell_type": "code",
   "execution_count": null,
   "metadata": {},
   "outputs": [],
   "source": [
    "# Two ways of finding a square root\n",
    "import math\n",
    "math.sqrt(5)\n",
    "print(5 ** 0.5)"
   ]
  },
  {
   "cell_type": "code",
   "execution_count": null,
   "metadata": {},
   "outputs": [],
   "source": [
    "# String concatenation\n",
    "my_string = 'The quick brown fox jumps'\n",
    "my_string + \" over the lazy dog\""
   ]
  },
  {
   "cell_type": "code",
   "execution_count": null,
   "metadata": {},
   "outputs": [],
   "source": [
    "my_string = my_string + \" over the lazy dog.\"\n",
    "my_string"
   ]
  },
  {
   "cell_type": "code",
   "execution_count": null,
   "metadata": {},
   "outputs": [],
   "source": [
    "# Escape characters: escaping an apostrophe\n",
    "print('It\\'s hot outside.')"
   ]
  },
  {
   "cell_type": "code",
   "execution_count": null,
   "metadata": {},
   "outputs": [],
   "source": [
    "# Escape characters: a new line\n",
    "print(\"I am a sentence\\nwith two lines.\")"
   ]
  },
  {
   "cell_type": "code",
   "execution_count": null,
   "metadata": {},
   "outputs": [],
   "source": [
    "# Using the print() function with extra arguments\n",
    "monkey_age = 5\n",
    "print(\"My pet monkey's age is\", monkey_age)\n",
    "print(\"The lottery numbers are\", 1, 2, 3, 4, \"five\")"
   ]
  },
  {
   "cell_type": "code",
   "execution_count": null,
   "metadata": {},
   "outputs": [],
   "source": [
    "# Using the format() function\n",
    "print(\"My pet monkey is {0} years old\".format(monkey_age))"
   ]
  },
  {
   "cell_type": "code",
   "execution_count": null,
   "metadata": {},
   "outputs": [],
   "source": [
    "num_years = 3\n",
    "print(\"My pet monkey will be {0} in {1} years' time\".format(monkey_age + num_years,\n",
    "                                                            num_years))\n",
    "print(\"My pet monkey will be {1} in {0} years' time\".format(monkey_age + num_years,\n",
    "                                                            num_years))"
   ]
  },
  {
   "cell_type": "code",
   "execution_count": null,
   "metadata": {
    "collapsed": true
   },
   "outputs": [],
   "source": [
    "# The format() function can be applied to any string. You don't need to use it with\n",
    "# the print() function.\n",
    "monkey_string = \"My pet monkey is {0} years old\".format(monkey_age)"
   ]
  },
  {
   "cell_type": "code",
   "execution_count": null,
   "metadata": {},
   "outputs": [],
   "source": [
    "monkey_string"
   ]
  },
  {
   "cell_type": "code",
   "execution_count": null,
   "metadata": {},
   "outputs": [],
   "source": [
    "# String indexing\n",
    "print(my_string)\n",
    "print(my_string[0])\n",
    "print(my_string[1])"
   ]
  },
  {
   "cell_type": "code",
   "execution_count": null,
   "metadata": {},
   "outputs": [],
   "source": [
    "# How long is this string?\n",
    "len(my_string)"
   ]
  },
  {
   "cell_type": "code",
   "execution_count": null,
   "metadata": {},
   "outputs": [],
   "source": [
    "print(my_string[5])\n",
    "print(my_string[-1])\n",
    "print(my_string[-2])\n",
    "#print(my_string[100]) # what will this do?"
   ]
  },
  {
   "cell_type": "code",
   "execution_count": null,
   "metadata": {},
   "outputs": [],
   "source": [
    "# Slicing\n",
    "print(my_string[0:3])\n",
    "print(my_string[4:9])\n",
    "print(my_string[:3])\n",
    "print(my_string[3:])\n",
    "print(my_string[3:-2])\n",
    "print(my_string[0:100])\n",
    "print(my_string[50:100])"
   ]
  },
  {
   "cell_type": "code",
   "execution_count": null,
   "metadata": {},
   "outputs": [],
   "source": [
    "# I am a comment. I explain non-obvious bits of code.\n",
    "# I don't work across multiple lines.\n",
    "\"\"\"I am also a comment -- notice the triple quotes. You'll normally use this style\n",
    "   at the top of a function/class/file. \"\"\"\n",
    "my_string"
   ]
  },
  {
   "cell_type": "code",
   "execution_count": null,
   "metadata": {},
   "outputs": [],
   "source": [
    "# Line breaks\n",
    "# Uncomment the following two lines\n",
    "#3 + 5 + 6 + 7 +\n",
    "#8\n",
    "3 + 5 + 6 + 7 +\\\n",
    "8"
   ]
  },
  {
   "cell_type": "code",
   "execution_count": null,
   "metadata": {},
   "outputs": [],
   "source": [
    "(3 + 5 + 6 + 7\n",
    " + 8)"
   ]
  },
  {
   "cell_type": "markdown",
   "metadata": {},
   "source": [
    "## Exercises\n",
    "1. Assign the number `10` to a new variable called `num`. Print the value of `num` multiplied by 6.\n",
    "2. Print the value of `num` to the power of 3.\n",
    "3. What's the difference between `(num * 4) + 3` and `num * (4 + 3)`? What about `num * 4 + 3`?\n",
    "4. Evaluate `3 / 0`. What's happened here?\n",
    "5. Concatenate the strings `\"Hello\"` and `\"World\"` and print the result. How would you get `\"World\"` to appear on a new line?\n",
    "6. Make up a sentence using `format()` with 3 parameters and print it.\n",
    "7. Assign the string `\"My cat eats fish from the aquarium\"` to a new variable called `cat_string`. Print:\n",
    "    * The first character in `cat_string`\n",
    "    * The last character in `cat_string`\n",
    "    * The first five characters from `cat_string`\n",
    "    * The last five characters from `cat_string`\n",
    "    * The second word in `cat_string`\n",
    "    * The length of `cat_string`\n",
    "8. What does `cat_string[len(cat_string)]` do? Why?\n",
    "9. What does `cat_string[:len(cat_string)]` do? Why?"
   ]
  }
 ],
 "metadata": {
  "kernelspec": {
   "display_name": "Python 3",
   "language": "python",
   "name": "python3"
  },
  "language_info": {
   "codemirror_mode": {
    "name": "ipython",
    "version": 3
   },
   "file_extension": ".py",
   "mimetype": "text/x-python",
   "name": "python",
   "nbconvert_exporter": "python",
   "pygments_lexer": "ipython3",
   "version": "3.6.1"
  }
 },
 "nbformat": 4,
 "nbformat_minor": 2
}
