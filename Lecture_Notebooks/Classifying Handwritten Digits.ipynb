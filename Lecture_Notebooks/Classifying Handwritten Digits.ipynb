{
 "cells": [
  {
   "cell_type": "markdown",
   "metadata": {},
   "source": [
    "![Handwritten Digits](handwritten_digits.png)"
   ]
  },
  {
   "cell_type": "code",
   "execution_count": 32,
   "metadata": {
    "collapsed": true
   },
   "outputs": [],
   "source": [
    "from sklearn import datasets, svm, metrics\n",
    "import matplotlib.pyplot as plt\n",
    "\n",
    "digits = datasets.load_digits()"
   ]
  },
  {
   "cell_type": "markdown",
   "metadata": {},
   "source": [
    "## What's in the digits dataset?"
   ]
  },
  {
   "cell_type": "code",
   "execution_count": 2,
   "metadata": {},
   "outputs": [
    {
     "name": "stdout",
     "output_type": "stream",
     "text": [
      "Size of the digits dataset is:  (1797, 64)\n",
      "The first digit in the dataset is 0\n",
      "The first digit in the dataset has pixel intensities\n",
      " [  0.   0.   5.  13.   9.   1.   0.   0.   0.   0.  13.  15.  10.  15.   5.\n",
      "   0.   0.   3.  15.   2.   0.  11.   8.   0.   0.   4.  12.   0.   0.   8.\n",
      "   8.   0.   0.   5.   8.   0.   0.   9.   8.   0.   0.   4.  11.   0.   1.\n",
      "  12.   7.   0.   0.   2.  14.   5.  10.  12.   0.   0.   0.   0.   6.  13.\n",
      "  10.   0.   0.   0.]\n"
     ]
    }
   ],
   "source": [
    "print(\"Size of the digits dataset is: \", digits.data.shape)\n",
    "print(\"The first digit in the dataset is\", digits.target[0])\n",
    "print(\"The first digit in the dataset has pixel intensities\\n\", digits.data[0])"
   ]
  },
  {
   "cell_type": "markdown",
   "metadata": {},
   "source": [
    "## That looks complicated!\n",
    "But this is what the computer \"sees\". How can we turn each matrix of pixel intensities into its corresponding number? In other words, how can we teach the computer to \"read\"?"
   ]
  },
  {
   "cell_type": "markdown",
   "metadata": {},
   "source": [
    "## Learning from examples\n",
    "Let's take a selection of examples from this dataset. We can use this to train a *classification model*, which will try to learn from the training examples how to map each matrix to the correct number."
   ]
  },
  {
   "cell_type": "code",
   "execution_count": 33,
   "metadata": {
    "collapsed": true
   },
   "outputs": [],
   "source": [
    "num_samples = len(digits.data)\n",
    "training_set_size = int(0.5 * num_samples)\n",
    "X_training = digits.data[:training_set_size]\n",
    "y_training = digits.target[:training_set_size]\n",
    "X_test = digits.data[training_set_size:]\n",
    "y_test = digits.target[training_set_size:]"
   ]
  },
  {
   "cell_type": "code",
   "execution_count": 42,
   "metadata": {},
   "outputs": [
    {
     "data": {
      "text/plain": [
       "SVC(C=1.0, cache_size=200, class_weight=None, coef0=0.0,\n",
       "  decision_function_shape=None, degree=3, gamma=1e-05, kernel='rbf',\n",
       "  max_iter=-1, probability=False, random_state=None, shrinking=True,\n",
       "  tol=0.001, verbose=False)"
      ]
     },
     "execution_count": 42,
     "metadata": {},
     "output_type": "execute_result"
    }
   ],
   "source": [
    "classifier = svm.SVC(gamma=0.00001)\n",
    "classifier.fit(X_training, y_training)"
   ]
  },
  {
   "cell_type": "markdown",
   "metadata": {},
   "source": [
    "## Making predictions\n",
    "Now that we've trained a classification model, let's make some predictions on the *test set*. These images are \"unseen\" by the model and so will allow us to get an idea as to its accuracy on new data."
   ]
  },
  {
   "cell_type": "code",
   "execution_count": 43,
   "metadata": {},
   "outputs": [
    {
     "name": "stdout",
     "output_type": "stream",
     "text": [
      "Confusion matrix:\n",
      "[[87  0  0  0  1  0  0  0  0  0]\n",
      " [ 0 65 11  2  0  1  1  0  0 11]\n",
      " [ 1  0 74 11  0  0  0  0  0  0]\n",
      " [ 0  2  1 80  0  3  0  5  0  0]\n",
      " [ 3  1  1  0 84  1  0  2  0  0]\n",
      " [ 0  0  0 13  0 69  2  0  0  7]\n",
      " [ 0  1  0  0  0  0 90  0  0  0]\n",
      " [ 0  0  1  0  0  0  0 88  0  0]\n",
      " [ 0 23  6 15  1  9  1  1 27  5]\n",
      " [ 0  0  0 34  0  4  0  1  0 53]]\n"
     ]
    }
   ],
   "source": [
    "expected = y_test\n",
    "predicted = classifier.predict(X_test)\n",
    "print(\"Confusion matrix:\\n%s\" % metrics.confusion_matrix(expected, predicted))"
   ]
  },
  {
   "cell_type": "code",
   "execution_count": null,
   "metadata": {},
   "outputs": [],
   "source": []
  },
  {
   "cell_type": "code",
   "execution_count": null,
   "metadata": {},
   "outputs": [],
   "source": []
  },
  {
   "cell_type": "markdown",
   "metadata": {},
   "source": [
    "## Looks pretty good!\n",
    "Let's have a look at some of the predictions themselves..."
   ]
  },
  {
   "cell_type": "code",
   "execution_count": 39,
   "metadata": {},
   "outputs": [
    {
     "data": {
      "image/png": "[encoded data removed]",
      "text/plain": [
       "<matplotlib.figure.Figure at 0x118121f98>"
      ]
     },
     "metadata": {},
     "output_type": "display_data"
    }
   ],
   "source": [
    "images_and_predictions = list(zip(digits.images[training_set_size:], predicted))\n",
    "for index, (image, prediction) in enumerate(images_and_predictions[:4]):\n",
    "    plt.subplot(1, 4, index + 1)\n",
    "    plt.axis('off')\n",
    "    plt.imshow(image, cmap=plt.cm.gray_r, interpolation='nearest')\n",
    "    plt.title('Prediction: %i' % prediction)\n",
    "\n",
    "plt.show()"
   ]
  },
  {
   "cell_type": "markdown",
   "metadata": {},
   "source": [
    "## Exercises\n",
    "\n",
    "1. We've used the first half of the digits dataset to train the model. How would you use the first 70% instead? Why not use 100%?\n",
    "\n",
    "2. The model we used is called a *support vector machine* (SVM). Notice that we set a parameter called *gamma* to 0.001 when creating the SVM model. Try changing this to different values (e.g. 0.1, 0.01, 0.0001, 0.00001) and seeing how it affects the model's accuracy. How would you decide on the best value for gamma?\n",
    "\n",
    "3. scikit-learn makes it very easy to try different machine learning models. Let's try another model called *naive Bayes*. To do this, figure out where to put each of the following two lines to make this work. "
   ]
  },
  {
   "cell_type": "code",
   "execution_count": null,
   "metadata": {},
   "outputs": [],
   "source": []
  },
  {
   "cell_type": "code",
   "execution_count": 23,
   "metadata": {
    "collapsed": true
   },
   "outputs": [],
   "source": [
    "from sklearn.naive_bayes import GaussianNB\n",
    "import matplotlib.pyplot as plt"
   ]
  },
  {
   "cell_type": "code",
   "execution_count": 28,
   "metadata": {
    "collapsed": true
   },
   "outputs": [],
   "source": [
    "num_samples = len(digits.data)\n",
    "training_set_size = int(0.5 * num_samples)\n",
    "X_training = digits.data[:training_set_size]\n",
    "y_training = digits.target[:training_set_size]\n",
    "X_test = digits.data[training_set_size:]\n",
    "y_test = digits.target[training_set_size:]"
   ]
  },
  {
   "cell_type": "code",
   "execution_count": 29,
   "metadata": {},
   "outputs": [
    {
     "data": {
      "text/plain": [
       "GaussianNB(priors=None)"
      ]
     },
     "execution_count": 29,
     "metadata": {},
     "output_type": "execute_result"
    }
   ],
   "source": [
    "classifier = GaussianNB()\n",
    "classifier.fit(X_training, y_training)"
   ]
  },
  {
   "cell_type": "code",
   "execution_count": 30,
   "metadata": {},
   "outputs": [
    {
     "name": "stdout",
     "output_type": "stream",
     "text": [
      "Confusion matrix:\n",
      "[[84  0  0  0  0  2  0  0  1  1]\n",
      " [ 0 67  2  0  0  0  0  2 13  7]\n",
      " [ 0  8 72  0  0  1  2  0  3  0]\n",
      " [ 0  2  2 72  0  2  0  2  9  2]\n",
      " [ 1  0  0  0 67  0  0 22  1  1]\n",
      " [ 0  2  0  4  0 74  1  3  2  5]\n",
      " [ 0  1  0  0  0  0 90  0  0  0]\n",
      " [ 0  0  2  0  0 12  0 72  2  1]\n",
      " [ 0  2  5  0  0  9  0  4 67  1]\n",
      " [ 1  1  0  6  0  5  1  6 11 61]]\n"
     ]
    }
   ],
   "source": [
    "expected = y_test\n",
    "predicted = classifier.predict(X_test)\n",
    "print(\"Confusion matrix:\\n%s\" % metrics.confusion_matrix(expected, predicted))"
   ]
  },
  {
   "cell_type": "code",
   "execution_count": 31,
   "metadata": {},
   "outputs": [
    {
     "data": {
      "image/png": "[encoded data removed]",
      "text/plain": [
       "<matplotlib.figure.Figure at 0x11536df28>"
      ]
     },
     "metadata": {},
     "output_type": "display_data"
    }
   ],
   "source": [
    "images_and_predictions = list(zip(digits.images[training_set_size:], predicted))\n",
    "for index, (image, prediction) in enumerate(images_and_predictions[:4]):\n",
    "    plt.subplot(1, 4, index + 1)\n",
    "    plt.axis('off')\n",
    "    plt.imshow(image, cmap=plt.cm.gray_r, interpolation='nearest')\n",
    "    plt.title('Prediction: %i' % prediction)\n",
    "\n",
    "plt.show()"
   ]
  },
  {
   "cell_type": "code",
   "execution_count": null,
   "metadata": {},
   "outputs": [],
   "source": []
  },
  {
   "cell_type": "code",
   "execution_count": null,
   "metadata": {
    "collapsed": true
   },
   "outputs": [],
   "source": []
  },
  {
   "cell_type": "code",
   "execution_count": null,
   "metadata": {
    "collapsed": true
   },
   "outputs": [],
   "source": []
  }
 ],
 "metadata": {
  "kernelspec": {
   "display_name": "Python 3",
   "language": "python",
   "name": "python3"
  },
  "language_info": {
   "codemirror_mode": {
    "name": "ipython",
    "version": 3
   },
   "file_extension": ".py",
   "mimetype": "text/x-python",
   "name": "python",
   "nbconvert_exporter": "python",
   "pygments_lexer": "ipython3",
   "version": "3.6.1"
  }
 },
 "nbformat": 4,
 "nbformat_minor": 2
}
