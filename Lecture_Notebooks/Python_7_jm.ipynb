{
 "cells": [
  {
   "cell_type": "code",
   "execution_count": 2,
   "metadata": {},
   "outputs": [
    {
     "data": {
      "text/plain": [
       "(10, 20)"
      ]
     },
     "execution_count": 2,
     "metadata": {},
     "output_type": "execute_result"
    }
   ],
   "source": [
    "class Rectangle:\n",
    "    def __init__(self, width, height):\n",
    "        self.width = width\n",
    "        self.height = height\n",
    "        \n",
    "rect = Rectangle(width = 10, height = 20)\n",
    "rect.width, rect.height"
   ]
  },
  {
   "cell_type": "code",
   "execution_count": 4,
   "metadata": {},
   "outputs": [
    {
     "data": {
      "text/plain": [
       "(2, 100)"
      ]
     },
     "execution_count": 4,
     "metadata": {},
     "output_type": "execute_result"
    }
   ],
   "source": [
    "rect2 = Rectangle(width = 2, height = 100)\n",
    "rect2.width, rect2.height"
   ]
  },
  {
   "cell_type": "code",
   "execution_count": 13,
   "metadata": {},
   "outputs": [
    {
     "data": {
      "text/plain": [
       "(200, 60, 400)"
      ]
     },
     "execution_count": 13,
     "metadata": {},
     "output_type": "execute_result"
    }
   ],
   "source": [
    "class Rectangle:\n",
    "    def __init__(self, width, height):\n",
    "        self.width = width\n",
    "        self.height = height\n",
    "        \n",
    "    def area(self):\n",
    "        return self.width * self.height\n",
    "    \n",
    "    def perimeter(self):\n",
    "        return 2 * (self.width + self.height)\n",
    "    \n",
    "    def mult_area(self, multiple):\n",
    "        return self.area() * multiple\n",
    "        \n",
    "rect = Rectangle(width = 10, height = 20)\n",
    "rect.area(), rect.perimeter(), rect.mult_area(multiple = 2)"
   ]
  },
  {
   "cell_type": "code",
   "execution_count": 16,
   "metadata": {},
   "outputs": [
    {
     "data": {
      "text/plain": [
       "(78.53981633974483, 31.41592653589793)"
      ]
     },
     "execution_count": 16,
     "metadata": {},
     "output_type": "execute_result"
    }
   ],
   "source": [
    "# Create a Circle class with one attribute (radius) and two methods (area() and circumference()). \n",
    "# Test this by creating an instance of the Circle class and calling its methods. \n",
    "# (You can get the value of pi using from math import pi).\n",
    "\n",
    "from math import pi\n",
    "\n",
    "class Circle:\n",
    "    \n",
    "    def __init__(self, radius):\n",
    "        self.radius = radius\n",
    "        self.pi = pi\n",
    "        \n",
    "    def area(self):\n",
    "        return self.pi * self.radius**2\n",
    "    \n",
    "    def circumference(self):\n",
    "        return 2 * self.pi * self.radius\n",
    "    \n",
    "\n",
    "circ = Circle(radius = 5)\n",
    "circ.area(), circ.circumference()"
   ]
  },
  {
   "cell_type": "code",
   "execution_count": 23,
   "metadata": {},
   "outputs": [
    {
     "data": {
      "text/plain": [
       "13.84083044982699"
      ]
     },
     "execution_count": 23,
     "metadata": {},
     "output_type": "execute_result"
    }
   ],
   "source": [
    "# Create a Patient class with four attributes (height, mass, is_adult, hospital_name) and one method (bmi_status()). \n",
    "# Test this by creating an instance of the Patient class and calling bmi_status().\n",
    "\n",
    "class Patient:\n",
    "    \n",
    "    def __init__(self, height, mass, is_adult, hospital_name):\n",
    "        self.height = height\n",
    "        self.mass = mass\n",
    "        self.is_adult = is_adult\n",
    "        self.hospital_name = hospital_name\n",
    "        \n",
    "    def bmi_status(self):\n",
    "        return self.mass / (self.height ** 2)\n",
    "    \n",
    "dummy = Patient(height = 1.7, mass = 40, is_adult = True, hospital_name = 'NaN')\n",
    "dummy.bmi_status()"
   ]
  },
  {
   "cell_type": "code",
   "execution_count": 24,
   "metadata": {},
   "outputs": [
    {
     "data": {
      "text/plain": [
       "('Ford', 'Focus', 4, 4)"
      ]
     },
     "execution_count": 24,
     "metadata": {},
     "output_type": "execute_result"
    }
   ],
   "source": [
    "class Car:\n",
    "    wheels = 4\n",
    "    \n",
    "    def __init__(self, make, model):\n",
    "        self.make = make\n",
    "        self.model = model\n",
    "\n",
    "my_car = Car(make = 'Ford', model = 'Focus')\n",
    "my_car.make, my_car.model, my_car.wheels, Car.wheels"
   ]
  },
  {
   "cell_type": "markdown",
   "metadata": {},
   "source": [
    "# Inheritance"
   ]
  },
  {
   "cell_type": "code",
   "execution_count": 25,
   "metadata": {
    "collapsed": true
   },
   "outputs": [],
   "source": [
    "class Vehicle:\n",
    "    base_sale_price = 0\n",
    "    wheels = 0\n",
    "\n",
    "    def __init__(self, miles, make, model, year, sold_on):\n",
    "        self.miles = miles\n",
    "        self.make = make\n",
    "        self.model = model\n",
    "        self.year = year\n",
    "        self.sold_on = sold_on\n",
    "\n",
    "    def sale_price(self):\n",
    "        \"\"\"Return the sale price for this vehicle as a float amount.\"\"\"\n",
    "        if self.sold_on:\n",
    "            return 0.0  # Already sold\n",
    "        return 5000.0 * self.wheels\n",
    "\n",
    "    def purchase_price(self):\n",
    "        \"\"\"Return the price for which we would pay to purchase the vehicle.\"\"\"\n",
    "        if not self.sold_on:\n",
    "            return 0.0  # Not yet sold\n",
    "        return self.base_sale_price - (.10 * self.miles)\n",
    "\n",
    "    def vehicle_type(self):\n",
    "        \"\"\"Return a string representing the type of vehicle this is.\"\"\"\n",
    "        raise NotImplementedError(\"Vehicle class instances don't have a vehicle type\")\n",
    "        \n",
    "        \n",
    "class Car(Vehicle):\n",
    "    base_sale_price = 8000\n",
    "    wheels = 4\n",
    "\n",
    "    def vehicle_type(self):\n",
    "        \"\"\"Return a string representing the type of vehicle this is.\"\"\"\n",
    "        return 'car'\n",
    "\n",
    "class Truck(Vehicle):\n",
    "    base_sale_price = 10000\n",
    "    wheels = 4\n",
    "\n",
    "    def vehicle_type(self):\n",
    "        \"\"\"Return a string representing the type of vehicle this is.\"\"\"\n",
    "        return 'truck'"
   ]
  },
  {
   "cell_type": "code",
   "execution_count": 32,
   "metadata": {},
   "outputs": [
    {
     "name": "stdout",
     "output_type": "stream",
     "text": [
      "car\n",
      "5000.0\n"
     ]
    }
   ],
   "source": [
    "car = Car(miles=30000, make='Ford', model='Focus', year=2015, sold_on=True)\n",
    "print(car.vehicle_type())\n",
    "print(car.purchase_price())"
   ]
  },
  {
   "cell_type": "code",
   "execution_count": 27,
   "metadata": {},
   "outputs": [
    {
     "ename": "NotImplementedError",
     "evalue": "Vehicle class instances don't have a vehicle type",
     "output_type": "error",
     "traceback": [
      "\u001b[0;31m---------------------------------------------------------------------------\u001b[0m",
      "\u001b[0;31mNotImplementedError\u001b[0m                       Traceback (most recent call last)",
      "\u001b[0;32m<ipython-input-27-1622121eae7f>\u001b[0m in \u001b[0;36m<module>\u001b[0;34m()\u001b[0m\n\u001b[1;32m      1\u001b[0m \u001b[0mvehicle\u001b[0m \u001b[0;34m=\u001b[0m \u001b[0mVehicle\u001b[0m\u001b[0;34m(\u001b[0m\u001b[0mmiles\u001b[0m\u001b[0;34m=\u001b[0m\u001b[0;36m20000\u001b[0m\u001b[0;34m,\u001b[0m \u001b[0mmake\u001b[0m\u001b[0;34m=\u001b[0m\u001b[0;34m'Ford'\u001b[0m\u001b[0;34m,\u001b[0m \u001b[0mmodel\u001b[0m\u001b[0;34m=\u001b[0m\u001b[0;34m'Focus'\u001b[0m\u001b[0;34m,\u001b[0m \u001b[0myear\u001b[0m\u001b[0;34m=\u001b[0m\u001b[0;36m2015\u001b[0m\u001b[0;34m,\u001b[0m \u001b[0msold_on\u001b[0m\u001b[0;34m=\u001b[0m\u001b[0;32mFalse\u001b[0m\u001b[0;34m)\u001b[0m\u001b[0;34m\u001b[0m\u001b[0m\n\u001b[0;32m----> 2\u001b[0;31m \u001b[0mvehicle\u001b[0m\u001b[0;34m.\u001b[0m\u001b[0mvehicle_type\u001b[0m\u001b[0;34m(\u001b[0m\u001b[0;34m)\u001b[0m\u001b[0;34m\u001b[0m\u001b[0m\n\u001b[0m",
      "\u001b[0;32m<ipython-input-25-93f75f9c3068>\u001b[0m in \u001b[0;36mvehicle_type\u001b[0;34m(self)\u001b[0m\n\u001b[1;32m     24\u001b[0m     \u001b[0;32mdef\u001b[0m \u001b[0mvehicle_type\u001b[0m\u001b[0;34m(\u001b[0m\u001b[0mself\u001b[0m\u001b[0;34m)\u001b[0m\u001b[0;34m:\u001b[0m\u001b[0;34m\u001b[0m\u001b[0m\n\u001b[1;32m     25\u001b[0m         \u001b[0;34m\"\"\"Return a string representing the type of vehicle this is.\"\"\"\u001b[0m\u001b[0;34m\u001b[0m\u001b[0m\n\u001b[0;32m---> 26\u001b[0;31m         \u001b[0;32mraise\u001b[0m \u001b[0mNotImplementedError\u001b[0m\u001b[0;34m(\u001b[0m\u001b[0;34m\"Vehicle class instances don't have a vehicle type\"\u001b[0m\u001b[0;34m)\u001b[0m\u001b[0;34m\u001b[0m\u001b[0m\n\u001b[0m\u001b[1;32m     27\u001b[0m \u001b[0;34m\u001b[0m\u001b[0m\n\u001b[1;32m     28\u001b[0m \u001b[0;34m\u001b[0m\u001b[0m\n",
      "\u001b[0;31mNotImplementedError\u001b[0m: Vehicle class instances don't have a vehicle type"
     ]
    }
   ],
   "source": [
    "vehicle = Vehicle(miles=20000, make='Ford', model='Focus', year=2015, sold_on=False)\n",
    "vehicle.vehicle_type()"
   ]
  },
  {
   "cell_type": "code",
   "execution_count": null,
   "metadata": {
    "collapsed": true
   },
   "outputs": [],
   "source": []
  },
  {
   "cell_type": "code",
   "execution_count": 86,
   "metadata": {},
   "outputs": [],
   "source": [
    "# Imagine you own a pet shop selling three types of animals: Cats, Dogs and Snakes.\n",
    "# Design some classes to help you keep track of your animals. Specifically:\n",
    "# Create an Animal base class and Cat, Dog and Snake child classes\n",
    "# Store the price of each animal\n",
    "# Store the number of times each animal has seen a vet (num_vet_visits)\n",
    "# Store whether or not the animal is a mammal\n",
    "# Store the number of legs of the animal\n",
    "# Write a method animal_type() that returns the type of the animal ('cat', 'dog' or 'snake')\n",
    "# Write a method seen_vet() that increments num_vet_visits by 1\n",
    "# Write a method discount_price() that applies a discount of 20% to the current price of the animal\n",
    "# Test the methods you have written to ensure they work.\n",
    "# Think carefully about what data and methods should be put in the base Animal class vs. its children. \n",
    "# REMEMBER: Common functionality goes in the base class!\n",
    "\n",
    "\n",
    "class Animal():\n",
    "    is_mammal = True\n",
    "    num_legs = 0\n",
    "    \n",
    "    def __init__(self, num_vet_visits, price):\n",
    "        self.price = price\n",
    "        self.num_vet_visits = num_vet_visits\n",
    "        \n",
    "    def seen_vet(self):\n",
    "        self.num_vet_visits += 1\n",
    "    \n",
    "    def discount_price(self):\n",
    "        return self.price * 0.8\n",
    "    \n",
    "    def animal_type(self):\n",
    "        raise NotImplementedError(\"No animal type!\")\n",
    "    \n",
    "# class cat\n",
    "class Cat(Animal):\n",
    "    is_mammal = True\n",
    "    num_legs = 4\n",
    "    \n",
    "    def animal_type(self):\n",
    "        return 'Cat'\n",
    "\n",
    "# class dog    \n",
    "class Dog(Animal):\n",
    "    is_mammal = True\n",
    "    num_legs = 4\n",
    "    \n",
    "    def animal_type(self):\n",
    "        return 'Dog'\n",
    "    \n",
    "# class snake\n",
    "class Snake(Animal):\n",
    "    is_mammal = False\n",
    "    num_legs = 0\n",
    "    \n",
    "    def animal_type(self):\n",
    "        return 'Snake'"
   ]
  },
  {
   "cell_type": "code",
   "execution_count": 87,
   "metadata": {},
   "outputs": [
    {
     "name": "stdout",
     "output_type": "stream",
     "text": [
      "Animal type is:  Cat\n",
      "Is mammal?:  True\n",
      "Number of legs are: 4\n",
      "Number of vet visits:  5\n",
      "Discounted price of Animal is: 800.0\n"
     ]
    }
   ],
   "source": [
    "kitty = Cat(num_vet_visits = 4, price = 1000)\n",
    "print('Animal type is: ', kitty.animal_type())\n",
    "print('Is mammal?: ', kitty.is_mammal)\n",
    "print('Number of legs are:', kitty.num_legs)\n",
    "kitty.seen_vet()\n",
    "print('Number of vet visits: ', kitty.num_vet_visits)\n",
    "print('Discounted price of Animal is:', kitty.discount_price())"
   ]
  },
  {
   "cell_type": "code",
   "execution_count": 88,
   "metadata": {},
   "outputs": [],
   "source": [
    "sneaky = Snake(num_vet_visits = 3, price = 14560)"
   ]
  },
  {
   "cell_type": "code",
   "execution_count": 89,
   "metadata": {},
   "outputs": [
    {
     "name": "stdout",
     "output_type": "stream",
     "text": [
      "Animal type is:  Snake\n",
      "Is mammal?:  False\n",
      "Number of legs are: 0\n",
      "Number of vet visits:  4\n",
      "Discounted price of Animal is: 11648.0\n"
     ]
    }
   ],
   "source": [
    "print('Animal type is: ', sneaky.animal_type())\n",
    "print('Is mammal?: ', sneaky.is_mammal)\n",
    "print('Number of legs are:', sneaky.num_legs)\n",
    "sneaky.seen_vet()\n",
    "print('Number of vet visits: ', sneaky.num_vet_visits)\n",
    "print('Discounted price of Animal is:', sneaky.discount_price())"
   ]
  },
  {
   "cell_type": "code",
   "execution_count": null,
   "metadata": {
    "collapsed": true
   },
   "outputs": [],
   "source": []
  },
  {
   "cell_type": "code",
   "execution_count": 91,
   "metadata": {
    "collapsed": true
   },
   "outputs": [],
   "source": [
    "class Rectangle:\n",
    "    def __init__(self, width, height):\n",
    "        self.width= width\n",
    "        self.height = height\n",
    "    \n",
    "    def area(self):\n",
    "        return self.width * self.height\n",
    "\n",
    "class Square(Rectangle):\n",
    "    def __init__(self, width):\n",
    "        super().__init__(width, width)\n",
    "        \n",
    "        # Slightly artificial example -- there's no need to override area() in this case!\n",
    "        def area(self):\n",
    "            return super().area()"
   ]
  },
  {
   "cell_type": "code",
   "execution_count": 92,
   "metadata": {
    "collapsed": true
   },
   "outputs": [],
   "source": [
    "square = Square(width=3)"
   ]
  },
  {
   "cell_type": "code",
   "execution_count": 93,
   "metadata": {},
   "outputs": [
    {
     "name": "stdout",
     "output_type": "stream",
     "text": [
      "Square dimensions are 3 3\n",
      "Area of square is 9\n"
     ]
    }
   ],
   "source": [
    "print(\"Square dimensions are\", square.width, square.height)\n",
    "print(\"Area of square is\", square.area())"
   ]
  },
  {
   "cell_type": "code",
   "execution_count": null,
   "metadata": {
    "collapsed": true
   },
   "outputs": [],
   "source": []
  }
 ],
 "metadata": {
  "kernelspec": {
   "display_name": "Python 3",
   "language": "python",
   "name": "python3"
  },
  "language_info": {
   "codemirror_mode": {
    "name": "ipython",
    "version": 3
   },
   "file_extension": ".py",
   "mimetype": "text/x-python",
   "name": "python",
   "nbconvert_exporter": "python",
   "pygments_lexer": "ipython3",
   "version": "3.6.1"
  }
 },
 "nbformat": 4,
 "nbformat_minor": 2
}
