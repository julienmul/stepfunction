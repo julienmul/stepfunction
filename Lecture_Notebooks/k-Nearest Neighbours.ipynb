{
 "cells": [
  {
   "cell_type": "markdown",
   "metadata": {},
   "source": [
    "## k-Nearest Neighbours (k-NN)\n",
    "\n",
    "The task in this notebook is to try to predict the number of O-rings experiencing thermal distress given the temperature and pressure at launch. [More context.](https://en.wikipedia.org/wiki/Space_Shuttle_Challenger_disaster)\n",
    "\n",
    "We've not properly introduced Pandas yet, but it's the easiest way of getting a data set from a CSV file into a nice form for sklearn."
   ]
  },
  {
   "cell_type": "code",
   "execution_count": null,
   "metadata": {
    "collapsed": true
   },
   "outputs": [],
   "source": [
    "import numpy as np\n",
    "import pandas as pd\n",
    "from sklearn.model_selection import train_test_split\n",
    "from sklearn.neighbors import KNeighborsRegressor\n",
    "from sklearn.metrics import mean_squared_error\n",
    "import matplotlib.pyplot as plt"
   ]
  },
  {
   "cell_type": "code",
   "execution_count": null,
   "metadata": {},
   "outputs": [],
   "source": [
    "challenger_df = pd.read_csv(\"challenger.csv\")\n",
    "challenger_df"
   ]
  },
  {
   "cell_type": "markdown",
   "metadata": {},
   "source": [
    "For this example, we're only going to use the temperature and pressure as our two inputs. We're going to try to predict `distress_ct` as our target, which is the number of O-rings experiencing thermal distress."
   ]
  },
  {
   "cell_type": "code",
   "execution_count": null,
   "metadata": {},
   "outputs": [],
   "source": [
    "X = challenger_df.drop(['distress_ct', 'o_ring_ct', 'launch_id'], axis=1)\n",
    "X = np.array(X)\n",
    "X"
   ]
  },
  {
   "cell_type": "code",
   "execution_count": null,
   "metadata": {},
   "outputs": [],
   "source": [
    "y = challenger_df['distress_ct']\n",
    "y = np.array(y)\n",
    "y"
   ]
  },
  {
   "cell_type": "markdown",
   "metadata": {},
   "source": [
    "Let's now split our data set into a training set and test set. We put 50% of the data in the training set and 50% in the test set.\n",
    "\n",
    "Note that we're using sklearn's built-in `train_test_split` function to perform a random split. Read its documentation to see exactly what it can do."
   ]
  },
  {
   "cell_type": "code",
   "execution_count": null,
   "metadata": {
    "collapsed": true
   },
   "outputs": [],
   "source": [
    "X_train, X_test, y_train, y_test = train_test_split(X, y, test_size=0.5, random_state=0)"
   ]
  },
  {
   "cell_type": "code",
   "execution_count": null,
   "metadata": {},
   "outputs": [],
   "source": [
    "for a, b in zip(X_train[:10], y_train[:10]):\n",
    "    print(a, b)"
   ]
  },
  {
   "cell_type": "markdown",
   "metadata": {},
   "source": [
    "## Fitting the model"
   ]
  },
  {
   "cell_type": "code",
   "execution_count": null,
   "metadata": {},
   "outputs": [],
   "source": [
    "model = KNeighborsRegressor(n_neighbors=3)\n",
    "model.fit(X_train, y_train)"
   ]
  },
  {
   "cell_type": "markdown",
   "metadata": {},
   "source": [
    "## Model evaluation\n",
    "The nature of the target is such that standard metrics such as MSE and $R^2$ are less insightful than simply looking at the results. But let's output these metrics anyway, just for practice."
   ]
  },
  {
   "cell_type": "code",
   "execution_count": null,
   "metadata": {},
   "outputs": [],
   "source": [
    "y_pred = model.predict(X_test)\n",
    "y_pred = np.ceil(y_pred)\n",
    "y_actual = y_test\n",
    "mean_squared_error(y_actual, y_pred)"
   ]
  },
  {
   "cell_type": "markdown",
   "metadata": {},
   "source": [
    "**Exercise**: Find out what `np.ceil` does. Why do you think we have used it here?"
   ]
  },
  {
   "cell_type": "code",
   "execution_count": null,
   "metadata": {},
   "outputs": [],
   "source": [
    "# Test R^2\n",
    "print(model.score(X_test, y_actual))\n",
    "plt.scatter(y_pred, y_actual, marker='.')\n",
    "plt.xlabel('Predicted y')\n",
    "plt.ylabel('Actual y')\n",
    "plt.show()"
   ]
  },
  {
   "cell_type": "markdown",
   "metadata": {},
   "source": [
    "Note that in this case, the scatter plot is not very useful as we're dealing with integer outputs -- so points tend to appear on top of each other. One way of dealing with this is to add a small amount of random \"jitter\" to each point (for visualisation purposes only!).\n",
    "\n",
    "However, as the test set is so small it's easier to just print the whole thing instead."
   ]
  },
  {
   "cell_type": "code",
   "execution_count": null,
   "metadata": {},
   "outputs": [],
   "source": [
    "for a, b in zip(y_pred, y_actual):\n",
    "    print(\"Predicted = {0}, Actual = {1}\".format(a, b))"
   ]
  },
  {
   "cell_type": "markdown",
   "metadata": {},
   "source": [
    "## Exercises\n",
    "\n",
    "1. Try adjusting $k$ (the number of neigbours) to see how this affects the results.\n",
    "2. How often do we predict that an O-ring failed when in fact no O-rings have failed? (*false positives*. Note that a \"positive\" result is when an O-ring actually fails!)\n",
    "3. How often do we predict that no O-ring has failed when in fact some O-rings have failed? (*false negatives*)\n",
    "4. Both of the above two cases are examples of model mispredictions. In this particular case, what type of misprediction is worse: having a high number of false positives or a high number of false negatives?\n",
    "5. We've only evaluated the performance of the model over the test set. Without changing any code, how would you expect k-NN to perform over the training set? Now try evaluating the performance of the model over the training set to see if you were correct."
   ]
  },
  {
   "cell_type": "code",
   "execution_count": null,
   "metadata": {
    "collapsed": true
   },
   "outputs": [],
   "source": []
  }
 ],
 "metadata": {
  "kernelspec": {
   "display_name": "Python 3",
   "language": "python",
   "name": "python3"
  },
  "language_info": {
   "codemirror_mode": {
    "name": "ipython",
    "version": 3
   },
   "file_extension": ".py",
   "mimetype": "text/x-python",
   "name": "python",
   "nbconvert_exporter": "python",
   "pygments_lexer": "ipython3",
   "version": "3.6.1"
  }
 },
 "nbformat": 4,
 "nbformat_minor": 2
}
