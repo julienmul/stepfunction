{
 "cells": [
  {
   "cell_type": "code",
   "execution_count": null,
   "metadata": {
    "collapsed": true
   },
   "outputs": [],
   "source": [
    "def bmi_status_child(mass, height):\n",
    "    \"\"\"For children only. Mass should be in kilograms and height in metres.\"\"\"\n",
    "    bmi = mass / (height ** 2)\n",
    "    print(\"Body mass index is {0:.1f}\".format(bmi))\n",
    "    \n",
    "    if bmi < 22:\n",
    "        status = \"NORMAL\"\n",
    "    elif bmi < 25:\n",
    "        status = \"OVERWEIGHT\"\n",
    "    else:\n",
    "        status = \"OBESE\"\n",
    "        \n",
    "    return status"
   ]
  },
  {
   "cell_type": "code",
   "execution_count": null,
   "metadata": {
    "collapsed": true
   },
   "outputs": [],
   "source": [
    "def compute_bmi(mass, height):\n",
    "    bmi = mass / (height ** 2)\n",
    "    print(\"Body mass index is {0:.1f}\".format(bmi))\n",
    "    return bmi"
   ]
  },
  {
   "cell_type": "code",
   "execution_count": null,
   "metadata": {
    "collapsed": true
   },
   "outputs": [],
   "source": [
    "def bmi_status(mass, height):\n",
    "    \"\"\"For adults only. Mass should be in kilograms and height in metres.\"\"\"\n",
    "    bmi = compute_bmi(mass, height)\n",
    "    \n",
    "    if bmi < 25:\n",
    "        status = \"NORMAL\"\n",
    "    elif bmi < 29:\n",
    "        status = \"OVERWEIGHT\"\n",
    "    else:\n",
    "        status = \"OBESE\"\n",
    "        \n",
    "    return status"
   ]
  },
  {
   "cell_type": "code",
   "execution_count": null,
   "metadata": {
    "collapsed": true
   },
   "outputs": [],
   "source": [
    "def bmi_status_child(mass, height):\n",
    "    \"\"\"For children only. Mass should be in kilograms and height in metres.\"\"\"\n",
    "    bmi = compute_bmi(mass, height)\n",
    "    \n",
    "    if bmi < 22:\n",
    "        status = \"NORMAL\"\n",
    "    elif bmi < 25:\n",
    "        status = \"OVERWEIGHT\"\n",
    "    else:\n",
    "        status = \"OBESE\"\n",
    "        \n",
    "    return status"
   ]
  },
  {
   "cell_type": "code",
   "execution_count": null,
   "metadata": {
    "collapsed": true
   },
   "outputs": [],
   "source": [
    "def bmi_status(mass, height, is_adult):\n",
    "    \"\"\"Mass should be in kilograms and height in metres.\"\"\"\n",
    "    bmi = compute_bmi(mass, height)\n",
    "    \n",
    "    if is_adult:\n",
    "        if bmi < 25:\n",
    "            status = \"NORMAL\"\n",
    "        elif bmi < 29:\n",
    "            status = \"OVERWEIGHT\"\n",
    "        else:\n",
    "            status = \"OBESE\"\n",
    "    else:\n",
    "        if bmi < 22:\n",
    "            status = \"NORMAL\"\n",
    "        elif bmi < 25:\n",
    "            status = \"OVERWEIGHT\"\n",
    "        else:\n",
    "            status = \"OBESE\"\n",
    "        \n",
    "    return status"
   ]
  },
  {
   "cell_type": "code",
   "execution_count": null,
   "metadata": {},
   "outputs": [],
   "source": [
    "print(bmi_status(80, 1.8, True))\n",
    "print(bmi_status(80, 1.8, False))"
   ]
  },
  {
   "cell_type": "code",
   "execution_count": null,
   "metadata": {},
   "outputs": [],
   "source": [
    "# 1\n",
    "def count_evens(numbers):\n",
    "    count = 0\n",
    "    for num in numbers:\n",
    "        if num % 2 == 0:\n",
    "            count += 1\n",
    "    \n",
    "    return count\n",
    "\n",
    "count_evens([1, 2, 3, 10, 7])"
   ]
  },
  {
   "cell_type": "code",
   "execution_count": null,
   "metadata": {},
   "outputs": [],
   "source": [
    "# 2\n",
    "from sys import maxsize\n",
    "def calc_max(numbers):\n",
    "    current_max = -maxsize\n",
    "    for num in numbers:\n",
    "        if num > current_max:\n",
    "            current_max = num\n",
    "            \n",
    "    return current_max\n",
    "\n",
    "calc_max([1, 2, 3, 10, 7])"
   ]
  },
  {
   "cell_type": "code",
   "execution_count": null,
   "metadata": {},
   "outputs": [],
   "source": [
    "# 3\n",
    "from sys import maxsize\n",
    "def calc_min(numbers):\n",
    "    current_min = maxsize\n",
    "    for num in numbers:\n",
    "        if num < current_min:\n",
    "            current_min = num\n",
    "            \n",
    "    return current_min\n",
    "\n",
    "calc_min([1, 2, 3, 10, 7])"
   ]
  },
  {
   "cell_type": "code",
   "execution_count": null,
   "metadata": {},
   "outputs": [],
   "source": [
    "# 4\n",
    "def calc_range(numbers):\n",
    "    return calc_max(numbers) - calc_min(numbers)\n",
    "\n",
    "calc_range([1, 2, 3, 10, 7])"
   ]
  },
  {
   "cell_type": "code",
   "execution_count": null,
   "metadata": {},
   "outputs": [],
   "source": [
    "# 5\n",
    "def is_sorted(numbers):\n",
    "    for ind in range(len(numbers) - 1):\n",
    "        num = numbers[ind]\n",
    "        next_num = numbers[ind + 1]\n",
    "        if num >= next_num:\n",
    "            return False\n",
    "        \n",
    "    return True\n",
    "\n",
    "print(is_sorted([1, 2, 3, 10, 7]))\n",
    "print(is_sorted([1, 2, 3, 7, 10]))"
   ]
  },
  {
   "cell_type": "code",
   "execution_count": null,
   "metadata": {},
   "outputs": [],
   "source": [
    "# 6\n",
    "\n",
    "my_list = [1, 2, 5, 4, 5, 6, 7]\n",
    "# Go through the list, one element at a time. Compare this element\n",
    "# against every element before it. If it's in this set, we have a dupe;\n",
    "# otherwise continue.\n",
    "def has_dupes(numbers):\n",
    "    for ind, num in enumerate(numbers):\n",
    "        if num in numbers[:ind]:\n",
    "            return True\n",
    "        \n",
    "    return False\n",
    "\n",
    "print(has_dupes([1, 2, 3, 10, 7]))\n",
    "print(has_dupes([1, 1, 2, 2, 10, 10]))\n"
   ]
  },
  {
   "cell_type": "code",
   "execution_count": null,
   "metadata": {
    "collapsed": true
   },
   "outputs": [],
   "source": [
    "# 7\n",
    "def has_dupes(numbers):\n",
    "    return len(numbers) != len(set(numbers))\n",
    "\n",
    "print(has_dupes([1, 2, 3, 10, 7]))\n",
    "print(has_dupes([1, 2, 3, 10, 10]))\n",
    "\n",
    "my_list = [1, 2, 3, 10, 10]\n",
    "set(my_list)"
   ]
  },
  {
   "cell_type": "code",
   "execution_count": null,
   "metadata": {},
   "outputs": [],
   "source": [
    "# 8\n",
    "def bmi_status(mass, height, is_adult=True):\n",
    "    bmi = compute_bmi(mass, height)\n",
    "    \n",
    "    if is_adult:\n",
    "        if bmi < 25:\n",
    "            status = \"NORMAL\"\n",
    "        elif bmi < 29:\n",
    "            status = \"OVERWEIGHT\"\n",
    "        else:\n",
    "            status = \"OBESE\"\n",
    "    else:\n",
    "        if bmi < 22:\n",
    "            status = \"NORMAL\"\n",
    "        elif bmi < 25:\n",
    "            status = \"OVERWEIGHT\"\n",
    "        else:\n",
    "            status = \"OBESE\"\n",
    "        \n",
    "    return status\n",
    "\n",
    "print(bmi_status(80, 1.8, True))\n",
    "print(\"------------\")\n",
    "print(bmi_status(80, 1.8, False))\n",
    "print(\"------------\")\n",
    "print(bmi_status(80, 1.8))"
   ]
  },
  {
   "cell_type": "code",
   "execution_count": null,
   "metadata": {},
   "outputs": [],
   "source": [
    "# 9\n",
    "print(bmi_status(mass=180, height=1.8))\n",
    "print(\"------------\")\n",
    "print(bmi_status(height=1.8, mass=180))"
   ]
  },
  {
   "cell_type": "code",
   "execution_count": null,
   "metadata": {
    "collapsed": true
   },
   "outputs": [],
   "source": []
  },
  {
   "cell_type": "code",
   "execution_count": null,
   "metadata": {
    "collapsed": true
   },
   "outputs": [],
   "source": []
  }
 ],
 "metadata": {
  "kernelspec": {
   "display_name": "Python 3",
   "language": "python",
   "name": "python3"
  },
  "language_info": {
   "codemirror_mode": {
    "name": "ipython",
    "version": 3
   },
   "file_extension": ".py",
   "mimetype": "text/x-python",
   "name": "python",
   "nbconvert_exporter": "python",
   "pygments_lexer": "ipython3",
   "version": "3.6.1"
  }
 },
 "nbformat": 4,
 "nbformat_minor": 2
}
