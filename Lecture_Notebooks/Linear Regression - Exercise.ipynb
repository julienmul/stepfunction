{
 "cells": [
  {
   "cell_type": "markdown",
   "metadata": {},
   "source": [
    "## Linear Regression - Exercise\n",
    "\n",
    "In this exercise, given a sample of 30 data points lying approximately on the curve $y = 2x^2 - 3$, we'd like to learn the equation of the curve from the data alone.\n",
    "\n",
    "We'll try to use a linear regression model to do this -- but note that we would expect our model to be poor, as the fundamental relationship between $x$ and $y$ is nonlinear!"
   ]
  },
  {
   "cell_type": "code",
   "execution_count": 7,
   "metadata": {
    "collapsed": true
   },
   "outputs": [],
   "source": [
    "import numpy as np"
   ]
  },
  {
   "cell_type": "code",
   "execution_count": 8,
   "metadata": {
    "collapsed": true
   },
   "outputs": [],
   "source": [
    "def generating_function(x):\n",
    "    return 2 * x**2 - 3\n",
    "\n",
    "num_samples = 30\n",
    "\n",
    "X_training = np.sort(10 * np.random.rand(num_samples))\n",
    "y_training = generating_function(X_training) + np.random.randn(num_samples)"
   ]
  },
  {
   "cell_type": "markdown",
   "metadata": {},
   "source": [
    "## Exercises\n",
    "\n",
    "1. Print out 10 samples from X_training and y_training. Remember: X_training is the input and y_training is the output.\n",
    "\n",
    "2. Draw a scatter plot of the training points. Find out what you need to import first!\n",
    "\n",
    "3. On the same plot, draw the generating function with X_training as the domain.\n",
    "\n",
    "4. Fit a LinearRegression model to the training set. Find out what you need to import first!\n",
    "\n",
    "5. Use the code below to draw a graph showing how the model itself looks compared to the actual generating function over a test set `X_test`.\n",
    "\n",
    "```\n",
    "X_test = np.linspace(0, 10, 100)\n",
    "y_test = model.predict(X_test[:, np.newaxis])\n",
    "y_actual = generating_function(X_test)\n",
    "plt.plot(X_test, y_test, label=\"Model\")\n",
    "plt.plot(X_test, y_actual, label=\"Generating Function\")\n",
    "plt.scatter(X_training, y_training, label=\"Training Points\")\n",
    "plt.xlim((0, 10))\n",
    "plt.ylim((-3, 200))\n",
    "plt.legend(loc=\"best\")\n",
    "plt.show()\n",
    "```\n",
    "\n",
    "6. Print out the coefficients of the linear model.\n",
    "\n",
    "7. Print out the mean squared error over the test set `X_test`.\n",
    "\n",
    "8. Print out the coefficient of determination $R^2$ over the test set.\n",
    "\n",
    "9. Plot the actual value of y vs. the predicted value of y over the test set."
   ]
  },
  {
   "cell_type": "code",
   "execution_count": null,
   "metadata": {
    "collapsed": true
   },
   "outputs": [],
   "source": []
  }
 ],
 "metadata": {
  "kernelspec": {
   "display_name": "Python 3",
   "language": "python",
   "name": "python3"
  },
  "language_info": {
   "codemirror_mode": {
    "name": "ipython",
    "version": 3
   },
   "file_extension": ".py",
   "mimetype": "text/x-python",
   "name": "python",
   "nbconvert_exporter": "python",
   "pygments_lexer": "ipython3",
   "version": "3.6.1"
  }
 },
 "nbformat": 4,
 "nbformat_minor": 2
}
