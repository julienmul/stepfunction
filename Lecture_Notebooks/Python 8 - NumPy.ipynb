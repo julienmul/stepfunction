{
 "cells": [
  {
   "cell_type": "code",
   "execution_count": null,
   "metadata": {
    "collapsed": true
   },
   "outputs": [],
   "source": [
    "import numpy as np"
   ]
  },
  {
   "cell_type": "code",
   "execution_count": null,
   "metadata": {},
   "outputs": [],
   "source": [
    "np.show_config()"
   ]
  },
  {
   "cell_type": "code",
   "execution_count": null,
   "metadata": {},
   "outputs": [],
   "source": [
    "# x and y are vectors\n",
    "# numpy arrays are fixed-size (unlike Python lists)\n",
    "# numpy arrays are homogeneous: all elements are coerced to the \"highest\" data type\n",
    "x = np.array([1, 2, 3, 4, 5])\n",
    "y = np.array([2.5, 4.5, 2, 1, 3])\n",
    "print(\"x * y is\", x * y)\n",
    "print(\"Data type of x is\", x.dtype)\n",
    "print(\"Data type of y is\", y.dtype)\n",
    "print(\"Dot product is\", np.dot(x, y))"
   ]
  },
  {
   "cell_type": "code",
   "execution_count": null,
   "metadata": {},
   "outputs": [],
   "source": [
    "# See https://docs.scipy.org/doc/numpy-1.13.0/reference/arrays.dtypes.html for more on numpy dtypes\n",
    "z = np.array([ 0,  1,  2,  3,  4, \"hello\"])\n",
    "print(\"Data type of z is\", z.dtype)\n",
    "\n",
    "z2 = np.array([ 0,  1,  2,  3,  4, \"I am a very long string, meaning I need more characters\"])\n",
    "print(\"Data type of z2 is\", z2.dtype)"
   ]
  },
  {
   "cell_type": "code",
   "execution_count": null,
   "metadata": {},
   "outputs": [],
   "source": [
    "# You can specify the dtype if you don't want numpy to infer it automatically.\n",
    "# Note that numpy will attempt to coerce all types into the type you specify.\n",
    "z = np.array([ 0,  1,  2,  3,  4, 5.7], dtype='int64')\n",
    "print(\"First array is\", z)\n",
    "\n",
    "z = np.array([ 0,  1,  2,  3,  4, 5.7], dtype='str')\n",
    "print(\"Second array is\", z)\n",
    "\n",
    "# uncomment the following to see what happens\n",
    "#z = np.array([ 0,  1,  2,  3,  4, 'hello'], dtype='int64')\n",
    "#print(\"Third array is\", z)"
   ]
  },
  {
   "cell_type": "code",
   "execution_count": null,
   "metadata": {},
   "outputs": [],
   "source": [
    "# 1D array (1 \"axis\")\n",
    "x = np.array([ 0,  1,  2,  3,  4])\n",
    "print(\"Shape of x is\", x.shape)\n",
    "print(\"Number of elements in x is\", x.size)\n",
    "print(\"Number of dimensions of x is\", x.ndim)"
   ]
  },
  {
   "cell_type": "code",
   "execution_count": null,
   "metadata": {},
   "outputs": [],
   "source": [
    "# Matrix = 2D array (2 \"axes\")\n",
    "x = np.array([[ 0,  1,  2,  3,  4],\n",
    "              [ 5,  6,  7,  8,  9],\n",
    "              [10, 11, 12, 13, 14]])\n",
    "\n",
    "print(\"Shape of x is\", x.shape)\n",
    "print(\"Number of elements in x is\", x.size)\n",
    "print(\"Number of dimensions of x is\", x.ndim)"
   ]
  },
  {
   "cell_type": "code",
   "execution_count": null,
   "metadata": {},
   "outputs": [],
   "source": [
    "# Element-wise operations are the default for numpy arrays\n",
    "# If we want to perform a dot product, we need to call the dot() method\n",
    "a = np.array([2, 3, 4])\n",
    "b = np.array([2.5, 4, 5])\n",
    "\n",
    "print(\"a + b is\", a + b)\n",
    "print(\"a * b is\", a * b)\n",
    "print(\"exp(a) is\", np.exp(a))\n",
    "print(\"a dot b is\", a.dot(b))"
   ]
  },
  {
   "cell_type": "code",
   "execution_count": null,
   "metadata": {},
   "outputs": [],
   "source": [
    "x = np.array([[ 0,  1],\n",
    "              [ 5,  6]])\n",
    "\n",
    "y = np.array([[ 1,  1],\n",
    "              [ 1,  1]])\n",
    "\n",
    "print(\"Element-wise multiplication:\\n\", x * y)\n",
    "print(\"Ordinary multiplication:\\n\", x.dot(y))"
   ]
  },
  {
   "cell_type": "code",
   "execution_count": null,
   "metadata": {},
   "outputs": [],
   "source": [
    "# Convenience function for creating an array of zeros\n",
    "b = np.zeros((3, 4))\n",
    "print(b)"
   ]
  },
  {
   "cell_type": "code",
   "execution_count": null,
   "metadata": {},
   "outputs": [],
   "source": [
    "# Another convenience function\n",
    "b = np.ones((3, 4))\n",
    "print(b)"
   ]
  },
  {
   "cell_type": "code",
   "execution_count": null,
   "metadata": {},
   "outputs": [],
   "source": [
    "# Another convenience function\n",
    "b = np.identity(3)\n",
    "print(b)"
   ]
  },
  {
   "cell_type": "code",
   "execution_count": null,
   "metadata": {},
   "outputs": [],
   "source": [
    "# Another convenience function\n",
    "print(\"Range is\", np.arange(12))\n",
    "b = np.arange(12).reshape(4,3)\n",
    "b"
   ]
  },
  {
   "cell_type": "code",
   "execution_count": null,
   "metadata": {},
   "outputs": [],
   "source": [
    "# Another convenience function: 9 numbers from 1 to 5 inclusive\n",
    "b = np.linspace(1, 5, 9)\n",
    "print(b)"
   ]
  },
  {
   "cell_type": "code",
   "execution_count": null,
   "metadata": {},
   "outputs": [],
   "source": [
    "# Generating a random matrix\n",
    "b = np.random.random((3, 4))\n",
    "b"
   ]
  },
  {
   "cell_type": "code",
   "execution_count": null,
   "metadata": {
    "collapsed": true
   },
   "outputs": [],
   "source": [
    "x = np.arange(10)"
   ]
  },
  {
   "cell_type": "code",
   "execution_count": null,
   "metadata": {},
   "outputs": [],
   "source": [
    "list(x)"
   ]
  },
  {
   "cell_type": "code",
   "execution_count": null,
   "metadata": {},
   "outputs": [],
   "source": [
    "list(x[3:5])"
   ]
  },
  {
   "cell_type": "code",
   "execution_count": null,
   "metadata": {},
   "outputs": [],
   "source": [
    "b = np.random.random((3, 4))\n",
    "b"
   ]
  },
  {
   "cell_type": "code",
   "execution_count": null,
   "metadata": {},
   "outputs": [],
   "source": [
    "# Access element at row 1, column 2\n",
    "b[1, 2]"
   ]
  },
  {
   "cell_type": "code",
   "execution_count": null,
   "metadata": {},
   "outputs": [],
   "source": [
    "b[0,0]"
   ]
  },
  {
   "cell_type": "code",
   "execution_count": null,
   "metadata": {},
   "outputs": [],
   "source": [
    "b[0,1]"
   ]
  },
  {
   "cell_type": "code",
   "execution_count": null,
   "metadata": {},
   "outputs": [],
   "source": [
    "# Give me row 1, columns 2 and 3\n",
    "b[1,2:4]"
   ]
  },
  {
   "cell_type": "code",
   "execution_count": null,
   "metadata": {
    "collapsed": true
   },
   "outputs": [],
   "source": [
    "arr = np.array([10, 20, 2, 43, 4, 1, 0, 1, 43])"
   ]
  },
  {
   "cell_type": "code",
   "execution_count": null,
   "metadata": {},
   "outputs": [],
   "source": [
    "# Give me every element in arr that is bigger than 9\n",
    "arr[arr > 9]"
   ]
  },
  {
   "cell_type": "code",
   "execution_count": null,
   "metadata": {},
   "outputs": [],
   "source": [
    "# Give me the index of every element in arr that is bigger than 9\n",
    "np.where(arr > 9)"
   ]
  },
  {
   "cell_type": "code",
   "execution_count": null,
   "metadata": {},
   "outputs": [],
   "source": [
    "# Give me every element in arr that is either bigger than 9\n",
    "# or smaller than 1\n",
    "arr[(arr > 9) | (arr < 1)]"
   ]
  },
  {
   "cell_type": "code",
   "execution_count": null,
   "metadata": {},
   "outputs": [],
   "source": [
    "# Give me every even number in arr that less than 9\n",
    "arr[(arr < 9) & (arr % 2 == 0)]"
   ]
  },
  {
   "cell_type": "code",
   "execution_count": null,
   "metadata": {},
   "outputs": [],
   "source": [
    "# Give me every odd number in arr bigger than 5\n",
    "arr[(arr > 5) & (arr % 2 != 0)]"
   ]
  },
  {
   "cell_type": "code",
   "execution_count": null,
   "metadata": {},
   "outputs": [],
   "source": [
    "# True if true for *all* elements in arr\n",
    "np.all(arr > 3)"
   ]
  },
  {
   "cell_type": "code",
   "execution_count": null,
   "metadata": {},
   "outputs": [],
   "source": [
    "# True if true for *any* element in arr\n",
    "np.any(arr > 3)"
   ]
  },
  {
   "cell_type": "code",
   "execution_count": null,
   "metadata": {},
   "outputs": [],
   "source": [
    "# Select out the 1st and 3rd elements from arr\n",
    "arr[[True, False, True, False, False, False, False, False, False]]"
   ]
  },
  {
   "cell_type": "code",
   "execution_count": null,
   "metadata": {},
   "outputs": [],
   "source": [
    "# Maximum value in arr\n",
    "np.max(arr)"
   ]
  },
  {
   "cell_type": "code",
   "execution_count": null,
   "metadata": {},
   "outputs": [],
   "source": [
    "# Index of maximum value in arr (always picks the first index)\n",
    "np.argmax(arr)"
   ]
  },
  {
   "cell_type": "code",
   "execution_count": null,
   "metadata": {
    "collapsed": true
   },
   "outputs": [],
   "source": [
    "# Google for 'argsort' and 'argpartition' and figure out how to use these functions"
   ]
  }
 ],
 "metadata": {
  "kernelspec": {
   "display_name": "Python 3",
   "language": "python",
   "name": "python3"
  },
  "language_info": {
   "codemirror_mode": {
    "name": "ipython",
    "version": 3
   },
   "file_extension": ".py",
   "mimetype": "text/x-python",
   "name": "python",
   "nbconvert_exporter": "python",
   "pygments_lexer": "ipython3",
   "version": "3.6.1"
  }
 },
 "nbformat": 4,
 "nbformat_minor": 2
}
