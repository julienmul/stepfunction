{
 "cells": [
  {
   "cell_type": "code",
   "execution_count": 1,
   "metadata": {
    "collapsed": true
   },
   "outputs": [],
   "source": [
    "# Opening a text file and adding its contents to a list\n",
    "with open('fruit.txt') as f:\n",
    "    fruits = []\n",
    "    for line in f:\n",
    "        fruits.append(line.rstrip())"
   ]
  },
  {
   "cell_type": "code",
   "execution_count": 2,
   "metadata": {},
   "outputs": [
    {
     "data": {
      "text/plain": [
       "['apple', 'banana', 'orange', 'mango']"
      ]
     },
     "execution_count": 2,
     "metadata": {},
     "output_type": "execute_result"
    }
   ],
   "source": [
    "fruits"
   ]
  },
  {
   "cell_type": "code",
   "execution_count": 3,
   "metadata": {
    "collapsed": true
   },
   "outputs": [],
   "source": [
    "# Writing from a list into a text file\n",
    "animals = ['cat', 'dog', 'giraffe', 'lion']\n",
    "with open('animals.txt', 'w') as f:\n",
    "    for animal in animals:\n",
    "        f.write(animal + \"\\n\")"
   ]
  },
  {
   "cell_type": "code",
   "execution_count": 4,
   "metadata": {
    "collapsed": true,
    "scrolled": true
   },
   "outputs": [],
   "source": [
    "# Reading data from a CSV file\n",
    "import csv\n",
    "csv_lines = []\n",
    "with open('academic_sites.csv') as f:\n",
    "    reader = csv.reader(f)\n",
    "    for line in reader:\n",
    "        csv_lines.append(line)\n",
    "        \n",
    "header = csv_lines[0]\n",
    "data = csv_lines[1:]"
   ]
  },
  {
   "cell_type": "code",
   "execution_count": 5,
   "metadata": {},
   "outputs": [
    {
     "data": {
      "text/plain": [
       "['Site', 'Count']"
      ]
     },
     "execution_count": 5,
     "metadata": {},
     "output_type": "execute_result"
    }
   ],
   "source": [
    "header"
   ]
  },
  {
   "cell_type": "code",
   "execution_count": 6,
   "metadata": {},
   "outputs": [
    {
     "data": {
      "text/plain": [
       "[['twitter.com', '8'],\n",
       " ['theconversation.com', '6'],\n",
       " ['rschoolgroup.org', '3'],\n",
       " ['journals.lww.com', '3'],\n",
       " ['harperacademic.tumblr.com', '2'],\n",
       " ['www.ivpress.com', '2'],\n",
       " ['www.cfr.org', '2'],\n",
       " ['in.reuters.com', '2'],\n",
       " ['soundcloud.com', '2'],\n",
       " ['www.templehealth.org', '2'],\n",
       " ['blog.oup.com', '2'],\n",
       " ['cdn.bakerpublishinggroup.com', '2'],\n",
       " ['flipboard.com', '2'],\n",
       " ['www.aliem.com', '1'],\n",
       " ['www.combinedacademic.co.uk', '1'],\n",
       " ['www.harpercollins.com', '1'],\n",
       " ['bookscombined.com', '1'],\n",
       " ['zondervanacademic.com', '1'],\n",
       " ['education.olivet.edu', '1'],\n",
       " ['www.cambridge.org', '1'],\n",
       " ['www.stm-publishing.com', '1'],\n",
       " ['www.evensi.uk', '1'],\n",
       " ['www.youtube.com', '1'],\n",
       " ['www.twittascope.com', '1'],\n",
       " ['www.ed.ac.uk', '1'],\n",
       " ['www.newmuslimacademy.org', '1'],\n",
       " ['www.huffingtonpost.com', '1'],\n",
       " ['webtv.un.org', '1'],\n",
       " ['www.academicwino.com', '1'],\n",
       " ['www.gold.ac.uk', '1'],\n",
       " ['www.unhcr.org', '1'],\n",
       " ['munews.missouri.edu', '1'],\n",
       " ['refugeesmigrants.un.org', '1'],\n",
       " ['pres-outlook.org', '1'],\n",
       " ['blogs.lse.ac.uk', '1'],\n",
       " ['blogs.cfr.org', '1'],\n",
       " ['uk.ign.com', '1'],\n",
       " ['www.nytimes.com', '1']]"
      ]
     },
     "execution_count": 6,
     "metadata": {},
     "output_type": "execute_result"
    }
   ],
   "source": [
    "data"
   ]
  },
  {
   "cell_type": "code",
   "execution_count": 7,
   "metadata": {
    "collapsed": true
   },
   "outputs": [],
   "source": [
    "# Reading data from a JSON file\n",
    "import json\n",
    "with open('coursera_data.json') as f:\n",
    "    coursera_data = json.load(f)\n"
   ]
  },
  {
   "cell_type": "code",
   "execution_count": 8,
   "metadata": {},
   "outputs": [
    {
     "data": {
      "text/plain": [
       "dict"
      ]
     },
     "execution_count": 8,
     "metadata": {},
     "output_type": "execute_result"
    }
   ],
   "source": [
    "type(coursera_data)"
   ]
  },
  {
   "cell_type": "code",
   "execution_count": 9,
   "metadata": {},
   "outputs": [
    {
     "data": {
      "text/plain": [
       "dict_keys(['courses'])"
      ]
     },
     "execution_count": 9,
     "metadata": {},
     "output_type": "execute_result"
    }
   ],
   "source": [
    "coursera_data.keys()"
   ]
  },
  {
   "cell_type": "code",
   "execution_count": 10,
   "metadata": {},
   "outputs": [
    {
     "data": {
      "text/plain": [
       "dict_keys(['subtitleLanguages', 'partnerIds', 'slug', 'courseType', 'description', 'instructorIds', 'primaryLanguages', 'domainTypes', 'startDate', 'id', 'name', 'workload', 's12nIds', 'certificates', 'photoUrl'])"
      ]
     },
     "execution_count": 10,
     "metadata": {},
     "output_type": "execute_result"
    }
   ],
   "source": [
    "coursera_data['courses'][20].keys()"
   ]
  },
  {
   "cell_type": "code",
   "execution_count": 11,
   "metadata": {},
   "outputs": [
    {
     "data": {
      "text/plain": [
       "{'certificates': ['VerifiedCert'],\n",
       " 'courseType': 'v2.ondemand',\n",
       " 'description': \"Gamification is the application of game elements and digital game design techniques to non-game problems, such as business and social impact challenges. This course will teach you the mechanisms of gamification, why it has such tremendous potential, and how to use it effectively. For additional information on the concepts described in the course, you can purchase Professor Werbach's book For the Win: How Game Thinking Can Revolutionize Your Business in print or ebook format in several languages.\",\n",
       " 'domainTypes': [{'domainId': 'computer-science',\n",
       "   'subdomainId': 'design-and-product'},\n",
       "  {'domainId': 'business', 'subdomainId': 'marketing'}],\n",
       " 'id': '69Bku0KoEeWZtA4u62x6lQ',\n",
       " 'instructorIds': ['226710'],\n",
       " 'name': 'Gamification',\n",
       " 'partnerIds': ['6'],\n",
       " 'photoUrl': 'https://d3njjcbhbojbot.cloudfront.net/api/utilities/v1/imageproxy/https://coursera.s3.amazonaws.com/topics/gamification/large-icon.png',\n",
       " 'primaryLanguages': ['en'],\n",
       " 's12nIds': [],\n",
       " 'slug': 'gamification',\n",
       " 'startDate': 1447095621493,\n",
       " 'subtitleLanguages': ['uk', 'zh-CN', 'vi', 'ru', 'tr', 'kk'],\n",
       " 'workload': '4-8 hours/week'}"
      ]
     },
     "execution_count": 11,
     "metadata": {},
     "output_type": "execute_result"
    }
   ],
   "source": [
    "coursera_data['courses'][0]"
   ]
  },
  {
   "cell_type": "code",
   "execution_count": 12,
   "metadata": {
    "collapsed": true
   },
   "outputs": [],
   "source": [
    "# Writing data to a JSON file\n",
    "import json\n",
    "stock = {\n",
    "    \"banana\": 6,\n",
    "    \"apple\": 0,\n",
    "    \"orange\": 32,\n",
    "    \"pear\": 15\n",
    "}\n",
    "\n",
    "with open('stock.json', 'w') as f:\n",
    "    json.dump(stock, f)"
   ]
  },
  {
   "cell_type": "code",
   "execution_count": null,
   "metadata": {
    "collapsed": true
   },
   "outputs": [],
   "source": []
  }
 ],
 "metadata": {
  "kernelspec": {
   "display_name": "Python 3",
   "language": "python",
   "name": "python3"
  },
  "language_info": {
   "codemirror_mode": {
    "name": "ipython",
    "version": 3
   },
   "file_extension": ".py",
   "mimetype": "text/x-python",
   "name": "python",
   "nbconvert_exporter": "python",
   "pygments_lexer": "ipython3",
   "version": "3.6.3"
  }
 },
 "nbformat": 4,
 "nbformat_minor": 2
}
