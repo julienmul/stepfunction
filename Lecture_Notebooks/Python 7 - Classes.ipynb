{
 "cells": [
  {
   "cell_type": "markdown",
   "metadata": {},
   "source": [
    "## Classes and OOP\n",
    "\n",
    "Python supports programming in a **object-oriented** style. So far we've seen **procedural programming** where we divide up tasks into individual functions, and each function operates on data.\n",
    "\n",
    "In procedural programming, **functions** are the building blocks of programs.\n",
    "\n",
    "\n",
    "In object-oriented programming (OOP), **objects** are the building blocks of programs.\n",
    "\n",
    "### What's an object?\n",
    "\n",
    "An object packages both **data** and **functionality** (or **behaviour**). Usually, objects correspond to real-world concepts. For example, a `Rectangle` object might contain `width` and `height` **data** attributes, and provide `area()` and `perimeter()` **functions**.\n",
    "\n",
    "### What's a class?\n",
    "\n",
    "A class is a \"blueprint\" for creating an object. In the following code, we first create a `Rectangle` class and then use this blueprint to create an actual object, called `rect`.\n",
    "\n",
    "Another way of thinking of classes is that they allow you to create your own types; in principle you could create your own `String`, `List` and `Dict` classes that provide all the functionality of the built-in types."
   ]
  },
  {
   "cell_type": "code",
   "execution_count": 1,
   "metadata": {},
   "outputs": [
    {
     "data": {
      "text/plain": [
       "(5, 10)"
      ]
     },
     "execution_count": 1,
     "metadata": {},
     "output_type": "execute_result"
    }
   ],
   "source": [
    "# Define a Rectangle class. This contains two attributes: width and height.\n",
    "# __init__() is a special function called an *initialiser*. It sets up the\n",
    "# attributes for this class.\n",
    "# self is a parameter that refers to the current Rectangle instance.\n",
    "# When we say self.width = width, it means we are putting the value of width\n",
    "# into the width attribute of the Rectangle instance.\n",
    "class Rectangle:\n",
    "    def __init__(self, width, height):\n",
    "        self.width = width\n",
    "        self.height = height\n",
    "\n",
    "# Create a Rectangle object. This is a specific instance of the Rectangle class.\n",
    "# We can create as many instances as we like with different widths and heights.\n",
    "rect = Rectangle(width=5, height=10)     # this calls __init__() implicitly\n",
    "rect.width, rect.height"
   ]
  },
  {
   "cell_type": "code",
   "execution_count": 2,
   "metadata": {},
   "outputs": [
    {
     "data": {
      "text/plain": [
       "(3, 7)"
      ]
     },
     "execution_count": 2,
     "metadata": {},
     "output_type": "execute_result"
    }
   ],
   "source": [
    "# We can make as many rectangles as we like using this Rectangle blueprint\n",
    "rect2 = Rectangle(width=3, height=7)\n",
    "rect2.width, rect2.height"
   ]
  },
  {
   "cell_type": "code",
   "execution_count": 3,
   "metadata": {},
   "outputs": [
    {
     "data": {
      "text/plain": [
       "(12, 14, 24, 42)"
      ]
     },
     "execution_count": 3,
     "metadata": {},
     "output_type": "execute_result"
    }
   ],
   "source": [
    "# Let's put some *methods* into our Rectangle class. A method is a function\n",
    "# that \"belongs\" to a class; it gives the class objects *behaviour*.\n",
    "# A method is basically a function that belongs to a class.\n",
    "\n",
    "class Rectangle:\n",
    "    def __init__(self, width, height):\n",
    "        self.width = width\n",
    "        self.height = height\n",
    "        \n",
    "    def area(self):\n",
    "        return self.width * self.height\n",
    "    \n",
    "    def perimeter(self):\n",
    "        return 2 * (self.width + self.height)\n",
    "    \n",
    "    def multiple_area(self, multiple):\n",
    "        return self.width * self.height * multiple\n",
    "    \n",
    "    def multiple_perimeter(self, multiple):\n",
    "        return self.perimeter() * multiple\n",
    "    \n",
    "rect = Rectangle(width=3, height=4)\n",
    "rect.area(), rect.perimeter(), rect.multiple_area(2), rect.multiple_perimeter(3)"
   ]
  },
  {
   "cell_type": "markdown",
   "metadata": {},
   "source": [
    "## Exercises\n",
    "1. Create a `Circle` class with one attribute (`radius`) and two methods (`area()` and `circumference()`). Test this by creating an instance of the `Circle` class and calling its methods. (You can get the value of `pi` using `from math import pi`).\n",
    "\n",
    "2. Create a `Patient` class with four attributes (`height`, `mass`, `is_adult`, `hospital_name`) and one method (`bmi_status()`). Test this by creating an instance of the `Patient` class and calling `bmi_status()`."
   ]
  },
  {
   "cell_type": "code",
   "execution_count": 4,
   "metadata": {},
   "outputs": [
    {
     "data": {
      "text/plain": [
       "('Ford', 'Focus', 4, 4)"
      ]
     },
     "execution_count": 4,
     "metadata": {},
     "output_type": "execute_result"
    }
   ],
   "source": [
    "# In this example, notice that we now have a *class* attribute ('wheels')\n",
    "# in addition to normal attributes ('make' and 'model'). Because all cars\n",
    "# have 4 wheels, we don't expect this to change from one Car instance to \n",
    "# another so we make 'wheels' a class attribute. Class attributes are shared\n",
    "# between all class instances.\n",
    "\n",
    "class Car:\n",
    "    wheels = 4\n",
    "\n",
    "    def __init__(self, make, model):\n",
    "        self.make = make\n",
    "        self.model = model\n",
    "        \n",
    "# Notice that we can use Car.wheels as well as my_car.wheels, because 'wheels'\n",
    "# belongs to the *class*, not any specific instance.\n",
    "my_car = Car(make=\"Ford\", model=\"Focus\")\n",
    "my_car.make, my_car.model, my_car.wheels, Car.wheels\n",
    "\n",
    "# Note that the following won't work\n",
    "#Car.make"
   ]
  },
  {
   "cell_type": "markdown",
   "metadata": {},
   "source": [
    "## Inheritance\n",
    "\n",
    "Let's say we now want to create a `Truck` class in addition to our `Car` class. You would expect these classes to almost be identical.\n",
    "\n",
    "We could copy and paste our `Car` class to create `Truck`, but this would violate the DRY (Don't Repeat Yourself) principle.\n",
    "\n",
    "Instead, we will use the notion of **inheritance** to solve this problem. We'll define a new **parent** class called `Vehicle` with two **children** classes, `Truck` and `Car`, that inherit data and functionality from the parent.\n",
    "\n",
    "Common data and behaviour will be put in the parent class `Vehicle`, and data and behaviour specific to `Car`s and `Truck`s will be put in the child classes."
   ]
  },
  {
   "cell_type": "code",
   "execution_count": 5,
   "metadata": {},
   "outputs": [
    {
     "name": "stdout",
     "output_type": "stream",
     "text": [
      "car\n",
      "20000.0\n"
     ]
    }
   ],
   "source": [
    "# This is the parent or \"base\" class. It contains data and functionality common\n",
    "# to all vehicles.\n",
    "class Vehicle:\n",
    "    base_sale_price = 0\n",
    "    wheels = 0\n",
    "\n",
    "    def __init__(self, miles, make, model, year, sold_on):\n",
    "        self.miles = miles\n",
    "        self.make = make\n",
    "        self.model = model\n",
    "        self.year = year\n",
    "        self.sold_on = sold_on\n",
    "\n",
    "    def sale_price(self):\n",
    "        \"\"\"Return the sale price for this vehicle as a float amount.\"\"\"\n",
    "        if self.sold_on:\n",
    "            return 0.0  # Already sold\n",
    "        return 5000.0 * self.wheels\n",
    "\n",
    "    def purchase_price(self):\n",
    "        \"\"\"Return the price for which we would pay to purchase the vehicle.\"\"\"\n",
    "        if not self.sold_on:\n",
    "            return 0.0  # Not yet sold\n",
    "        return self.base_sale_price - (.10 * self.miles)\n",
    "\n",
    "    def vehicle_type(self):\n",
    "        \"\"\"Return a string representing the type of vehicle this is.\"\"\"\n",
    "        raise NotImplementedError(\"Vehicle class instances don't have a vehicle type\")\n",
    "        \n",
    "# Car inherits from Vehicle. Notice that the base sale price of a Car and Truck are\n",
    "# different, as is the vehicle type.\n",
    "# Also notice that the vehicle_type() method of Car and Truck *override* the parent\n",
    "# Vehicle's implementation. In other words, if any data/methods appear in both Car\n",
    "# and Vehicle, the child's (i.e. Car's) versions will supersede the versions of the\n",
    "# parent.\n",
    "class Car(Vehicle):\n",
    "    base_sale_price = 8000\n",
    "    wheels = 4\n",
    "\n",
    "    def vehicle_type(self):\n",
    "        \"\"\"Return a string representing the type of vehicle this is.\"\"\"\n",
    "        return 'car'\n",
    "\n",
    "class Truck(Vehicle):\n",
    "    base_sale_price = 10000\n",
    "    wheels = 4\n",
    "\n",
    "    def vehicle_type(self):\n",
    "        \"\"\"Return a string representing the type of vehicle this is.\"\"\"\n",
    "        return 'truck'\n",
    "\n",
    "# Notice that Car *inherits* the __init__() function from Vehicle\n",
    "car = Car(miles=20000, make='Ford', model='Focus', year=2015, sold_on=False)\n",
    "\n",
    "print(car.vehicle_type())    # You can access any data/methods defined in Car...\n",
    "print(car.sale_price())      # ...and any data/methods defined in the parent Vehicle class\n",
    "\n",
    "# Uncomment the following to see what it does\n",
    "#vehicle = Vehicle(miles=20000, make='Ford', model='Focus', year=2015, sold_on=False)\n",
    "#vehicle.vehicle_type()"
   ]
  },
  {
   "cell_type": "markdown",
   "metadata": {},
   "source": [
    "## Exercise\n",
    "\n",
    "Imagine you own a pet shop selling three types of animals: Cats, Dogs and Snakes.\n",
    "\n",
    "Design some classes to help you keep track of your animals. Specifically:\n",
    "* Create an `Animal` base class and `Cat`, `Dog` and `Snake` child classes\n",
    "* Store the price of each animal\n",
    "* Store the number of times each animal has seen a vet (`num_vet_visits`)\n",
    "* Store whether or not the animal is a mammal\n",
    "* Store the number of legs of the animal\n",
    "* Write a method `animal_type()` that returns the type of the animal ('cat', 'dog' or 'snake')\n",
    "* Write a method `seen_vet()` that increments `num_vet_visits` by 1\n",
    "* Write a method `discount_price()` that applies a discount of 20% to the current price of the animal\n",
    "\n",
    "Test the methods you have written to ensure they work.\n",
    "\n",
    "Think carefully about what data and methods should be put in the base `Animal` class vs. its children. REMEMBER: Common functionality goes in the base class!"
   ]
  },
  {
   "cell_type": "markdown",
   "metadata": {},
   "source": [
    "### super()\n",
    "\n",
    "If we're inside a derived class and we need to access methods from the base class, we can do so using `super()`. This is particularly useful when we want to call the initialiser for the base class, as in the following example...\n",
    "\n",
    "(Parent class = superclass.)\n"
   ]
  },
  {
   "cell_type": "code",
   "execution_count": 6,
   "metadata": {},
   "outputs": [
    {
     "name": "stdout",
     "output_type": "stream",
     "text": [
      "Square dimensions are 3 3\n",
      "Area of square is 9\n"
     ]
    }
   ],
   "source": [
    "class Rectangle:\n",
    "    def __init__(self, width, height):\n",
    "        self.width = width\n",
    "        self.height = height\n",
    "        \n",
    "    def area(self):\n",
    "        return self.width * self.height\n",
    "        \n",
    "class Square(Rectangle):\n",
    "    def __init__(self, width):\n",
    "        super().__init__(width, width)\n",
    "        \n",
    "    # Slightly artificial example -- there's no need to override area() in this case!\n",
    "    def area(self):\n",
    "        return super().area()\n",
    "\n",
    "square = Square(width=3)\n",
    "print(\"Square dimensions are\", square.width, square.height)\n",
    "\n",
    "print(\"Area of square is\", square.area())"
   ]
  },
  {
   "cell_type": "markdown",
   "metadata": {},
   "source": [
    "### Terminology\n",
    "\n",
    "* What is a class?\n",
    "* What is an object?\n",
    "* What is a class \"instance\" attribute?\n",
    "* What is a class attribute?\n",
    "* What is a class method?\n",
    "* What is an initialiser?\n",
    "* What does `self` mean inside a class?\n",
    "* What is a base class?\n",
    "* What is a parent class?\n",
    "* What does `super()` do?"
   ]
  }
 ],
 "metadata": {
  "kernelspec": {
   "display_name": "Python 3",
   "language": "python",
   "name": "python3"
  },
  "language_info": {
   "codemirror_mode": {
    "name": "ipython",
    "version": 3
   },
   "file_extension": ".py",
   "mimetype": "text/x-python",
   "name": "python",
   "nbconvert_exporter": "python",
   "pygments_lexer": "ipython3",
   "version": "3.6.3"
  }
 },
 "nbformat": 4,
 "nbformat_minor": 2
}
